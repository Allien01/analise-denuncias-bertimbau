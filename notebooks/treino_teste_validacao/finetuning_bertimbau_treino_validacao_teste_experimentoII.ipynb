{
 "cells": [
  {
   "cell_type": "markdown",
   "metadata": {
    "id": "1Kkt3yw00IoE"
   },
   "source": [
    "@inproceedings{souza2020bertimbau,\n",
    "  author    = {F{\\'a}bio Souza and\n",
    "               Rodrigo Nogueira and\n",
    "               Roberto Lotufo},\n",
    "  title     = {{BERT}imbau: pretrained {BERT} models for {B}razilian {P}ortuguese},\n",
    "  booktitle = {9th Brazilian Conference on Intelligent Systems, {BRACIS}, Rio Grande do Sul, Brazil, October 20-23 (to appear)},\n",
    "  year      = {2020}\n",
    "}\n"
   ]
  },
  {
   "cell_type": "markdown",
   "metadata": {
    "id": "j6yWjyiwu4vI"
   },
   "source": [
    "# **Conectando ao Google Drive**\n",
    "\n",
    "Para acessar e carregar os dados necessários para o projeto, montamos o Google Drive. Isso permite que o notebook leia arquivos diretamente de uma pasta em sua conta, facilitando o gerenciamento e a persistência dos dados entre diferentes sessões. O comando a seguir solicita permissão para conectar o"
   ]
  },
  {
   "cell_type": "code",
   "execution_count": null,
   "metadata": {
    "colab": {
     "base_uri": "https://localhost:8080/"
    },
    "id": "Ey0-HM5ocnvu",
    "outputId": "952c1815-f6dc-4bea-d4fe-583923280c67"
   },
   "outputs": [
    {
     "name": "stdout",
     "output_type": "stream",
     "text": [
      "Mounted at /content/drive\n"
     ]
    }
   ],
   "source": [
    "from google.colab import drive\n",
    "drive.mount('/content/drive')"
   ]
  },
  {
   "cell_type": "code",
   "execution_count": null,
   "metadata": {
    "colab": {
     "base_uri": "https://localhost:8080/"
    },
    "id": "XcTbLWwTr74s",
    "outputId": "e7810a61-18d7-4123-de03-e2f4afa775f9"
   },
   "outputs": [
    {
     "name": "stdout",
     "output_type": "stream",
     "text": [
      "Requirement already satisfied: transformers in /usr/local/lib/python3.12/dist-packages (4.56.1)\n",
      "Collecting evaluate\n",
      "  Downloading evaluate-0.4.6-py3-none-any.whl.metadata (9.5 kB)\n",
      "Requirement already satisfied: accelerate in /usr/local/lib/python3.12/dist-packages (1.10.1)\n",
      "Requirement already satisfied: filelock in /usr/local/lib/python3.12/dist-packages (from transformers) (3.19.1)\n",
      "Requirement already satisfied: huggingface-hub<1.0,>=0.34.0 in /usr/local/lib/python3.12/dist-packages (from transformers) (0.35.0)\n",
      "Requirement already satisfied: numpy>=1.17 in /usr/local/lib/python3.12/dist-packages (from transformers) (2.0.2)\n",
      "Requirement already satisfied: packaging>=20.0 in /usr/local/lib/python3.12/dist-packages (from transformers) (25.0)\n",
      "Requirement already satisfied: pyyaml>=5.1 in /usr/local/lib/python3.12/dist-packages (from transformers) (6.0.2)\n",
      "Requirement already satisfied: regex!=2019.12.17 in /usr/local/lib/python3.12/dist-packages (from transformers) (2024.11.6)\n",
      "Requirement already satisfied: requests in /usr/local/lib/python3.12/dist-packages (from transformers) (2.32.4)\n",
      "Requirement already satisfied: tokenizers<=0.23.0,>=0.22.0 in /usr/local/lib/python3.12/dist-packages (from transformers) (0.22.0)\n",
      "Requirement already satisfied: safetensors>=0.4.3 in /usr/local/lib/python3.12/dist-packages (from transformers) (0.6.2)\n",
      "Requirement already satisfied: tqdm>=4.27 in /usr/local/lib/python3.12/dist-packages (from transformers) (4.67.1)\n",
      "Requirement already satisfied: datasets>=2.0.0 in /usr/local/lib/python3.12/dist-packages (from evaluate) (4.0.0)\n",
      "Requirement already satisfied: dill in /usr/local/lib/python3.12/dist-packages (from evaluate) (0.3.8)\n",
      "Requirement already satisfied: pandas in /usr/local/lib/python3.12/dist-packages (from evaluate) (2.2.2)\n",
      "Requirement already satisfied: xxhash in /usr/local/lib/python3.12/dist-packages (from evaluate) (3.5.0)\n",
      "Requirement already satisfied: multiprocess in /usr/local/lib/python3.12/dist-packages (from evaluate) (0.70.16)\n",
      "Requirement already satisfied: fsspec>=2021.05.0 in /usr/local/lib/python3.12/dist-packages (from fsspec[http]>=2021.05.0->evaluate) (2025.3.0)\n",
      "Requirement already satisfied: psutil in /usr/local/lib/python3.12/dist-packages (from accelerate) (5.9.5)\n",
      "Requirement already satisfied: torch>=2.0.0 in /usr/local/lib/python3.12/dist-packages (from accelerate) (2.8.0+cu126)\n",
      "Requirement already satisfied: pyarrow>=15.0.0 in /usr/local/lib/python3.12/dist-packages (from datasets>=2.0.0->evaluate) (18.1.0)\n",
      "Requirement already satisfied: aiohttp!=4.0.0a0,!=4.0.0a1 in /usr/local/lib/python3.12/dist-packages (from fsspec[http]>=2021.05.0->evaluate) (3.12.15)\n",
      "Requirement already satisfied: typing-extensions>=3.7.4.3 in /usr/local/lib/python3.12/dist-packages (from huggingface-hub<1.0,>=0.34.0->transformers) (4.15.0)\n",
      "Requirement already satisfied: hf-xet<2.0.0,>=1.1.3 in /usr/local/lib/python3.12/dist-packages (from huggingface-hub<1.0,>=0.34.0->transformers) (1.1.10)\n",
      "Requirement already satisfied: charset_normalizer<4,>=2 in /usr/local/lib/python3.12/dist-packages (from requests->transformers) (3.4.3)\n",
      "Requirement already satisfied: idna<4,>=2.5 in /usr/local/lib/python3.12/dist-packages (from requests->transformers) (3.10)\n",
      "Requirement already satisfied: urllib3<3,>=1.21.1 in /usr/local/lib/python3.12/dist-packages (from requests->transformers) (2.5.0)\n",
      "Requirement already satisfied: certifi>=2017.4.17 in /usr/local/lib/python3.12/dist-packages (from requests->transformers) (2025.8.3)\n",
      "Requirement already satisfied: setuptools in /usr/local/lib/python3.12/dist-packages (from torch>=2.0.0->accelerate) (75.2.0)\n",
      "Requirement already satisfied: sympy>=1.13.3 in /usr/local/lib/python3.12/dist-packages (from torch>=2.0.0->accelerate) (1.13.3)\n",
      "Requirement already satisfied: networkx in /usr/local/lib/python3.12/dist-packages (from torch>=2.0.0->accelerate) (3.5)\n",
      "Requirement already satisfied: jinja2 in /usr/local/lib/python3.12/dist-packages (from torch>=2.0.0->accelerate) (3.1.6)\n",
      "Requirement already satisfied: nvidia-cuda-nvrtc-cu12==12.6.77 in /usr/local/lib/python3.12/dist-packages (from torch>=2.0.0->accelerate) (12.6.77)\n",
      "Requirement already satisfied: nvidia-cuda-runtime-cu12==12.6.77 in /usr/local/lib/python3.12/dist-packages (from torch>=2.0.0->accelerate) (12.6.77)\n",
      "Requirement already satisfied: nvidia-cuda-cupti-cu12==12.6.80 in /usr/local/lib/python3.12/dist-packages (from torch>=2.0.0->accelerate) (12.6.80)\n",
      "Requirement already satisfied: nvidia-cudnn-cu12==9.10.2.21 in /usr/local/lib/python3.12/dist-packages (from torch>=2.0.0->accelerate) (9.10.2.21)\n",
      "Requirement already satisfied: nvidia-cublas-cu12==12.6.4.1 in /usr/local/lib/python3.12/dist-packages (from torch>=2.0.0->accelerate) (12.6.4.1)\n",
      "Requirement already satisfied: nvidia-cufft-cu12==11.3.0.4 in /usr/local/lib/python3.12/dist-packages (from torch>=2.0.0->accelerate) (11.3.0.4)\n",
      "Requirement already satisfied: nvidia-curand-cu12==10.3.7.77 in /usr/local/lib/python3.12/dist-packages (from torch>=2.0.0->accelerate) (10.3.7.77)\n",
      "Requirement already satisfied: nvidia-cusolver-cu12==11.7.1.2 in /usr/local/lib/python3.12/dist-packages (from torch>=2.0.0->accelerate) (11.7.1.2)\n",
      "Requirement already satisfied: nvidia-cusparse-cu12==12.5.4.2 in /usr/local/lib/python3.12/dist-packages (from torch>=2.0.0->accelerate) (12.5.4.2)\n",
      "Requirement already satisfied: nvidia-cusparselt-cu12==0.7.1 in /usr/local/lib/python3.12/dist-packages (from torch>=2.0.0->accelerate) (0.7.1)\n",
      "Requirement already satisfied: nvidia-nccl-cu12==2.27.3 in /usr/local/lib/python3.12/dist-packages (from torch>=2.0.0->accelerate) (2.27.3)\n",
      "Requirement already satisfied: nvidia-nvtx-cu12==12.6.77 in /usr/local/lib/python3.12/dist-packages (from torch>=2.0.0->accelerate) (12.6.77)\n",
      "Requirement already satisfied: nvidia-nvjitlink-cu12==12.6.85 in /usr/local/lib/python3.12/dist-packages (from torch>=2.0.0->accelerate) (12.6.85)\n",
      "Requirement already satisfied: nvidia-cufile-cu12==1.11.1.6 in /usr/local/lib/python3.12/dist-packages (from torch>=2.0.0->accelerate) (1.11.1.6)\n",
      "Requirement already satisfied: triton==3.4.0 in /usr/local/lib/python3.12/dist-packages (from torch>=2.0.0->accelerate) (3.4.0)\n",
      "Requirement already satisfied: python-dateutil>=2.8.2 in /usr/local/lib/python3.12/dist-packages (from pandas->evaluate) (2.9.0.post0)\n",
      "Requirement already satisfied: pytz>=2020.1 in /usr/local/lib/python3.12/dist-packages (from pandas->evaluate) (2025.2)\n",
      "Requirement already satisfied: tzdata>=2022.7 in /usr/local/lib/python3.12/dist-packages (from pandas->evaluate) (2025.2)\n",
      "Requirement already satisfied: aiohappyeyeballs>=2.5.0 in /usr/local/lib/python3.12/dist-packages (from aiohttp!=4.0.0a0,!=4.0.0a1->fsspec[http]>=2021.05.0->evaluate) (2.6.1)\n",
      "Requirement already satisfied: aiosignal>=1.4.0 in /usr/local/lib/python3.12/dist-packages (from aiohttp!=4.0.0a0,!=4.0.0a1->fsspec[http]>=2021.05.0->evaluate) (1.4.0)\n",
      "Requirement already satisfied: attrs>=17.3.0 in /usr/local/lib/python3.12/dist-packages (from aiohttp!=4.0.0a0,!=4.0.0a1->fsspec[http]>=2021.05.0->evaluate) (25.3.0)\n",
      "Requirement already satisfied: frozenlist>=1.1.1 in /usr/local/lib/python3.12/dist-packages (from aiohttp!=4.0.0a0,!=4.0.0a1->fsspec[http]>=2021.05.0->evaluate) (1.7.0)\n",
      "Requirement already satisfied: multidict<7.0,>=4.5 in /usr/local/lib/python3.12/dist-packages (from aiohttp!=4.0.0a0,!=4.0.0a1->fsspec[http]>=2021.05.0->evaluate) (6.6.4)\n",
      "Requirement already satisfied: propcache>=0.2.0 in /usr/local/lib/python3.12/dist-packages (from aiohttp!=4.0.0a0,!=4.0.0a1->fsspec[http]>=2021.05.0->evaluate) (0.3.2)\n",
      "Requirement already satisfied: yarl<2.0,>=1.17.0 in /usr/local/lib/python3.12/dist-packages (from aiohttp!=4.0.0a0,!=4.0.0a1->fsspec[http]>=2021.05.0->evaluate) (1.20.1)\n",
      "Requirement already satisfied: six>=1.5 in /usr/local/lib/python3.12/dist-packages (from python-dateutil>=2.8.2->pandas->evaluate) (1.17.0)\n",
      "Requirement already satisfied: mpmath<1.4,>=1.1.0 in /usr/local/lib/python3.12/dist-packages (from sympy>=1.13.3->torch>=2.0.0->accelerate) (1.3.0)\n",
      "Requirement already satisfied: MarkupSafe>=2.0 in /usr/local/lib/python3.12/dist-packages (from jinja2->torch>=2.0.0->accelerate) (3.0.2)\n",
      "Downloading evaluate-0.4.6-py3-none-any.whl (84 kB)\n",
      "\u001b[2K   \u001b[90m━━━━━━━━━━━━━━━━━━━━━━━━━━━━━━━━━━━━━━━━\u001b[0m \u001b[32m84.1/84.1 kB\u001b[0m \u001b[31m5.6 MB/s\u001b[0m eta \u001b[36m0:00:00\u001b[0m\n",
      "\u001b[?25hInstalling collected packages: evaluate\n",
      "Successfully installed evaluate-0.4.6\n"
     ]
    }
   ],
   "source": [
    "!pip install transformers evaluate accelerate"
   ]
  },
  {
   "cell_type": "code",
   "execution_count": null,
   "metadata": {
    "id": "feHRGfqdONsa"
   },
   "outputs": [],
   "source": [
    "import pandas as pd\n",
    "import numpy as np\n",
    "import evaluate\n",
    "from sklearn.model_selection import train_test_split\n",
    "from transformers import (\n",
    "    AutoTokenizer,\n",
    "    AutoModelForSequenceClassification,\n",
    "    TrainingArguments,\n",
    "    Trainer,\n",
    "    DataCollatorWithPadding,\n",
    "    EarlyStoppingCallback\n",
    ")\n",
    "import torch\n",
    "from torch.utils.data import Dataset as TorchDataset\n",
    "import matplotlib.pyplot as plt\n",
    "import sys\n",
    "import subprocess\n",
    "import time\n",
    "start_total_time = time.time()"
   ]
  },
  {
   "cell_type": "markdown",
   "metadata": {
    "id": "qkRUcLU1PHke"
   },
   "source": [
    "# **1. Preparação dos Dados: Dividindo e balanceando o dataset**"
   ]
  },
  {
   "cell_type": "markdown",
   "metadata": {
    "id": "5vUMiCRBvDni"
   },
   "source": [
    "Nesta etapa, o conjunto de dados é preparado para o treinamento do modelo. O ***arquivo denuncias_balanceadas.xlsx*** é dividido em três partes: treino (70%), validação (15%) e teste (15%), garantindo que cada conjunto tenha uma distribuição similar das classes ***invasao_domicilio*** e ***violencia_fisica***.\n",
    "\n"
   ]
  },
  {
   "cell_type": "code",
   "execution_count": null,
   "metadata": {
    "colab": {
     "base_uri": "https://localhost:8080/"
    },
    "id": "3O3x60E3PHtT",
    "outputId": "c35bc14a-8a09-4340-f38f-7c552cdc3f78"
   },
   "outputs": [
    {
     "name": "stdout",
     "output_type": "stream",
     "text": [
      "Treino: 118, Validação: 25, Teste: 26\n"
     ]
    }
   ],
   "source": [
    "# Carregar dataset já processado\n",
    "file_path = '/content/drive/MyDrive/2025/tcc-final/denuncias_balanceadas.xlsx'\n",
    "df = pd.read_excel(file_path)\n",
    "\n",
    "# Dividir em treino (70%), validação (15%) e teste (15%)\n",
    "train_df, temp_df = train_test_split(df, test_size=0.3, stratify=df['classe'], random_state=42)\n",
    "val_df, test_df = train_test_split(temp_df, test_size=0.5, stratify=temp_df['classe'], random_state=42)\n",
    "\n",
    "print(f\"Treino: {len(train_df)}, Validação: {len(val_df)}, Teste: {len(test_df)}\")"
   ]
  },
  {
   "cell_type": "markdown",
   "metadata": {
    "id": "DE3WAEgOPYHa"
   },
   "source": [
    "# **2. Tokenização com BERTimbau**"
   ]
  },
  {
   "cell_type": "markdown",
   "metadata": {
    "id": "nN3N0mpWvRBf"
   },
   "source": [
    "Para que o modelo BERTimbau entenda nossos textos, é preciso convertê-los em um formato numérico. Este processo, chamado de tokenização, utiliza o ***AutoTokenizer*** do modelo BERTimbau, que é um modelo de linguagem pré-treinado especificamente para o português do Brasil. O ***tokenizer*** quebra os textos em ***tokens*** (palavras ou partes de palavras) e os mapeia para números que o modelo pode processar."
   ]
  },
  {
   "cell_type": "code",
   "execution_count": null,
   "metadata": {
    "colab": {
     "base_uri": "https://localhost:8080/",
     "height": 324,
     "referenced_widgets": [
      "e8a8f98e4e974a28a14c122a3aaf0044",
      "e318073ca2014ee39f3553d5ef47bb67",
      "922e242ae2d44e34bfbf60b27dcce996",
      "f334b04e737744abae6ea1289bf64d71",
      "235b604c66bc4fdab5dde9dc21a42bac",
      "c5f27c8e10f64c749c8fa0c02967f43d",
      "7121302456eb40eaac682ed6cb27da27",
      "78d424b3cee94cfbb9d8bcdbf3cca820",
      "f994513fa72d41418175853ef2eda484",
      "4d9d84c53c9840e9bf781155341e4a63",
      "5bde11f86b5449d9a5c58a1971115453",
      "aadca8b7ee9d4dcda3f18d57590315d3",
      "bda82f7c71d94bd995b961f7bb8e5228",
      "210e6ab086de4d659e5b1df0c8af9bfc",
      "65ba870da4a242e9939714078900bbff",
      "79c293a1faf148de9d02a7af323859fd",
      "dda6dd99156047309771f83bd586516f",
      "3f6e2cbb56f54155beba93cc2a54d086",
      "6297d57dcdde409bbd047489e1923a4c",
      "1b6a2c8c98d842fca2804c7a2f885fe1",
      "2e515666a060417db9847173a931c887",
      "13374ea3e37a48f78a295eea9336bc46",
      "72c63eb8ad0d4d1b8cd89c7e3f96c5f3",
      "a19e913d257540a891cc1d4ef683ddf0",
      "b489b166c5494313bce14ff6a77ea2e5",
      "54dcaf5227bd4be5bec779ee020be6bb",
      "daae856ceb564fc18cc0e78c183868ce",
      "2c79010e368f4a44988d84188d2ac3c4",
      "55a8237d30c748a48c2ddcd150359d98",
      "4ba033bfa69c45068ab88f0033dbecbc",
      "ba4377bb83514eecb7bfec718f059da9",
      "7ae17722fb004c98a1a5e580c716d7b1",
      "7ffd5b4abac44afcae383255504b6545",
      "e55952e49cf64865ba16e650c9cca127",
      "70b547e8a6d043fe97e0fcd968cc33eb",
      "0c9e59ac393b45d18ba30c1833394fb8",
      "1032ab81786b4f2e898ff77e4489b482",
      "e90fa4dbbf4145609c693d94499a827d",
      "e88782560503455c8a24177232176d8e",
      "207097c867ff4f958ce228662ae6e711",
      "bd72b44de89c4c4783579d7c6f478f6d",
      "8eaf555c6c2043f7975715692327075e",
      "7908ee6812c94b9786591259990ed9f0",
      "ad079cca965045038dfd468293ac8342",
      "da906eb9519841df8691c7bb65551ea6",
      "138852093868434ab3da34b3887c45d9",
      "98ba881269864bf0abcc0fc54b6aa13c",
      "f789a47a1eb4495cb9a16f656259bfc7",
      "6b139acbbc6a402c9165390ca7767336",
      "8012196ce68644fbb2b0661c938fe07f",
      "75747e784ccd4bcf9f749c280841a605",
      "a40486d793684d79aba8b1cd29c69680",
      "5434d796908e4f5d9cc2c6491c4bcde5",
      "ab5ed2d9cb244a038dfe130c0d397176",
      "4bbebb05584244ad8aadb70b29cc3ca4"
     ]
    },
    "id": "sql7RSXMPd1g",
    "outputId": "ae8defb7-c3ac-47c8-b57b-11d4e31586a2"
   },
   "outputs": [
    {
     "name": "stderr",
     "output_type": "stream",
     "text": [
      "/usr/local/lib/python3.12/dist-packages/huggingface_hub/utils/_auth.py:94: UserWarning: \n",
      "The secret `HF_TOKEN` does not exist in your Colab secrets.\n",
      "To authenticate with the Hugging Face Hub, create a token in your settings tab (https://huggingface.co/settings/tokens), set it as secret in your Google Colab and restart your session.\n",
      "You will be able to reuse this secret in all of your notebooks.\n",
      "Please note that authentication is recommended but still optional to access public models or datasets.\n",
      "  warnings.warn(\n"
     ]
    },
    {
     "data": {
      "application/vnd.jupyter.widget-view+json": {
       "model_id": "e8a8f98e4e974a28a14c122a3aaf0044",
       "version_major": 2,
       "version_minor": 0
      },
      "text/plain": [
       "tokenizer_config.json:   0%|          | 0.00/43.0 [00:00<?, ?B/s]"
      ]
     },
     "metadata": {},
     "output_type": "display_data"
    },
    {
     "data": {
      "application/vnd.jupyter.widget-view+json": {
       "model_id": "aadca8b7ee9d4dcda3f18d57590315d3",
       "version_major": 2,
       "version_minor": 0
      },
      "text/plain": [
       "config.json:   0%|          | 0.00/647 [00:00<?, ?B/s]"
      ]
     },
     "metadata": {},
     "output_type": "display_data"
    },
    {
     "data": {
      "application/vnd.jupyter.widget-view+json": {
       "model_id": "72c63eb8ad0d4d1b8cd89c7e3f96c5f3",
       "version_major": 2,
       "version_minor": 0
      },
      "text/plain": [
       "vocab.txt: 0.00B [00:00, ?B/s]"
      ]
     },
     "metadata": {},
     "output_type": "display_data"
    },
    {
     "data": {
      "application/vnd.jupyter.widget-view+json": {
       "model_id": "e55952e49cf64865ba16e650c9cca127",
       "version_major": 2,
       "version_minor": 0
      },
      "text/plain": [
       "added_tokens.json:   0%|          | 0.00/2.00 [00:00<?, ?B/s]"
      ]
     },
     "metadata": {},
     "output_type": "display_data"
    },
    {
     "data": {
      "application/vnd.jupyter.widget-view+json": {
       "model_id": "da906eb9519841df8691c7bb65551ea6",
       "version_major": 2,
       "version_minor": 0
      },
      "text/plain": [
       "special_tokens_map.json:   0%|          | 0.00/112 [00:00<?, ?B/s]"
      ]
     },
     "metadata": {},
     "output_type": "display_data"
    },
    {
     "name": "stdout",
     "output_type": "stream",
     "text": [
      "Encoding(num_tokens=512, attributes=[ids, type_ids, tokens, offsets, attention_mask, special_tokens_mask, overflowing])\n",
      "Encoding(num_tokens=238, attributes=[ids, type_ids, tokens, offsets, attention_mask, special_tokens_mask, overflowing])\n",
      "Encoding(num_tokens=189, attributes=[ids, type_ids, tokens, offsets, attention_mask, special_tokens_mask, overflowing])\n"
     ]
    }
   ],
   "source": [
    "model_path = \"neuralmind/bert-base-portuguese-cased\"\n",
    "tokenizer = AutoTokenizer.from_pretrained(model_path)\n",
    "\n",
    "# Função de tokenização\n",
    "def tokenize_function(batch):\n",
    "    return tokenizer(batch[\"texto\"], truncation=True,max_length=512, padding='longest',return_tensors='pt')\n",
    "\n",
    "# Tokenizar os DataFrames diretamente (sem usar datasets.Dataset)\n",
    "train_encodings = tokenize_function(train_df.to_dict('list'))\n",
    "val_encodings = tokenize_function(val_df.to_dict('list'))\n",
    "test_encodings = tokenize_function(test_df.to_dict('list'))\n",
    "print(train_encodings[0])\n",
    "print(val_encodings[0])\n",
    "print(test_encodings[0])"
   ]
  },
  {
   "cell_type": "markdown",
   "metadata": {
    "id": "D3KiSVUFvJ3O"
   },
   "source": []
  },
  {
   "cell_type": "markdown",
   "metadata": {
    "id": "U0mzN3JPP-s4"
   },
   "source": [
    "# **3. Configuração do Modelo: Adaptando o BERTimbau para a nossa tarefa**"
   ]
  },
  {
   "cell_type": "markdown",
   "metadata": {
    "id": "qLz0CWZdvZAW"
   },
   "source": [
    "Aqui, carregamos o modelo BERTimbau pré-treinado e o adaptamos para a nossa tarefa de classificação de texto. A parte mais importante desta etapa é a configuração da camada final (chamada de ***classifier***), que será treinada para prever uma de nossas duas classes. Além disso, congelamos as camadas de base do BERT, o que significa que apenas a nova camada do classificador será ajustada, otimizando o treinamento para um conjunto de dados menor."
   ]
  },
  {
   "cell_type": "code",
   "execution_count": null,
   "metadata": {
    "colab": {
     "base_uri": "https://localhost:8080/",
     "height": 82,
     "referenced_widgets": [
      "fcebd7e061904100b45940683ee207cb",
      "c00967d628e34217a184abe03bf44a8d",
      "bf4e9a56a6c64a2c9c878598393f6911",
      "692e91f33c7949dbbe152c0e6b177e6c",
      "e31572308a894b12a15923f1abe9b85a",
      "c3f09544647745b482332f46ae1d560c",
      "06660b1fc06441e894a041a4f43728a4",
      "7f06ea39a65147d59045d59c11b4a8fd",
      "a7dbd9284c75483ba4df40fe2642886c",
      "b38db9c0f9a14666a3384898085de602",
      "beaedaa2482243388bf50738f995e78d"
     ]
    },
    "id": "tkQIL_4sYTMq",
    "outputId": "dd05d6b2-9b5f-4599-f56f-8711991c608c"
   },
   "outputs": [
    {
     "data": {
      "application/vnd.jupyter.widget-view+json": {
       "model_id": "fcebd7e061904100b45940683ee207cb",
       "version_major": 2,
       "version_minor": 0
      },
      "text/plain": [
       "pytorch_model.bin:   0%|          | 0.00/438M [00:00<?, ?B/s]"
      ]
     },
     "metadata": {},
     "output_type": "display_data"
    },
    {
     "name": "stderr",
     "output_type": "stream",
     "text": [
      "Some weights of BertForSequenceClassification were not initialized from the model checkpoint at neuralmind/bert-base-portuguese-cased and are newly initialized: ['classifier.bias', 'classifier.weight']\n",
      "You should probably TRAIN this model on a down-stream task to be able to use it for predictions and inference.\n"
     ]
    }
   ],
   "source": [
    "id2label = {0: \"invasao_domicilio\", 1: \"violencia_fisica\"}\n",
    "label2id = {v: k for k, v in id2label.items()}\n",
    "\n",
    "model = AutoModelForSequenceClassification.from_pretrained(\n",
    "    model_path,\n",
    "    num_labels=2,\n",
    "    id2label=id2label,\n",
    "    label2id=label2id\n",
    ")\n",
    "\n",
    "# Congelar camadas do BERT (exceto pooler e classificador)\n",
    "for name, param in model.named_parameters():\n",
    "    if 'classifier' not in name and 'pooler' not in name:\n",
    "        param.requires_grad = False"
   ]
  },
  {
   "cell_type": "markdown",
   "metadata": {
    "id": "2S-nz2HQZ0CA"
   },
   "source": [
    "#**4. Avaliação do Modelo: Definindo as métricas de sucesso**"
   ]
  },
  {
   "cell_type": "markdown",
   "metadata": {
    "id": "vU5sR5zSvwlz"
   },
   "source": [
    "Para saber se o nosso modelo está aprendendo bem, precisamos de métricas de avaliação. Além da ***acurácia*** (a porcentagem de acertos), calculamos outras métricas importantes, como a ***AUC-ROC***, que mede a capacidade do modelo de distinguir entre as classes, e a ***Precisão, Recall e F1-Score***, que nos dão uma visão mais detalhada sobre o desempenho do modelo em cada classe (invasão de domicílio e violência física)."
   ]
  },
  {
   "cell_type": "code",
   "execution_count": null,
   "metadata": {
    "colab": {
     "base_uri": "https://localhost:8080/",
     "height": 208,
     "referenced_widgets": [
      "e56e82820d6343abbd761542e38d5fd6",
      "915e659cc2c1415eb570a678ca2378ef",
      "902c6c29a4f94c9492ad88e8acf835d7",
      "c99949dbb3d24348baa077692ae73aae",
      "b3d41c2939344fe59d0c0bb03759bc0e",
      "15c178daed0f4318ae8d8cdee1db2496",
      "7cbe081584d9436190b8cebab2bc5ebd",
      "ba48aff7a149407eab60731f7143f9d5",
      "556aa3c5ead0432290638ef9f93d0faa",
      "90bd0fb246244060bff4faab5c5add5b",
      "1102b1930f5941b981417794daf3f619",
      "d948e44aa8114c349b4bc649bd4d359f",
      "68fcad1f691043fb9f991176c32b008e",
      "e7f2193535804503abd8e3d50ef95035",
      "1c08187150aa46139952a3f6f23b58a9",
      "7a18f40bbdda41babdf4b41fe9950c73",
      "740d7f1c248d4719960f198c821f2446",
      "c1d7a6eb591e4b5db0088105e3da3eef",
      "78332e63a07d43f0b6282fb3659e097a",
      "1debb36355914cbcb6a7378f3df1dcbb",
      "39b12cf371e54a41ace40695b03ca5ab",
      "745387315ea74f6993a11ec7ac9ce49a",
      "ab916ac482884cbb8660c5ffc46743a7",
      "d3c17074f52b45a19b099301cf298dcd",
      "e308842fc8f940c5a399c487d89651ec",
      "f7f1434e74584c66ba2c5e19c4d9758a",
      "4a6e0ee5a36a4ade8c3618149196d61e",
      "33b55538e789410ba0b9b6ca2b04b5d9",
      "41a91186dd2a453b9a54c4a144dd8556",
      "e6b220ccd7504dfaa9f797c7851284f5",
      "fc9060df5ddd42c0a29efc3c569c552b",
      "8b6e69f309ff4cfb98b429010567887a",
      "fd57a96fea9c4fae934aa42932b97349",
      "b86b9f6118374a9e9f2eb87d734f44b6",
      "025514280c7c40dba7023e308cf69c23",
      "63753e7399684b1f97577372920b52a7",
      "19732009335a4a6e8acc82115f34bc3f",
      "2c89c064100c4d2c9a0f736e9095ab71",
      "3bb894f8416241ef85d97fe90b10a18e",
      "9fcb7c12c5534bddb1ca4c2134178c07",
      "5ebb86b9e5b64a2e92f8fd44821b39a9",
      "7eddc4934b694f02aae73ff92ed970ce",
      "d196c6c24cfe42d3a200b3ce8ec2a2b3",
      "bdbc41ad0a5643d49da3f95020fe3fd2",
      "52022b3ac30947b4bf6f4a0f6e052929",
      "7ef921d8f59840b38d41ef33c3611e24",
      "3521c48edad44e25b3deaeaa0154f11b",
      "c69982b847714e42b0c1c8c52e10fb51",
      "b3cf10b3331c4325b1598d581c4ee355",
      "7bb3ffb0d41a42f3943b2e46d3165a67",
      "8bb2991a65fc45df8ffdb46f761762d0",
      "e5d08ee0b7234edfafdb93d45074e557",
      "cdca1898657945db84651f72b2165f21",
      "325b4745eec94b44bb2ddac2775b0f7d",
      "a60950ee5d0d47378046544c0bd70422",
      "26dc67c6586e4d12944c2a6017012c74",
      "39dcc1025b02476597533a496f0b64d7",
      "6eeec8174cad41e4b0c1c419eab1da31",
      "f69a933f9b784503b28ae4e99a25b4fb",
      "94675df8437140f6bfe38f3732206f58",
      "99d88cf34cb2405c90fa42ab8a60abea",
      "32abd403fad74b22b1859d66cbbd613b",
      "6207e4bc3a2643f78ae6e2f8ef3f9dd4",
      "f016bd75cf7b41bb8a8020c698e6bedf",
      "fb3166a409e14659a76f57177522c890",
      "a2594b11e1a64d15b69a92a298192dc8"
     ]
    },
    "id": "F-gctrIbZ1Pv",
    "outputId": "8637d819-23a9-4792-b21e-dd549120b8c2"
   },
   "outputs": [
    {
     "data": {
      "application/vnd.jupyter.widget-view+json": {
       "model_id": "e56e82820d6343abbd761542e38d5fd6",
       "version_major": 2,
       "version_minor": 0
      },
      "text/plain": [
       "model.safetensors:   0%|          | 0.00/438M [00:00<?, ?B/s]"
      ]
     },
     "metadata": {},
     "output_type": "display_data"
    },
    {
     "data": {
      "application/vnd.jupyter.widget-view+json": {
       "model_id": "d948e44aa8114c349b4bc649bd4d359f",
       "version_major": 2,
       "version_minor": 0
      },
      "text/plain": [
       "Downloading builder script: 0.00B [00:00, ?B/s]"
      ]
     },
     "metadata": {},
     "output_type": "display_data"
    },
    {
     "data": {
      "application/vnd.jupyter.widget-view+json": {
       "model_id": "ab916ac482884cbb8660c5ffc46743a7",
       "version_major": 2,
       "version_minor": 0
      },
      "text/plain": [
       "Downloading builder script: 0.00B [00:00, ?B/s]"
      ]
     },
     "metadata": {},
     "output_type": "display_data"
    },
    {
     "data": {
      "application/vnd.jupyter.widget-view+json": {
       "model_id": "b86b9f6118374a9e9f2eb87d734f44b6",
       "version_major": 2,
       "version_minor": 0
      },
      "text/plain": [
       "Downloading builder script: 0.00B [00:00, ?B/s]"
      ]
     },
     "metadata": {},
     "output_type": "display_data"
    },
    {
     "data": {
      "application/vnd.jupyter.widget-view+json": {
       "model_id": "52022b3ac30947b4bf6f4a0f6e052929",
       "version_major": 2,
       "version_minor": 0
      },
      "text/plain": [
       "Downloading builder script: 0.00B [00:00, ?B/s]"
      ]
     },
     "metadata": {},
     "output_type": "display_data"
    },
    {
     "data": {
      "application/vnd.jupyter.widget-view+json": {
       "model_id": "26dc67c6586e4d12944c2a6017012c74",
       "version_major": 2,
       "version_minor": 0
      },
      "text/plain": [
       "Downloading builder script: 0.00B [00:00, ?B/s]"
      ]
     },
     "metadata": {},
     "output_type": "display_data"
    }
   ],
   "source": [
    "accuracy = evaluate.load(\"accuracy\")\n",
    "auc_score = evaluate.load(\"roc_auc\")\n",
    "f1_metric = evaluate.load(\"f1\")\n",
    "precision = evaluate.load(\"precision\")\n",
    "recall = evaluate.load(\"recall\")\n",
    "\n",
    "def compute_metrics(eval_pred):\n",
    "    try:\n",
    "        predictions, labels = eval_pred\n",
    "        probabilities = np.exp(predictions - np.max(predictions, axis=-1, keepdims=True)) / np.sum(np.exp(predictions - np.max(predictions, axis=-1, keepdims=True)), axis=-1, keepdims=True)\n",
    "        positive_class_probs = probabilities[:, 1]\n",
    "\n",
    "        preds = np.argmax(predictions, axis=1)\n",
    "        acc = accuracy.compute(predictions=preds, references=labels)[\"accuracy\"]\n",
    "        auc = auc_score.compute(prediction_scores=positive_class_probs, references=labels)[\"roc_auc\"]\n",
    "\n",
    "        f1_results = f1_metric.compute(\n",
    "            predictions=preds,\n",
    "            references=labels,\n",
    "            average=None,\n",
    "            labels=[label2id[\"invasao_domicilio\"], label2id[\"violencia_fisica\"]]\n",
    "        )\n",
    "        precision_results = precision.compute(\n",
    "            predictions=preds,\n",
    "            references=labels,\n",
    "            average=None,\n",
    "            labels=[label2id[\"invasao_domicilio\"], label2id[\"violencia_fisica\"]]\n",
    "        )\n",
    "        recall_results = recall.compute(\n",
    "            predictions=preds,\n",
    "            references=labels,\n",
    "            average=None,\n",
    "            labels=[label2id[\"invasao_domicilio\"], label2id[\"violencia_fisica\"]]\n",
    "        )\n",
    "\n",
    "        return {\n",
    "            \"accuracy\": round(acc, 4),\n",
    "            \"auc\": round(auc, 4),\n",
    "            \"f1_invasao\": round(f1_results[\"f1\"][0], 4),\n",
    "            \"f1_violencia\": round(f1_results[\"f1\"][1], 4),\n",
    "            \"precision_invasao\": round(precision_results[\"precision\"][0], 4),\n",
    "            \"precision_violencia\": round(precision_results[\"precision\"][1], 4),\n",
    "            \"recall_invasao\": round(recall_results[\"recall\"][0], 4),\n",
    "            \"recall_violencia\": round(recall_results[\"recall\"][1], 4),\n",
    "            \"precision_macro\": round(np.mean(precision_results[\"precision\"]), 4),\n",
    "            \"recall_macro\": round(np.mean(recall_results[\"recall\"]), 4),\n",
    "            \"f1_macro\": round(np.mean(f1_results[\"f1\"]), 4)\n",
    "        }\n",
    "    except Exception as e:\n",
    "        print(f\"Erro no cálculo de métricas: {str(e)}\")\n",
    "        return {\"accuracy\": 0.0, \"auc\": 0.0, \"f1_invasao\": 0.0, \"f1_violencia\": 0.0,\n",
    "                \"precision_invasao\": 0.0, \"precision_violencia\": 0.0,\n",
    "                \"recall_invasao\": 0.0, \"recall_violencia\": 0.0,\n",
    "                \"precision_macro\": 0.0, \"recall_macro\": 0.0, \"f1_macro\": 0.0}"
   ]
  },
  {
   "cell_type": "markdown",
   "metadata": {
    "id": "7fmwNJA-Z5DK"
   },
   "source": [
    "# **5. Treinamento: A mágica do Fine-Tuning**"
   ]
  },
  {
   "cell_type": "markdown",
   "metadata": {
    "id": "F4ogB-Rqv6kG"
   },
   "source": [
    "Nesta seção, iniciamos o treinamento do modelo usando a biblioteca ***Hugging Face Trainer***. O treinamento será executado por 30 épocas. O ***EarlyStoppingCallback*** é ativado para interromper o treinamento caso o desempenho do modelo no conjunto de validação pare de melhorar por três épocas consecutivas, evitando o overfitting. Você pode acompanhar a evolução da perda (loss) e da acurácia durante o processo no gráfico abaixo."
   ]
  },
  {
   "cell_type": "code",
   "execution_count": null,
   "metadata": {
    "colab": {
     "base_uri": "https://localhost:8080/",
     "height": 1000
    },
    "id": "Lu5KpVfWaGA3",
    "outputId": "bad9f62e-42c9-4111-9557-8c07259c58f7"
   },
   "outputs": [
    {
     "name": "stderr",
     "output_type": "stream",
     "text": [
      "/tmp/ipython-input-4255102594.py:35: UserWarning: To copy construct from a tensor, it is recommended to use sourceTensor.detach().clone() or sourceTensor.detach().clone().requires_grad_(True), rather than torch.tensor(sourceTensor).\n",
      "  self.encodings = {key: torch.tensor(val) for key, val in encodings.items()}\n",
      "/tmp/ipython-input-4255102594.py:35: UserWarning: To copy construct from a tensor, it is recommended to use sourceTensor.detach().clone() or sourceTensor.detach().clone().requires_grad_(True), rather than torch.tensor(sourceTensor).\n",
      "  self.encodings = {key: torch.tensor(val) for key, val in encodings.items()}\n",
      "/tmp/ipython-input-4255102594.py:35: UserWarning: To copy construct from a tensor, it is recommended to use sourceTensor.detach().clone() or sourceTensor.detach().clone().requires_grad_(True), rather than torch.tensor(sourceTensor).\n",
      "  self.encodings = {key: torch.tensor(val) for key, val in encodings.items()}\n"
     ]
    },
    {
     "name": "stdout",
     "output_type": "stream",
     "text": [
      "\n",
      "🚀 Iniciando treinamento...\n"
     ]
    },
    {
     "data": {
      "text/html": [
       "\n",
       "    <div>\n",
       "      \n",
       "      <progress value='435' max='450' style='width:300px; height:20px; vertical-align: middle;'></progress>\n",
       "      [435/450 05:05 < 00:10, 1.42 it/s, Epoch 29/30]\n",
       "    </div>\n",
       "    <table border=\"1\" class=\"dataframe\">\n",
       "  <thead>\n",
       " <tr style=\"text-align: left;\">\n",
       "      <th>Epoch</th>\n",
       "      <th>Training Loss</th>\n",
       "      <th>Validation Loss</th>\n",
       "      <th>Accuracy</th>\n",
       "      <th>Auc</th>\n",
       "      <th>F1 Invasao</th>\n",
       "      <th>F1 Violencia</th>\n",
       "      <th>Precision Invasao</th>\n",
       "      <th>Precision Violencia</th>\n",
       "      <th>Recall Invasao</th>\n",
       "      <th>Recall Violencia</th>\n",
       "      <th>Precision Macro</th>\n",
       "      <th>Recall Macro</th>\n",
       "      <th>F1 Macro</th>\n",
       "    </tr>\n",
       "  </thead>\n",
       "  <tbody>\n",
       "    <tr>\n",
       "      <td>1</td>\n",
       "      <td>0.693400</td>\n",
       "      <td>0.669365</td>\n",
       "      <td>0.720000</td>\n",
       "      <td>0.692300</td>\n",
       "      <td>0.740700</td>\n",
       "      <td>0.695700</td>\n",
       "      <td>0.666700</td>\n",
       "      <td>0.800000</td>\n",
       "      <td>0.833300</td>\n",
       "      <td>0.615400</td>\n",
       "      <td>0.733300</td>\n",
       "      <td>0.724400</td>\n",
       "      <td>0.718200</td>\n",
       "    </tr>\n",
       "    <tr>\n",
       "      <td>2</td>\n",
       "      <td>0.641400</td>\n",
       "      <td>0.647910</td>\n",
       "      <td>0.680000</td>\n",
       "      <td>0.737200</td>\n",
       "      <td>0.600000</td>\n",
       "      <td>0.733300</td>\n",
       "      <td>0.750000</td>\n",
       "      <td>0.647100</td>\n",
       "      <td>0.500000</td>\n",
       "      <td>0.846200</td>\n",
       "      <td>0.698500</td>\n",
       "      <td>0.673100</td>\n",
       "      <td>0.666700</td>\n",
       "    </tr>\n",
       "    <tr>\n",
       "      <td>3</td>\n",
       "      <td>0.595400</td>\n",
       "      <td>0.635449</td>\n",
       "      <td>0.720000</td>\n",
       "      <td>0.762800</td>\n",
       "      <td>0.720000</td>\n",
       "      <td>0.720000</td>\n",
       "      <td>0.692300</td>\n",
       "      <td>0.750000</td>\n",
       "      <td>0.750000</td>\n",
       "      <td>0.692300</td>\n",
       "      <td>0.721200</td>\n",
       "      <td>0.721200</td>\n",
       "      <td>0.720000</td>\n",
       "    </tr>\n",
       "    <tr>\n",
       "      <td>4</td>\n",
       "      <td>0.577900</td>\n",
       "      <td>0.624644</td>\n",
       "      <td>0.720000</td>\n",
       "      <td>0.769200</td>\n",
       "      <td>0.720000</td>\n",
       "      <td>0.720000</td>\n",
       "      <td>0.692300</td>\n",
       "      <td>0.750000</td>\n",
       "      <td>0.750000</td>\n",
       "      <td>0.692300</td>\n",
       "      <td>0.721200</td>\n",
       "      <td>0.721200</td>\n",
       "      <td>0.720000</td>\n",
       "    </tr>\n",
       "    <tr>\n",
       "      <td>5</td>\n",
       "      <td>0.531700</td>\n",
       "      <td>0.611504</td>\n",
       "      <td>0.720000</td>\n",
       "      <td>0.769200</td>\n",
       "      <td>0.720000</td>\n",
       "      <td>0.720000</td>\n",
       "      <td>0.692300</td>\n",
       "      <td>0.750000</td>\n",
       "      <td>0.750000</td>\n",
       "      <td>0.692300</td>\n",
       "      <td>0.721200</td>\n",
       "      <td>0.721200</td>\n",
       "      <td>0.720000</td>\n",
       "    </tr>\n",
       "    <tr>\n",
       "      <td>6</td>\n",
       "      <td>0.536800</td>\n",
       "      <td>0.596682</td>\n",
       "      <td>0.760000</td>\n",
       "      <td>0.762800</td>\n",
       "      <td>0.727300</td>\n",
       "      <td>0.785700</td>\n",
       "      <td>0.800000</td>\n",
       "      <td>0.733300</td>\n",
       "      <td>0.666700</td>\n",
       "      <td>0.846200</td>\n",
       "      <td>0.766700</td>\n",
       "      <td>0.756400</td>\n",
       "      <td>0.756500</td>\n",
       "    </tr>\n",
       "    <tr>\n",
       "      <td>7</td>\n",
       "      <td>0.478600</td>\n",
       "      <td>0.593496</td>\n",
       "      <td>0.720000</td>\n",
       "      <td>0.775600</td>\n",
       "      <td>0.720000</td>\n",
       "      <td>0.720000</td>\n",
       "      <td>0.692300</td>\n",
       "      <td>0.750000</td>\n",
       "      <td>0.750000</td>\n",
       "      <td>0.692300</td>\n",
       "      <td>0.721200</td>\n",
       "      <td>0.721200</td>\n",
       "      <td>0.720000</td>\n",
       "    </tr>\n",
       "    <tr>\n",
       "      <td>8</td>\n",
       "      <td>0.473300</td>\n",
       "      <td>0.599320</td>\n",
       "      <td>0.720000</td>\n",
       "      <td>0.782100</td>\n",
       "      <td>0.740700</td>\n",
       "      <td>0.695700</td>\n",
       "      <td>0.666700</td>\n",
       "      <td>0.800000</td>\n",
       "      <td>0.833300</td>\n",
       "      <td>0.615400</td>\n",
       "      <td>0.733300</td>\n",
       "      <td>0.724400</td>\n",
       "      <td>0.718200</td>\n",
       "    </tr>\n",
       "    <tr>\n",
       "      <td>9</td>\n",
       "      <td>0.460500</td>\n",
       "      <td>0.591626</td>\n",
       "      <td>0.680000</td>\n",
       "      <td>0.794900</td>\n",
       "      <td>0.714300</td>\n",
       "      <td>0.636400</td>\n",
       "      <td>0.625000</td>\n",
       "      <td>0.777800</td>\n",
       "      <td>0.833300</td>\n",
       "      <td>0.538500</td>\n",
       "      <td>0.701400</td>\n",
       "      <td>0.685900</td>\n",
       "      <td>0.675300</td>\n",
       "    </tr>\n",
       "    <tr>\n",
       "      <td>10</td>\n",
       "      <td>0.452300</td>\n",
       "      <td>0.579564</td>\n",
       "      <td>0.720000</td>\n",
       "      <td>0.801300</td>\n",
       "      <td>0.740700</td>\n",
       "      <td>0.695700</td>\n",
       "      <td>0.666700</td>\n",
       "      <td>0.800000</td>\n",
       "      <td>0.833300</td>\n",
       "      <td>0.615400</td>\n",
       "      <td>0.733300</td>\n",
       "      <td>0.724400</td>\n",
       "      <td>0.718200</td>\n",
       "    </tr>\n",
       "    <tr>\n",
       "      <td>11</td>\n",
       "      <td>0.441400</td>\n",
       "      <td>0.562478</td>\n",
       "      <td>0.760000</td>\n",
       "      <td>0.807700</td>\n",
       "      <td>0.769200</td>\n",
       "      <td>0.750000</td>\n",
       "      <td>0.714300</td>\n",
       "      <td>0.818200</td>\n",
       "      <td>0.833300</td>\n",
       "      <td>0.692300</td>\n",
       "      <td>0.766200</td>\n",
       "      <td>0.762800</td>\n",
       "      <td>0.759600</td>\n",
       "    </tr>\n",
       "    <tr>\n",
       "      <td>12</td>\n",
       "      <td>0.438800</td>\n",
       "      <td>0.550352</td>\n",
       "      <td>0.760000</td>\n",
       "      <td>0.833300</td>\n",
       "      <td>0.769200</td>\n",
       "      <td>0.750000</td>\n",
       "      <td>0.714300</td>\n",
       "      <td>0.818200</td>\n",
       "      <td>0.833300</td>\n",
       "      <td>0.692300</td>\n",
       "      <td>0.766200</td>\n",
       "      <td>0.762800</td>\n",
       "      <td>0.759600</td>\n",
       "    </tr>\n",
       "    <tr>\n",
       "      <td>13</td>\n",
       "      <td>0.419400</td>\n",
       "      <td>0.549100</td>\n",
       "      <td>0.800000</td>\n",
       "      <td>0.833300</td>\n",
       "      <td>0.814800</td>\n",
       "      <td>0.782600</td>\n",
       "      <td>0.733300</td>\n",
       "      <td>0.900000</td>\n",
       "      <td>0.916700</td>\n",
       "      <td>0.692300</td>\n",
       "      <td>0.816700</td>\n",
       "      <td>0.804500</td>\n",
       "      <td>0.798700</td>\n",
       "    </tr>\n",
       "    <tr>\n",
       "      <td>14</td>\n",
       "      <td>0.401000</td>\n",
       "      <td>0.542855</td>\n",
       "      <td>0.800000</td>\n",
       "      <td>0.833300</td>\n",
       "      <td>0.814800</td>\n",
       "      <td>0.782600</td>\n",
       "      <td>0.733300</td>\n",
       "      <td>0.900000</td>\n",
       "      <td>0.916700</td>\n",
       "      <td>0.692300</td>\n",
       "      <td>0.816700</td>\n",
       "      <td>0.804500</td>\n",
       "      <td>0.798700</td>\n",
       "    </tr>\n",
       "    <tr>\n",
       "      <td>15</td>\n",
       "      <td>0.412000</td>\n",
       "      <td>0.522551</td>\n",
       "      <td>0.760000</td>\n",
       "      <td>0.839700</td>\n",
       "      <td>0.769200</td>\n",
       "      <td>0.750000</td>\n",
       "      <td>0.714300</td>\n",
       "      <td>0.818200</td>\n",
       "      <td>0.833300</td>\n",
       "      <td>0.692300</td>\n",
       "      <td>0.766200</td>\n",
       "      <td>0.762800</td>\n",
       "      <td>0.759600</td>\n",
       "    </tr>\n",
       "    <tr>\n",
       "      <td>16</td>\n",
       "      <td>0.386100</td>\n",
       "      <td>0.524672</td>\n",
       "      <td>0.800000</td>\n",
       "      <td>0.852600</td>\n",
       "      <td>0.814800</td>\n",
       "      <td>0.782600</td>\n",
       "      <td>0.733300</td>\n",
       "      <td>0.900000</td>\n",
       "      <td>0.916700</td>\n",
       "      <td>0.692300</td>\n",
       "      <td>0.816700</td>\n",
       "      <td>0.804500</td>\n",
       "      <td>0.798700</td>\n",
       "    </tr>\n",
       "    <tr>\n",
       "      <td>17</td>\n",
       "      <td>0.390400</td>\n",
       "      <td>0.508879</td>\n",
       "      <td>0.800000</td>\n",
       "      <td>0.859000</td>\n",
       "      <td>0.814800</td>\n",
       "      <td>0.782600</td>\n",
       "      <td>0.733300</td>\n",
       "      <td>0.900000</td>\n",
       "      <td>0.916700</td>\n",
       "      <td>0.692300</td>\n",
       "      <td>0.816700</td>\n",
       "      <td>0.804500</td>\n",
       "      <td>0.798700</td>\n",
       "    </tr>\n",
       "    <tr>\n",
       "      <td>18</td>\n",
       "      <td>0.354700</td>\n",
       "      <td>0.513437</td>\n",
       "      <td>0.800000</td>\n",
       "      <td>0.871800</td>\n",
       "      <td>0.814800</td>\n",
       "      <td>0.782600</td>\n",
       "      <td>0.733300</td>\n",
       "      <td>0.900000</td>\n",
       "      <td>0.916700</td>\n",
       "      <td>0.692300</td>\n",
       "      <td>0.816700</td>\n",
       "      <td>0.804500</td>\n",
       "      <td>0.798700</td>\n",
       "    </tr>\n",
       "    <tr>\n",
       "      <td>19</td>\n",
       "      <td>0.361500</td>\n",
       "      <td>0.509131</td>\n",
       "      <td>0.800000</td>\n",
       "      <td>0.871800</td>\n",
       "      <td>0.814800</td>\n",
       "      <td>0.782600</td>\n",
       "      <td>0.733300</td>\n",
       "      <td>0.900000</td>\n",
       "      <td>0.916700</td>\n",
       "      <td>0.692300</td>\n",
       "      <td>0.816700</td>\n",
       "      <td>0.804500</td>\n",
       "      <td>0.798700</td>\n",
       "    </tr>\n",
       "    <tr>\n",
       "      <td>20</td>\n",
       "      <td>0.354900</td>\n",
       "      <td>0.501693</td>\n",
       "      <td>0.800000</td>\n",
       "      <td>0.871800</td>\n",
       "      <td>0.814800</td>\n",
       "      <td>0.782600</td>\n",
       "      <td>0.733300</td>\n",
       "      <td>0.900000</td>\n",
       "      <td>0.916700</td>\n",
       "      <td>0.692300</td>\n",
       "      <td>0.816700</td>\n",
       "      <td>0.804500</td>\n",
       "      <td>0.798700</td>\n",
       "    </tr>\n",
       "    <tr>\n",
       "      <td>21</td>\n",
       "      <td>0.364600</td>\n",
       "      <td>0.492930</td>\n",
       "      <td>0.800000</td>\n",
       "      <td>0.878200</td>\n",
       "      <td>0.814800</td>\n",
       "      <td>0.782600</td>\n",
       "      <td>0.733300</td>\n",
       "      <td>0.900000</td>\n",
       "      <td>0.916700</td>\n",
       "      <td>0.692300</td>\n",
       "      <td>0.816700</td>\n",
       "      <td>0.804500</td>\n",
       "      <td>0.798700</td>\n",
       "    </tr>\n",
       "    <tr>\n",
       "      <td>22</td>\n",
       "      <td>0.342800</td>\n",
       "      <td>0.495746</td>\n",
       "      <td>0.800000</td>\n",
       "      <td>0.878200</td>\n",
       "      <td>0.814800</td>\n",
       "      <td>0.782600</td>\n",
       "      <td>0.733300</td>\n",
       "      <td>0.900000</td>\n",
       "      <td>0.916700</td>\n",
       "      <td>0.692300</td>\n",
       "      <td>0.816700</td>\n",
       "      <td>0.804500</td>\n",
       "      <td>0.798700</td>\n",
       "    </tr>\n",
       "    <tr>\n",
       "      <td>23</td>\n",
       "      <td>0.342700</td>\n",
       "      <td>0.486185</td>\n",
       "      <td>0.800000</td>\n",
       "      <td>0.878200</td>\n",
       "      <td>0.814800</td>\n",
       "      <td>0.782600</td>\n",
       "      <td>0.733300</td>\n",
       "      <td>0.900000</td>\n",
       "      <td>0.916700</td>\n",
       "      <td>0.692300</td>\n",
       "      <td>0.816700</td>\n",
       "      <td>0.804500</td>\n",
       "      <td>0.798700</td>\n",
       "    </tr>\n",
       "    <tr>\n",
       "      <td>24</td>\n",
       "      <td>0.331700</td>\n",
       "      <td>0.483196</td>\n",
       "      <td>0.800000</td>\n",
       "      <td>0.878200</td>\n",
       "      <td>0.814800</td>\n",
       "      <td>0.782600</td>\n",
       "      <td>0.733300</td>\n",
       "      <td>0.900000</td>\n",
       "      <td>0.916700</td>\n",
       "      <td>0.692300</td>\n",
       "      <td>0.816700</td>\n",
       "      <td>0.804500</td>\n",
       "      <td>0.798700</td>\n",
       "    </tr>\n",
       "    <tr>\n",
       "      <td>25</td>\n",
       "      <td>0.320500</td>\n",
       "      <td>0.482724</td>\n",
       "      <td>0.800000</td>\n",
       "      <td>0.878200</td>\n",
       "      <td>0.814800</td>\n",
       "      <td>0.782600</td>\n",
       "      <td>0.733300</td>\n",
       "      <td>0.900000</td>\n",
       "      <td>0.916700</td>\n",
       "      <td>0.692300</td>\n",
       "      <td>0.816700</td>\n",
       "      <td>0.804500</td>\n",
       "      <td>0.798700</td>\n",
       "    </tr>\n",
       "    <tr>\n",
       "      <td>26</td>\n",
       "      <td>0.311400</td>\n",
       "      <td>0.480405</td>\n",
       "      <td>0.800000</td>\n",
       "      <td>0.878200</td>\n",
       "      <td>0.814800</td>\n",
       "      <td>0.782600</td>\n",
       "      <td>0.733300</td>\n",
       "      <td>0.900000</td>\n",
       "      <td>0.916700</td>\n",
       "      <td>0.692300</td>\n",
       "      <td>0.816700</td>\n",
       "      <td>0.804500</td>\n",
       "      <td>0.798700</td>\n",
       "    </tr>\n",
       "    <tr>\n",
       "      <td>27</td>\n",
       "      <td>0.346000</td>\n",
       "      <td>0.482431</td>\n",
       "      <td>0.800000</td>\n",
       "      <td>0.878200</td>\n",
       "      <td>0.814800</td>\n",
       "      <td>0.782600</td>\n",
       "      <td>0.733300</td>\n",
       "      <td>0.900000</td>\n",
       "      <td>0.916700</td>\n",
       "      <td>0.692300</td>\n",
       "      <td>0.816700</td>\n",
       "      <td>0.804500</td>\n",
       "      <td>0.798700</td>\n",
       "    </tr>\n",
       "    <tr>\n",
       "      <td>28</td>\n",
       "      <td>0.301900</td>\n",
       "      <td>0.483936</td>\n",
       "      <td>0.800000</td>\n",
       "      <td>0.891000</td>\n",
       "      <td>0.814800</td>\n",
       "      <td>0.782600</td>\n",
       "      <td>0.733300</td>\n",
       "      <td>0.900000</td>\n",
       "      <td>0.916700</td>\n",
       "      <td>0.692300</td>\n",
       "      <td>0.816700</td>\n",
       "      <td>0.804500</td>\n",
       "      <td>0.798700</td>\n",
       "    </tr>\n",
       "    <tr>\n",
       "      <td>29</td>\n",
       "      <td>0.324300</td>\n",
       "      <td>0.483359</td>\n",
       "      <td>0.800000</td>\n",
       "      <td>0.891000</td>\n",
       "      <td>0.814800</td>\n",
       "      <td>0.782600</td>\n",
       "      <td>0.733300</td>\n",
       "      <td>0.900000</td>\n",
       "      <td>0.916700</td>\n",
       "      <td>0.692300</td>\n",
       "      <td>0.816700</td>\n",
       "      <td>0.804500</td>\n",
       "      <td>0.798700</td>\n",
       "    </tr>\n",
       "  </tbody>\n",
       "</table><p>"
      ],
      "text/plain": [
       "<IPython.core.display.HTML object>"
      ]
     },
     "metadata": {},
     "output_type": "display_data"
    },
    {
     "name": "stdout",
     "output_type": "stream",
     "text": [
      "\n",
      "🧪 Avaliação final do melhor modelo no conjunto de teste...\n"
     ]
    },
    {
     "data": {
      "text/html": [
       "\n",
       "    <div>\n",
       "      \n",
       "      <progress value='4' max='4' style='width:300px; height:20px; vertical-align: middle;'></progress>\n",
       "      [4/4 00:00]\n",
       "    </div>\n",
       "    "
      ],
      "text/plain": [
       "<IPython.core.display.HTML object>"
      ]
     },
     "metadata": {},
     "output_type": "display_data"
    },
    {
     "data": {
      "image/png": "[encoded data removed]",
      "text/plain": [
       "<Figure size 1000x500 with 1 Axes>"
      ]
     },
     "metadata": {},
     "output_type": "display_data"
    }
   ],
   "source": [
    "train_losses_plot, val_losses_plot, test_losses_plot = [], [], []\n",
    "train_accuracies_plot, val_accuracies_plot, test_accuracies_plot = [], [], []\n",
    "\n",
    "# Configuração dos argumentos de treinamento\n",
    "training_args = TrainingArguments(\n",
    "    output_dir=\"./bertimbau-denuncias\",\n",
    "    per_device_train_batch_size=8,\n",
    "    per_device_eval_batch_size=8,\n",
    "    learning_rate=5e-5,\n",
    "    num_train_epochs=30,\n",
    "    eval_strategy=\"epoch\",        # Avaliar no conjunto de validação ao final de cada época\n",
    "    save_strategy=\"epoch\",        # Salvar checkpoint ao final de cada época\n",
    "    logging_strategy=\"epoch\", # Registrar métricas ao final de cada época\n",
    "    load_best_model_at_end=True,  # Carregar o melhor modelo (baseado na métrica de validação) ao final do treino\n",
    "    metric_for_best_model=\"eval_loss\",\n",
    "    greater_is_better=False,\n",
    "    logging_dir=\"./logs\",\n",
    "    logging_steps=10,\n",
    "    disable_tqdm=False,\n",
    "    report_to=\"none\",             # Desativar report para plataformas como Weights & Biases\n",
    "    fp16=True,                    # Habilitar mixed precision training\n",
    "    seed=42,\n",
    "    gradient_accumulation_steps=1,\n",
    "    remove_unused_columns=True,\n",
    "    label_names=[\"labels\"]\n",
    ")\n",
    "\n",
    "# Data Collator para padding dinâmico\n",
    "data_collator = DataCollatorWithPadding(tokenizer=tokenizer)\n",
    "\n",
    "# Custom Dataset (para trabalhar com DataFrames)\n",
    "class CustomDataset(TorchDataset):\n",
    "    def __init__(self, encodings, labels):\n",
    "        # Converte para tensor e garante que encodings.items() tem os valores corretos\n",
    "        self.encodings = {key: torch.tensor(val) for key, val in encodings.items()}\n",
    "        # Converte labels para tensor, lidando com pd.Series ou listas/arrays\n",
    "        self.labels = torch.tensor(labels.values if isinstance(labels, pd.Series) else labels)\n",
    "\n",
    "    def __getitem__(self, idx):\n",
    "        item = {key: val[idx] for key, val in self.encodings.items()}\n",
    "        item['labels'] = self.labels[idx]\n",
    "        return item\n",
    "\n",
    "    def __len__(self):\n",
    "        return len(self.labels)\n",
    "\n",
    "# Criar datasets\n",
    "# Assegure que train_df, val_df, test_df e label2id estejam definidos.\n",
    "# .tolist() é importante para garantir que labels sejam um tipo Python nativo antes de converter para tensor no CustomDataset.\n",
    "train_dataset = CustomDataset(train_encodings, train_df['classe'].map(label2id).tolist())\n",
    "val_dataset = CustomDataset(val_encodings, val_df['classe'].map(label2id).tolist())\n",
    "test_dataset = CustomDataset(test_encodings, test_df['classe'].map(label2id).tolist())\n",
    "\n",
    "# Instanciar o Trainer\n",
    "trainer = Trainer(\n",
    "    model=model,\n",
    "    args=training_args,\n",
    "    train_dataset=train_dataset,\n",
    "    eval_dataset=val_dataset, # O trainer usará este para avaliação automática por época\n",
    "    callbacks=[EarlyStoppingCallback(early_stopping_patience=3, early_stopping_threshold = 1e-3)],\n",
    "    compute_metrics=compute_metrics\n",
    ")\n",
    "\n",
    "try:\n",
    "    print(\"\\n🚀 Iniciando treinamento...\")\n",
    "\n",
    "    # O trainer.train() irá executar o treinamento e as avaliações de validação\n",
    "    # por época, além de carregar o melhor modelo no final.\n",
    "    train_results = trainer.train()\n",
    "\n",
    "    # --- Extrair métricas dos logs para os gráficos ---\n",
    "    # Os logs contêm as métricas de treino e validação por época\n",
    "    logs = trainer.state.log_history\n",
    "\n",
    "    # Iterar sobre os logs para preencher as listas de plotagem\n",
    "    for log_entry in logs:\n",
    "        # Perdas de Treino: o 'loss' é logado para o treinamento\n",
    "        if 'loss' in log_entry and 'eval_loss' not in log_entry:\n",
    "            train_losses_plot.append(log_entry['loss'])\n",
    "\n",
    "        # Métricas de Validação: logadas com prefixo 'eval_'\n",
    "        if 'eval_loss' in log_entry and 'eval_accuracy' in log_entry:\n",
    "            val_losses_plot.append(log_entry['eval_loss'])\n",
    "            val_accuracies_plot.append(log_entry['eval_accuracy'])\n",
    "\n",
    "    # --- Avaliação final do melhor modelo no conjunto de teste ---\n",
    "    # Este é o ponto mais importante para as métricas finais do seu modelo.\n",
    "    print(\"\\n🧪 Avaliação final do melhor modelo no conjunto de teste...\")\n",
    "    final_test_metrics = trainer.evaluate(test_dataset)\n",
    "\n",
    "    # --- 📊 Gráficos de comparação por época ---\n",
    "\n",
    "    # O número de épocas para plotagem será o número de avaliações de validação registradas\n",
    "    epochs_completed = len(val_accuracies_plot)\n",
    "    epochs_to_plot = list(range(1, epochs_completed + 1))\n",
    "\n",
    "    train_losses_for_plot = train_losses_plot[-epochs_completed:] if len(train_losses_plot) >= epochs_completed else train_losses_plot\n",
    "\n",
    "    if not epochs_to_plot:\n",
    "        print(\"\\nNão há dados suficientes para gerar os gráficos. Verifique o processo de treinamento e coleta de métricas.\")\n",
    "    else:\n",
    "        # Loss por época (Treino, Validação)\n",
    "        plt.figure(figsize=(10, 5))\n",
    "        plt.plot(epochs_to_plot, train_losses_for_plot, label=\"Treino\", marker='o')\n",
    "        plt.plot(epochs_to_plot, val_losses_plot, label=\"Validação\", marker='o')\n",
    "        # Plotar o resultado final do teste como um ponto ou linha horizontal.\n",
    "        plt.xlabel(\"Época\")\n",
    "        plt.ylabel(\"Loss\")\n",
    "        plt.title(\"Loss por Época (Treino, Validação)\")\n",
    "        plt.legend()\n",
    "        plt.grid(True)\n",
    "        plt.show()\n",
    "\n",
    "except Exception as e:\n",
    "    print(f\"An error occurred during training or evaluation: {e}\")"
   ]
  },
  {
   "cell_type": "markdown",
   "metadata": {
    "id": "fFSsNAWvaQQs"
   },
   "source": [
    "# **6. AVALIAÇÃO FINAL NO TESTE**"
   ]
  },
  {
   "cell_type": "code",
   "execution_count": null,
   "metadata": {
    "colab": {
     "base_uri": "https://localhost:8080/",
     "height": 345
    },
    "id": "0a5gLzc6aQuU",
    "outputId": "290fc878-551b-47d0-fd69-5f695ff20bd4"
   },
   "outputs": [
    {
     "name": "stdout",
     "output_type": "stream",
     "text": [
      "\n",
      "\n",
      "==================== RESULTADOS FINAIS DO MODELO ====================\n",
      "\n",
      "Avaliação no conjunto de teste:\n"
     ]
    },
    {
     "data": {
      "text/html": [],
      "text/plain": [
       "<IPython.core.display.HTML object>"
      ]
     },
     "metadata": {},
     "output_type": "display_data"
    },
    {
     "name": "stdout",
     "output_type": "stream",
     "text": [
      "test_loss: 0.527912437915802\n",
      "test_accuracy: 0.7308\n",
      "test_auc: 0.8462\n",
      "test_f1_invasao: 0.72\n",
      "test_f1_violencia: 0.7407\n",
      "test_precision_invasao: 0.75\n",
      "test_precision_violencia: 0.7143\n",
      "test_recall_invasao: 0.6923\n",
      "test_recall_violencia: 0.7692\n",
      "test_precision_macro: 0.7321\n",
      "test_recall_macro: 0.7308\n",
      "test_f1_macro: 0.7304\n",
      "test_runtime: 0.1363\n",
      "test_samples_per_second: 190.788\n",
      "test_steps_per_second: 29.352\n"
     ]
    }
   ],
   "source": [
    "print(\"\\n\\n==================== RESULTADOS FINAIS DO MODELO ====================\")\n",
    "print(\"\\nAvaliação no conjunto de teste:\")\n",
    "\n",
    "test_results = trainer.predict(test_dataset)\n",
    "final_metrics = test_results.metrics\n",
    "\n",
    "for metric, value in final_metrics.items():\n",
    "    print(f\"{metric}: {value}\")"
   ]
  },
  {
   "cell_type": "markdown",
   "metadata": {
    "id": "1SLL_XiZaSle"
   },
   "source": [
    "# **7. SALVAR MODELO E DADOS DE RESULTADOS**"
   ]
  },
  {
   "cell_type": "code",
   "execution_count": null,
   "metadata": {
    "colab": {
     "base_uri": "https://localhost:8080/"
    },
    "id": "PbEnj8O5aUmx",
    "outputId": "edc55fca-4de4-4149-abd7-fbaea7126cdf"
   },
   "outputs": [
    {
     "name": "stdout",
     "output_type": "stream",
     "text": [
      "Modelo salvo no Google Drive!\n",
      "Resultados de teste (texto, rótulo verdadeiro, rótulo predito) salvos em: /content/drive/MyDrive/2025/tcc-final/resultados/resultados_fine_tuning.xlsx\n",
      "Métricas finais salvas em: /content/drive/MyDrive/2025/tcc-final/resultados/metricas_finais.txt\n",
      "\n",
      "Tempo total de execução do script: 358.37 segundos\n"
     ]
    }
   ],
   "source": [
    "model.save_pretrained(\"/content/drive/MyDrive/2025/tcc-final/resultados/modelo_bertimbau_final\")\n",
    "tokenizer.save_pretrained(\"/content/drive/MyDrive/2025/tcc-final/resultados/modelo_bertimbau_final\")\n",
    "print(\"Modelo salvo no Google Drive!\")\n",
    "\n",
    "# Salvar resultados do treinamento e rótulos/previsões finais\n",
    "output_results_path = \"/content/drive/MyDrive/2025/tcc-final/resultados/resultados_fine_tuning.xlsx\"\n",
    "\n",
    "# Get the predictions from the test_results object\n",
    "predictions = np.argmax(test_results.predictions, axis=1)\n",
    "\n",
    "\n",
    "# Criar um DataFrame para os resultados de teste\n",
    "results_df = pd.DataFrame({\n",
    "    'texto': test_df['texto'],\n",
    "    'rotulo_verdadeiro': test_df['classe'],\n",
    "    'rotulo_predito_id': predictions,\n",
    "    'rotulo_predito': [id2label[p] for p in predictions]\n",
    "})\n",
    "\n",
    "# Salvar o DataFrame de resultados em um arquivo Excel\n",
    "results_df.to_excel(output_results_path, index=False)\n",
    "print(f\"Resultados de teste (texto, rótulo verdadeiro, rótulo predito) salvos em: {output_results_path}\")\n",
    "\n",
    "# Salvar as métricas finais em um arquivo de texto ou CSV\n",
    "metrics_output_path = \"/content/drive/MyDrive/2025/tcc-final/resultados/metricas_finais.txt\"\n",
    "with open(metrics_output_path, 'w') as f:\n",
    "    f.write(\"Métricas Finais da Avaliação no Conjunto de Teste:\\n\")\n",
    "    for metric_name, value in final_metrics.items():\n",
    "        f.write(f\"{metric_name}: {value:.4f}\\n\")\n",
    "print(f\"Métricas finais salvas em: {metrics_output_path}\")\n",
    "\n",
    "# --- FIM DO CONTADOR DE TEMPO ---\n",
    "end_total_time = time.time()\n",
    "total_execution_time = end_total_time - start_total_time\n",
    "print(f\"\\nTempo total de execução do script: {total_execution_time:.2f} segundos\")"
   ]
  }
 ],
 "metadata": {
  "accelerator": "GPU",
  "colab": {
   "gpuType": "T4",
   "provenance": []
  },
  "kernelspec": {
   "display_name": "Python 3",
   "name": "python3"
  },
  "language_info": {
   "name": "python"
  }
 },
 "nbformat": 4,
 "nbformat_minor": 0
}
