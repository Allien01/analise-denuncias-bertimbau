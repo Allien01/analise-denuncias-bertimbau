{
 "cells": [
  {
   "cell_type": "markdown",
   "metadata": {
    "id": "1Kkt3yw00IoE"
   },
   "source": [
    "@inproceedings{souza2020bertimbau,\n",
    "  author    = {F{\\'a}bio Souza and\n",
    "               Rodrigo Nogueira and\n",
    "               Roberto Lotufo},\n",
    "  title     = {{BERT}imbau: pretrained {BERT} models for {B}razilian {P}ortuguese},\n",
    "  booktitle = {9th Brazilian Conference on Intelligent Systems, {BRACIS}, Rio Grande do Sul, Brazil, October 20-23 (to appear)},\n",
    "  year      = {2020}\n",
    "}\n"
   ]
  },
  {
   "cell_type": "markdown",
   "metadata": {
    "id": "AYpHg_BMl-pZ"
   },
   "source": [
    "# **Conectando ao Google Drive**\n",
    "\n",
    "\n",
    "Para acessar e carregar os dados necessários para o projeto, montamos o Google Drive. Isso permite que o notebook leia arquivos diretamente de uma pasta em sua conta, facilitando o gerenciamento e a persistência dos dados entre diferentes sessões. O comando a seguir solicita permissão para conectar o ambiente do Colab ao seu Drive."
   ]
  },
  {
   "cell_type": "code",
   "execution_count": null,
   "metadata": {
    "colab": {
     "base_uri": "https://localhost:8080/"
    },
    "id": "Ey0-HM5ocnvu",
    "outputId": "6c2f29f6-bbbb-40c8-c3d8-36f0cb7e4657"
   },
   "outputs": [
    {
     "name": "stdout",
     "output_type": "stream",
     "text": [
      "Mounted at /content/drive\n"
     ]
    }
   ],
   "source": [
    "from google.colab import drive\n",
    "drive.mount('/content/drive')"
   ]
  },
  {
   "cell_type": "code",
   "execution_count": null,
   "metadata": {
    "colab": {
     "base_uri": "https://localhost:8080/"
    },
    "id": "XcTbLWwTr74s",
    "outputId": "ba691631-ddb6-4a61-c2e5-20066f609ecb"
   },
   "outputs": [
    {
     "name": "stdout",
     "output_type": "stream",
     "text": [
      "Requirement already satisfied: transformers in /usr/local/lib/python3.12/dist-packages (4.56.1)\n",
      "Collecting evaluate\n",
      "  Downloading evaluate-0.4.6-py3-none-any.whl.metadata (9.5 kB)\n",
      "Requirement already satisfied: accelerate in /usr/local/lib/python3.12/dist-packages (1.10.1)\n",
      "Requirement already satisfied: filelock in /usr/local/lib/python3.12/dist-packages (from transformers) (3.19.1)\n",
      "Requirement already satisfied: huggingface-hub<1.0,>=0.34.0 in /usr/local/lib/python3.12/dist-packages (from transformers) (0.35.0)\n",
      "Requirement already satisfied: numpy>=1.17 in /usr/local/lib/python3.12/dist-packages (from transformers) (2.0.2)\n",
      "Requirement already satisfied: packaging>=20.0 in /usr/local/lib/python3.12/dist-packages (from transformers) (25.0)\n",
      "Requirement already satisfied: pyyaml>=5.1 in /usr/local/lib/python3.12/dist-packages (from transformers) (6.0.2)\n",
      "Requirement already satisfied: regex!=2019.12.17 in /usr/local/lib/python3.12/dist-packages (from transformers) (2024.11.6)\n",
      "Requirement already satisfied: requests in /usr/local/lib/python3.12/dist-packages (from transformers) (2.32.4)\n",
      "Requirement already satisfied: tokenizers<=0.23.0,>=0.22.0 in /usr/local/lib/python3.12/dist-packages (from transformers) (0.22.0)\n",
      "Requirement already satisfied: safetensors>=0.4.3 in /usr/local/lib/python3.12/dist-packages (from transformers) (0.6.2)\n",
      "Requirement already satisfied: tqdm>=4.27 in /usr/local/lib/python3.12/dist-packages (from transformers) (4.67.1)\n",
      "Requirement already satisfied: datasets>=2.0.0 in /usr/local/lib/python3.12/dist-packages (from evaluate) (4.0.0)\n",
      "Requirement already satisfied: dill in /usr/local/lib/python3.12/dist-packages (from evaluate) (0.3.8)\n",
      "Requirement already satisfied: pandas in /usr/local/lib/python3.12/dist-packages (from evaluate) (2.2.2)\n",
      "Requirement already satisfied: xxhash in /usr/local/lib/python3.12/dist-packages (from evaluate) (3.5.0)\n",
      "Requirement already satisfied: multiprocess in /usr/local/lib/python3.12/dist-packages (from evaluate) (0.70.16)\n",
      "Requirement already satisfied: fsspec>=2021.05.0 in /usr/local/lib/python3.12/dist-packages (from fsspec[http]>=2021.05.0->evaluate) (2025.3.0)\n",
      "Requirement already satisfied: psutil in /usr/local/lib/python3.12/dist-packages (from accelerate) (5.9.5)\n",
      "Requirement already satisfied: torch>=2.0.0 in /usr/local/lib/python3.12/dist-packages (from accelerate) (2.8.0+cu126)\n",
      "Requirement already satisfied: pyarrow>=15.0.0 in /usr/local/lib/python3.12/dist-packages (from datasets>=2.0.0->evaluate) (18.1.0)\n",
      "Requirement already satisfied: aiohttp!=4.0.0a0,!=4.0.0a1 in /usr/local/lib/python3.12/dist-packages (from fsspec[http]>=2021.05.0->evaluate) (3.12.15)\n",
      "Requirement already satisfied: typing-extensions>=3.7.4.3 in /usr/local/lib/python3.12/dist-packages (from huggingface-hub<1.0,>=0.34.0->transformers) (4.15.0)\n",
      "Requirement already satisfied: hf-xet<2.0.0,>=1.1.3 in /usr/local/lib/python3.12/dist-packages (from huggingface-hub<1.0,>=0.34.0->transformers) (1.1.10)\n",
      "Requirement already satisfied: charset_normalizer<4,>=2 in /usr/local/lib/python3.12/dist-packages (from requests->transformers) (3.4.3)\n",
      "Requirement already satisfied: idna<4,>=2.5 in /usr/local/lib/python3.12/dist-packages (from requests->transformers) (3.10)\n",
      "Requirement already satisfied: urllib3<3,>=1.21.1 in /usr/local/lib/python3.12/dist-packages (from requests->transformers) (2.5.0)\n",
      "Requirement already satisfied: certifi>=2017.4.17 in /usr/local/lib/python3.12/dist-packages (from requests->transformers) (2025.8.3)\n",
      "Requirement already satisfied: setuptools in /usr/local/lib/python3.12/dist-packages (from torch>=2.0.0->accelerate) (75.2.0)\n",
      "Requirement already satisfied: sympy>=1.13.3 in /usr/local/lib/python3.12/dist-packages (from torch>=2.0.0->accelerate) (1.13.3)\n",
      "Requirement already satisfied: networkx in /usr/local/lib/python3.12/dist-packages (from torch>=2.0.0->accelerate) (3.5)\n",
      "Requirement already satisfied: jinja2 in /usr/local/lib/python3.12/dist-packages (from torch>=2.0.0->accelerate) (3.1.6)\n",
      "Requirement already satisfied: nvidia-cuda-nvrtc-cu12==12.6.77 in /usr/local/lib/python3.12/dist-packages (from torch>=2.0.0->accelerate) (12.6.77)\n",
      "Requirement already satisfied: nvidia-cuda-runtime-cu12==12.6.77 in /usr/local/lib/python3.12/dist-packages (from torch>=2.0.0->accelerate) (12.6.77)\n",
      "Requirement already satisfied: nvidia-cuda-cupti-cu12==12.6.80 in /usr/local/lib/python3.12/dist-packages (from torch>=2.0.0->accelerate) (12.6.80)\n",
      "Requirement already satisfied: nvidia-cudnn-cu12==9.10.2.21 in /usr/local/lib/python3.12/dist-packages (from torch>=2.0.0->accelerate) (9.10.2.21)\n",
      "Requirement already satisfied: nvidia-cublas-cu12==12.6.4.1 in /usr/local/lib/python3.12/dist-packages (from torch>=2.0.0->accelerate) (12.6.4.1)\n",
      "Requirement already satisfied: nvidia-cufft-cu12==11.3.0.4 in /usr/local/lib/python3.12/dist-packages (from torch>=2.0.0->accelerate) (11.3.0.4)\n",
      "Requirement already satisfied: nvidia-curand-cu12==10.3.7.77 in /usr/local/lib/python3.12/dist-packages (from torch>=2.0.0->accelerate) (10.3.7.77)\n",
      "Requirement already satisfied: nvidia-cusolver-cu12==11.7.1.2 in /usr/local/lib/python3.12/dist-packages (from torch>=2.0.0->accelerate) (11.7.1.2)\n",
      "Requirement already satisfied: nvidia-cusparse-cu12==12.5.4.2 in /usr/local/lib/python3.12/dist-packages (from torch>=2.0.0->accelerate) (12.5.4.2)\n",
      "Requirement already satisfied: nvidia-cusparselt-cu12==0.7.1 in /usr/local/lib/python3.12/dist-packages (from torch>=2.0.0->accelerate) (0.7.1)\n",
      "Requirement already satisfied: nvidia-nccl-cu12==2.27.3 in /usr/local/lib/python3.12/dist-packages (from torch>=2.0.0->accelerate) (2.27.3)\n",
      "Requirement already satisfied: nvidia-nvtx-cu12==12.6.77 in /usr/local/lib/python3.12/dist-packages (from torch>=2.0.0->accelerate) (12.6.77)\n",
      "Requirement already satisfied: nvidia-nvjitlink-cu12==12.6.85 in /usr/local/lib/python3.12/dist-packages (from torch>=2.0.0->accelerate) (12.6.85)\n",
      "Requirement already satisfied: nvidia-cufile-cu12==1.11.1.6 in /usr/local/lib/python3.12/dist-packages (from torch>=2.0.0->accelerate) (1.11.1.6)\n",
      "Requirement already satisfied: triton==3.4.0 in /usr/local/lib/python3.12/dist-packages (from torch>=2.0.0->accelerate) (3.4.0)\n",
      "Requirement already satisfied: python-dateutil>=2.8.2 in /usr/local/lib/python3.12/dist-packages (from pandas->evaluate) (2.9.0.post0)\n",
      "Requirement already satisfied: pytz>=2020.1 in /usr/local/lib/python3.12/dist-packages (from pandas->evaluate) (2025.2)\n",
      "Requirement already satisfied: tzdata>=2022.7 in /usr/local/lib/python3.12/dist-packages (from pandas->evaluate) (2025.2)\n",
      "Requirement already satisfied: aiohappyeyeballs>=2.5.0 in /usr/local/lib/python3.12/dist-packages (from aiohttp!=4.0.0a0,!=4.0.0a1->fsspec[http]>=2021.05.0->evaluate) (2.6.1)\n",
      "Requirement already satisfied: aiosignal>=1.4.0 in /usr/local/lib/python3.12/dist-packages (from aiohttp!=4.0.0a0,!=4.0.0a1->fsspec[http]>=2021.05.0->evaluate) (1.4.0)\n",
      "Requirement already satisfied: attrs>=17.3.0 in /usr/local/lib/python3.12/dist-packages (from aiohttp!=4.0.0a0,!=4.0.0a1->fsspec[http]>=2021.05.0->evaluate) (25.3.0)\n",
      "Requirement already satisfied: frozenlist>=1.1.1 in /usr/local/lib/python3.12/dist-packages (from aiohttp!=4.0.0a0,!=4.0.0a1->fsspec[http]>=2021.05.0->evaluate) (1.7.0)\n",
      "Requirement already satisfied: multidict<7.0,>=4.5 in /usr/local/lib/python3.12/dist-packages (from aiohttp!=4.0.0a0,!=4.0.0a1->fsspec[http]>=2021.05.0->evaluate) (6.6.4)\n",
      "Requirement already satisfied: propcache>=0.2.0 in /usr/local/lib/python3.12/dist-packages (from aiohttp!=4.0.0a0,!=4.0.0a1->fsspec[http]>=2021.05.0->evaluate) (0.3.2)\n",
      "Requirement already satisfied: yarl<2.0,>=1.17.0 in /usr/local/lib/python3.12/dist-packages (from aiohttp!=4.0.0a0,!=4.0.0a1->fsspec[http]>=2021.05.0->evaluate) (1.20.1)\n",
      "Requirement already satisfied: six>=1.5 in /usr/local/lib/python3.12/dist-packages (from python-dateutil>=2.8.2->pandas->evaluate) (1.17.0)\n",
      "Requirement already satisfied: mpmath<1.4,>=1.1.0 in /usr/local/lib/python3.12/dist-packages (from sympy>=1.13.3->torch>=2.0.0->accelerate) (1.3.0)\n",
      "Requirement already satisfied: MarkupSafe>=2.0 in /usr/local/lib/python3.12/dist-packages (from jinja2->torch>=2.0.0->accelerate) (3.0.2)\n",
      "Downloading evaluate-0.4.6-py3-none-any.whl (84 kB)\n",
      "\u001b[2K   \u001b[90m━━━━━━━━━━━━━━━━━━━━━━━━━━━━━━━━━━━━━━━━\u001b[0m \u001b[32m84.1/84.1 kB\u001b[0m \u001b[31m4.6 MB/s\u001b[0m eta \u001b[36m0:00:00\u001b[0m\n",
      "\u001b[?25hInstalling collected packages: evaluate\n",
      "Successfully installed evaluate-0.4.6\n"
     ]
    }
   ],
   "source": [
    "!pip install transformers evaluate accelerate"
   ]
  },
  {
   "cell_type": "code",
   "execution_count": null,
   "metadata": {
    "id": "feHRGfqdONsa"
   },
   "outputs": [],
   "source": [
    "import pandas as pd\n",
    "import numpy as np\n",
    "import evaluate\n",
    "from sklearn.model_selection import train_test_split\n",
    "from transformers import (\n",
    "    AutoTokenizer,\n",
    "    AutoModelForSequenceClassification,\n",
    "    TrainingArguments,\n",
    "    Trainer,\n",
    "    DataCollatorWithPadding,\n",
    "    EarlyStoppingCallback\n",
    ")\n",
    "import torch\n",
    "from torch.utils.data import Dataset as TorchDataset\n",
    "import matplotlib.pyplot as plt\n",
    "import sys\n",
    "import subprocess\n",
    "import time\n",
    "start_total_time = time.time()"
   ]
  },
  {
   "cell_type": "markdown",
   "metadata": {
    "id": "qkRUcLU1PHke"
   },
   "source": [
    "# **1. Preparação dos Dados: Dividindo e balanceando o dataset**"
   ]
  },
  {
   "cell_type": "markdown",
   "metadata": {
    "id": "cSTIVroTlVJi"
   },
   "source": [
    "Nesta etapa, o conjunto de dados é preparado para o treinamento do modelo. O ***arquivo denuncias_balanceadas.xlsx*** é dividido em três partes: treino (70%), validação (15%) e teste (15%), garantindo que cada conjunto tenha uma distribuição similar das classes ***invasao_domicilio*** e ***violencia_fisica***.\n",
    "\n"
   ]
  },
  {
   "cell_type": "code",
   "execution_count": null,
   "metadata": {
    "colab": {
     "base_uri": "https://localhost:8080/"
    },
    "id": "3O3x60E3PHtT",
    "outputId": "52166314-7ce4-4a7d-9fc9-d5e8fa60abef"
   },
   "outputs": [
    {
     "name": "stdout",
     "output_type": "stream",
     "text": [
      "Treino: 118, Validação: 25, Teste: 26\n"
     ]
    }
   ],
   "source": [
    "# Carregar dataset já processado\n",
    "file_path = '/content/drive/MyDrive/2025/tcc-final/denuncias_balanceadas.xlsx'\n",
    "df = pd.read_excel(file_path)\n",
    "\n",
    "# Dividir em treino (70%), validação (15%) e teste (15%)\n",
    "train_df, temp_df = train_test_split(df, test_size=0.3, stratify=df['classe'], random_state=42)\n",
    "val_df, test_df = train_test_split(temp_df, test_size=0.5, stratify=temp_df['classe'], random_state=42)\n",
    "\n",
    "print(f\"Treino: {len(train_df)}, Validação: {len(val_df)}, Teste: {len(test_df)}\")"
   ]
  },
  {
   "cell_type": "markdown",
   "metadata": {
    "id": "DE3WAEgOPYHa"
   },
   "source": [
    "# **2. Tokenização com BERTimbau**"
   ]
  },
  {
   "cell_type": "markdown",
   "metadata": {
    "id": "PLF_TF9omQw7"
   },
   "source": [
    "Para que o modelo BERTimbau entenda nossos textos, é preciso convertê-los em um formato numérico. Este processo, chamado de tokenização, utiliza o ***AutoTokenizer*** do modelo BERTimbau, que é um modelo de linguagem pré-treinado especificamente para o português do Brasil. O ***tokenizer*** quebra os textos em ***tokens*** (palavras ou partes de palavras) e os mapeia para números que o modelo pode processar."
   ]
  },
  {
   "cell_type": "code",
   "execution_count": null,
   "metadata": {
    "colab": {
     "base_uri": "https://localhost:8080/",
     "height": 324,
     "referenced_widgets": [
      "f4c01dbd10ff4a63b3568b88bca837d0",
      "82e982f8ae6b438fb15ed2824767ff9d",
      "9609288eac6b4766a03a4876280804c2",
      "b0e6b48b8bd249aaad06e261a70124f9",
      "ac6f7a1f76ed4302ba554d4db6da41db",
      "e581077d73b64282b71cc239e251f58e",
      "2a56836cc5754c75b47ced336a02ae4c",
      "ac390c7ca1054c6b9f905c595a6493b9",
      "5af833a246d541ec9a85aab48ab8c95a",
      "6a53959fea0d4203b9ad9256398d649f",
      "28809642f5d7431a8f596049db8bf122",
      "b0689823bdfc49049454abb5e15c694e",
      "a5c44f467800441fa0dee5b40030ddf9",
      "3d48b04e48cf417b807e4af641ec2a79",
      "09618881b6564ec5b316e5d032b80df7",
      "b4d8b0af1d11422e88ea4d7070059d9d",
      "7cbaccdb8fed428aaa0a292fbadbb250",
      "b4ded4c8ba0342b6a17727f119c66653",
      "7b26081c938849829c8d53024de432db",
      "5092dcd2708a489ea0abd3139deb12e6",
      "dfb1588a08924fdfaacf998a84c583d5",
      "407fb74cb8994b9288d97ee705cc11b5",
      "dd4fe6b985aa4ea28c34d87b78139bfd",
      "b92536c3bad64b3e927da79277a2cadd",
      "2d80327183b9453ea3629279787a3dfc",
      "d54de5307f754d1099c329a8fa4ec977",
      "556fd3e84a4946c08419c4512b12f927",
      "abc17455f556444c8798903bcda165cc",
      "4230481840144e79970e78eb5b83fcba",
      "47c45fe300d147d8b43315b7889eb380",
      "d199685bd22c447db408b9263bfd14d2",
      "3e097432f0ce48a48160a026a231c1e3",
      "3814c643a6ca41f6ac6b4b4dd2527468",
      "d35b0c6163b0433fa99d39837e01fb0a",
      "53f8f70bf1884c2096adb9456d67a2fc",
      "979df651341740949417218488cc80e8",
      "bdee3adc247d4feb87730ed908ce52f4",
      "2f002fc67d2348c0a77385ca4522c02e",
      "b2275ec603f94f748906222a2fd5edfa",
      "61a92b048db8404791bf38eb71a7d463",
      "497a619981bc49f6adca823fc2749108",
      "5fae2a6d353b47e781b6920da79cb661",
      "cb61118eaa9447b79915e81dae12222f",
      "e58ce6742743420a9e282ea9bcf3b8e3",
      "6ce67fcc08914334a0201dd4c41cd98f",
      "fe4d8bc1bb62426da28aa5171e65fa49",
      "adff9e6d58384b86a00fbed5ff0d19d3",
      "af6fe33c83ca49629c6962b8efa9a1c0",
      "4b911fdfe39d49ee95c49e24ff1d1e54",
      "03803f5a73564f828c6f2b3405a7c3a7",
      "84fb4dad99984caea2a426ea8100b6b3",
      "7500c834b7b7414a81639573581a2d8d",
      "30e4e04bc8954e65ab43e4e03ea89bd7",
      "6c596bcb5179465492dead9858aa66b7",
      "f48a14296a1646f5b0eda5d3f79dcbd3"
     ]
    },
    "id": "sql7RSXMPd1g",
    "outputId": "e624dcbc-ccb7-475e-a68d-8cc5b067de94"
   },
   "outputs": [
    {
     "name": "stderr",
     "output_type": "stream",
     "text": [
      "/usr/local/lib/python3.12/dist-packages/huggingface_hub/utils/_auth.py:94: UserWarning: \n",
      "The secret `HF_TOKEN` does not exist in your Colab secrets.\n",
      "To authenticate with the Hugging Face Hub, create a token in your settings tab (https://huggingface.co/settings/tokens), set it as secret in your Google Colab and restart your session.\n",
      "You will be able to reuse this secret in all of your notebooks.\n",
      "Please note that authentication is recommended but still optional to access public models or datasets.\n",
      "  warnings.warn(\n"
     ]
    },
    {
     "data": {
      "application/vnd.jupyter.widget-view+json": {
       "model_id": "f4c01dbd10ff4a63b3568b88bca837d0",
       "version_major": 2,
       "version_minor": 0
      },
      "text/plain": [
       "tokenizer_config.json:   0%|          | 0.00/43.0 [00:00<?, ?B/s]"
      ]
     },
     "metadata": {},
     "output_type": "display_data"
    },
    {
     "data": {
      "application/vnd.jupyter.widget-view+json": {
       "model_id": "b0689823bdfc49049454abb5e15c694e",
       "version_major": 2,
       "version_minor": 0
      },
      "text/plain": [
       "config.json:   0%|          | 0.00/647 [00:00<?, ?B/s]"
      ]
     },
     "metadata": {},
     "output_type": "display_data"
    },
    {
     "data": {
      "application/vnd.jupyter.widget-view+json": {
       "model_id": "dd4fe6b985aa4ea28c34d87b78139bfd",
       "version_major": 2,
       "version_minor": 0
      },
      "text/plain": [
       "vocab.txt: 0.00B [00:00, ?B/s]"
      ]
     },
     "metadata": {},
     "output_type": "display_data"
    },
    {
     "data": {
      "application/vnd.jupyter.widget-view+json": {
       "model_id": "d35b0c6163b0433fa99d39837e01fb0a",
       "version_major": 2,
       "version_minor": 0
      },
      "text/plain": [
       "added_tokens.json:   0%|          | 0.00/2.00 [00:00<?, ?B/s]"
      ]
     },
     "metadata": {},
     "output_type": "display_data"
    },
    {
     "data": {
      "application/vnd.jupyter.widget-view+json": {
       "model_id": "6ce67fcc08914334a0201dd4c41cd98f",
       "version_major": 2,
       "version_minor": 0
      },
      "text/plain": [
       "special_tokens_map.json:   0%|          | 0.00/112 [00:00<?, ?B/s]"
      ]
     },
     "metadata": {},
     "output_type": "display_data"
    },
    {
     "name": "stdout",
     "output_type": "stream",
     "text": [
      "Encoding(num_tokens=512, attributes=[ids, type_ids, tokens, offsets, attention_mask, special_tokens_mask, overflowing])\n",
      "Encoding(num_tokens=238, attributes=[ids, type_ids, tokens, offsets, attention_mask, special_tokens_mask, overflowing])\n",
      "Encoding(num_tokens=189, attributes=[ids, type_ids, tokens, offsets, attention_mask, special_tokens_mask, overflowing])\n"
     ]
    }
   ],
   "source": [
    "model_path = \"neuralmind/bert-base-portuguese-cased\"\n",
    "tokenizer = AutoTokenizer.from_pretrained(model_path)\n",
    "\n",
    "# Função de tokenização\n",
    "def tokenize_function(batch):\n",
    "    return tokenizer(batch[\"texto\"], truncation=True,max_length=512, padding='longest',return_tensors='pt')\n",
    "\n",
    "# Tokenizar os DataFrames diretamente (sem usar datasets.Dataset)\n",
    "train_encodings = tokenize_function(train_df.to_dict('list'))\n",
    "val_encodings = tokenize_function(val_df.to_dict('list'))\n",
    "test_encodings = tokenize_function(test_df.to_dict('list'))\n",
    "print(train_encodings[0])\n",
    "print(val_encodings[0])\n",
    "print(test_encodings[0])"
   ]
  },
  {
   "cell_type": "markdown",
   "metadata": {
    "id": "U0mzN3JPP-s4"
   },
   "source": [
    "# **3. Configuração do Modelo: Adaptando o BERTimbau para a nossa tarefa**"
   ]
  },
  {
   "cell_type": "markdown",
   "metadata": {
    "id": "hXAZ46UOm9oC"
   },
   "source": [
    "Aqui, carregamos o modelo BERTimbau pré-treinado e o adaptamos para a nossa tarefa de classificação de texto. A parte mais importante desta etapa é a configuração da camada final (chamada de ***classifier***), que será treinada para prever uma de nossas duas classes. Além disso, congelamos as camadas de base do BERT, o que significa que apenas a nova camada do classificador será ajustada, otimizando o treinamento para um conjunto de dados menor."
   ]
  },
  {
   "cell_type": "code",
   "execution_count": null,
   "metadata": {
    "colab": {
     "base_uri": "https://localhost:8080/",
     "height": 114,
     "referenced_widgets": [
      "4fa82c3ec1d24ba19e9f44f5e5850d61",
      "f01dba91575c4849a2dd9a34c5124a3d",
      "12c4fe4736e240b7af40219363e51119",
      "8c51ef584d5548998bf4012f808bdba1",
      "1741adfcbb2e4351ab659531cb84791b",
      "a24fe14295424fb995bac69c81e6c285",
      "533d5cfeba034752af884a401da924dc",
      "2b32465c74d644a18bee70b45951c661",
      "c526bdfd9906473fa0395e10320f6e5f",
      "3205a83ff66b4e51868e0866db972695",
      "d4f6caedf9fd4314b6263f4e1e1a32a7",
      "0f26300fec2743738f0f444952162fcc",
      "ad56db916b33439593b141f9b5f37cb2",
      "1ed4987eedaa4dc1b5004ed575f90dda",
      "8f1545e5cfa34d1aaab0959ef06e59a2",
      "e1bf931d3f414dd0aafd2d80f30a1c20",
      "83b3fe6c71c84a3baac7579f0598449a",
      "f33734c6da9940eb9ceb790ae8447cd5",
      "00fa381cad774da4905e9e76a889cc56",
      "03c9833277694a17aae716b310978204",
      "fb8c95decb01436d806dad47a198520e",
      "fb021724c85146e7bf94175f55870b56"
     ]
    },
    "id": "tkQIL_4sYTMq",
    "outputId": "dd721531-3843-45b1-e648-be20c05454eb"
   },
   "outputs": [
    {
     "data": {
      "application/vnd.jupyter.widget-view+json": {
       "model_id": "4fa82c3ec1d24ba19e9f44f5e5850d61",
       "version_major": 2,
       "version_minor": 0
      },
      "text/plain": [
       "pytorch_model.bin:   0%|          | 0.00/438M [00:00<?, ?B/s]"
      ]
     },
     "metadata": {},
     "output_type": "display_data"
    },
    {
     "data": {
      "application/vnd.jupyter.widget-view+json": {
       "model_id": "0f26300fec2743738f0f444952162fcc",
       "version_major": 2,
       "version_minor": 0
      },
      "text/plain": [
       "model.safetensors:   0%|          | 0.00/438M [00:00<?, ?B/s]"
      ]
     },
     "metadata": {},
     "output_type": "display_data"
    },
    {
     "name": "stderr",
     "output_type": "stream",
     "text": [
      "Some weights of BertForSequenceClassification were not initialized from the model checkpoint at neuralmind/bert-base-portuguese-cased and are newly initialized: ['classifier.bias', 'classifier.weight']\n",
      "You should probably TRAIN this model on a down-stream task to be able to use it for predictions and inference.\n"
     ]
    }
   ],
   "source": [
    "id2label = {0: \"invasao_domicilio\", 1: \"violencia_fisica\"}\n",
    "label2id = {v: k for k, v in id2label.items()}\n",
    "\n",
    "model = AutoModelForSequenceClassification.from_pretrained(\n",
    "    model_path,\n",
    "    num_labels=2,\n",
    "    id2label=id2label,\n",
    "    label2id=label2id\n",
    ")\n",
    "\n",
    "# Congelar camadas do BERT (exceto pooler e classificador)\n",
    "for name, param in model.named_parameters():\n",
    "    if 'classifier' not in name and 'pooler' not in name:\n",
    "        param.requires_grad = False"
   ]
  },
  {
   "cell_type": "markdown",
   "metadata": {
    "id": "2S-nz2HQZ0CA"
   },
   "source": [
    "# **4. Avaliação do Modelo: Definindo as métricas de sucesso**"
   ]
  },
  {
   "cell_type": "markdown",
   "metadata": {
    "id": "26ujEjghnObt"
   },
   "source": [
    "Para saber se o nosso modelo está aprendendo bem, precisamos de métricas de avaliação. Além da ***acurácia*** (a porcentagem de acertos), calculamos outras métricas importantes, como a ***AUC-ROC***, que mede a capacidade do modelo de distinguir entre as classes, e a ***Precisão, Recall e F1-Score***, que nos dão uma visão mais detalhada sobre o desempenho do modelo em cada classe (invasão de domicílio e violência física)."
   ]
  },
  {
   "cell_type": "code",
   "execution_count": null,
   "metadata": {
    "colab": {
     "base_uri": "https://localhost:8080/",
     "height": 176,
     "referenced_widgets": [
      "611f8591b3dc468eaf7e3b9db92b2158",
      "f83f49ac3b804e32b299edcc22335438",
      "a6e2359e8eec45a784d497352d8fdbc0",
      "3f7545b1de72444cb280d2c93425bc10",
      "fcb53d4911b448479fb83cbea8a75f2f",
      "4e3ea049c4a9499ca6ba3e3f3170569d",
      "afc02c7a69fa4daab63897646f8a8296",
      "d57b88483ce0422c9ac7878af699cc30",
      "139f47b36ff94018be45c19ae4df9134",
      "802edbb7a6f245dca8a951046c36ff5d",
      "f1c67662d682429084cdc3f28f958282",
      "0acb0219143341798e690ad87f4ab8de",
      "13462cf93eed4ee0b8c8fa6ba031db59",
      "01f61aecd0d14b4c98a6b5a727a81b4e",
      "a04a633beb9649ce9f5cbb76f8ccdab5",
      "0b0f33fb0cdc48d68b9d05ae120155e6",
      "e9fee64d4c8f4f789b5e30732244eb17",
      "55c570e48cc846c3a822ae48c22cfe90",
      "10b0f68e1f0545108f2f2822fd33d167",
      "27b34391260c49799f29c8d59489b3ba",
      "c5f78cff6ece4c0c8e78d8375b52e641",
      "3a1a5dba55a34ac0ab384736e7aa3006",
      "9d360e3cc0864ac1bcc1e1d6524f996d",
      "84fc02a486364be79708c60b90e0f8bc",
      "af210157d1a04fa9b631db39e6e8a446",
      "15edacd88b004428a07e9dd24924bbe1",
      "edddd8053b8148d483285c883d569ff1",
      "da1f5abbc8a7433b88b62215768d2057",
      "651c548201aa472ebc71c9b9b26e0f38",
      "55a43b33952d4a98bf7cd45f9084865d",
      "72ad07b94b0e4ff1adbf3c31d069cad4",
      "9dc8155cb1984f5896f35a55b8adbd4e",
      "4ea6409d86534e5780dab0c35eb9811e",
      "293bd8c7d3ba4c7ba30cfb3170231c98",
      "13f9a78e712c40e3bf69de88143c6316",
      "8c097111a0934447a3f0f14bfda4ab12",
      "4af8302c9c654cb7a1309c12aeb0eb49",
      "eee2b0685cd947e197a858da8347b478",
      "63e79c2f26b0494fb6a7bcb7a5018bc7",
      "3f8cff1a42cd4c9ba00ae164e0f27245",
      "a6f66d5be32e4a5fb09dfd210b7e61a6",
      "0c2802862e1e4938b816d0445e3d98dd",
      "bdb80ae962ef43d49a5c84b0402a5d96",
      "082c4efeed9144e49601fcc55acbd119",
      "9503e5feaef6474bbb3d6d428d7ca52c",
      "9366c7b11c3f41d8aec3a0c8252c4b09",
      "c759002eab0c4fb3acedaffc6429995c",
      "74b548a4959d4bd1aa64ce8af52c89c1",
      "ea0dc6886e1b47b59ca7ff89f39f8ed1",
      "c8e539933a924edd8c5e2d548ab99fdc",
      "5c06b4ca1a814d8eb612785995c7f5bf",
      "65b4c66f31184d83a4b4feb25260e65e",
      "95fbe6dab32747dbbbeb159625783d1a",
      "e5d695355ff84dbfaa4847cf75bbc853",
      "a91d4b4bb4304692ac5a30961601e5d5"
     ]
    },
    "id": "F-gctrIbZ1Pv",
    "outputId": "a7c1c91e-382d-4f31-bf58-274e6e205e62"
   },
   "outputs": [
    {
     "data": {
      "application/vnd.jupyter.widget-view+json": {
       "model_id": "611f8591b3dc468eaf7e3b9db92b2158",
       "version_major": 2,
       "version_minor": 0
      },
      "text/plain": [
       "Downloading builder script: 0.00B [00:00, ?B/s]"
      ]
     },
     "metadata": {},
     "output_type": "display_data"
    },
    {
     "data": {
      "application/vnd.jupyter.widget-view+json": {
       "model_id": "0acb0219143341798e690ad87f4ab8de",
       "version_major": 2,
       "version_minor": 0
      },
      "text/plain": [
       "Downloading builder script: 0.00B [00:00, ?B/s]"
      ]
     },
     "metadata": {},
     "output_type": "display_data"
    },
    {
     "data": {
      "application/vnd.jupyter.widget-view+json": {
       "model_id": "9d360e3cc0864ac1bcc1e1d6524f996d",
       "version_major": 2,
       "version_minor": 0
      },
      "text/plain": [
       "Downloading builder script: 0.00B [00:00, ?B/s]"
      ]
     },
     "metadata": {},
     "output_type": "display_data"
    },
    {
     "data": {
      "application/vnd.jupyter.widget-view+json": {
       "model_id": "293bd8c7d3ba4c7ba30cfb3170231c98",
       "version_major": 2,
       "version_minor": 0
      },
      "text/plain": [
       "Downloading builder script: 0.00B [00:00, ?B/s]"
      ]
     },
     "metadata": {},
     "output_type": "display_data"
    },
    {
     "data": {
      "application/vnd.jupyter.widget-view+json": {
       "model_id": "9503e5feaef6474bbb3d6d428d7ca52c",
       "version_major": 2,
       "version_minor": 0
      },
      "text/plain": [
       "Downloading builder script: 0.00B [00:00, ?B/s]"
      ]
     },
     "metadata": {},
     "output_type": "display_data"
    }
   ],
   "source": [
    "accuracy = evaluate.load(\"accuracy\")\n",
    "auc_score = evaluate.load(\"roc_auc\")\n",
    "f1_metric = evaluate.load(\"f1\")\n",
    "precision = evaluate.load(\"precision\")\n",
    "recall = evaluate.load(\"recall\")\n",
    "\n",
    "def compute_metrics(eval_pred):\n",
    "    try:\n",
    "        predictions, labels = eval_pred\n",
    "        probabilities = np.exp(predictions - np.max(predictions, axis=-1, keepdims=True)) / np.sum(np.exp(predictions - np.max(predictions, axis=-1, keepdims=True)), axis=-1, keepdims=True)\n",
    "        positive_class_probs = probabilities[:, 1]\n",
    "\n",
    "        preds = np.argmax(predictions, axis=1)\n",
    "        acc = accuracy.compute(predictions=preds, references=labels)[\"accuracy\"]\n",
    "        auc = auc_score.compute(prediction_scores=positive_class_probs, references=labels)[\"roc_auc\"]\n",
    "\n",
    "        f1_results = f1_metric.compute(\n",
    "            predictions=preds,\n",
    "            references=labels,\n",
    "            average=None,\n",
    "            labels=[label2id[\"invasao_domicilio\"], label2id[\"violencia_fisica\"]]\n",
    "        )\n",
    "        precision_results = precision.compute(\n",
    "            predictions=preds,\n",
    "            references=labels,\n",
    "            average=None,\n",
    "            labels=[label2id[\"invasao_domicilio\"], label2id[\"violencia_fisica\"]]\n",
    "        )\n",
    "        recall_results = recall.compute(\n",
    "            predictions=preds,\n",
    "            references=labels,\n",
    "            average=None,\n",
    "            labels=[label2id[\"invasao_domicilio\"], label2id[\"violencia_fisica\"]]\n",
    "        )\n",
    "\n",
    "        return {\n",
    "            \"accuracy\": round(acc, 4),\n",
    "            \"auc\": round(auc, 4),\n",
    "            \"f1_invasao\": round(f1_results[\"f1\"][0], 4),\n",
    "            \"f1_violencia\": round(f1_results[\"f1\"][1], 4),\n",
    "            \"precision_invasao\": round(precision_results[\"precision\"][0], 4),\n",
    "            \"precision_violencia\": round(precision_results[\"precision\"][1], 4),\n",
    "            \"recall_invasao\": round(recall_results[\"recall\"][0], 4),\n",
    "            \"recall_violencia\": round(recall_results[\"recall\"][1], 4),\n",
    "            \"precision_macro\": round(np.mean(precision_results[\"precision\"]), 4),\n",
    "            \"recall_macro\": round(np.mean(recall_results[\"recall\"]), 4),\n",
    "            \"f1_macro\": round(np.mean(f1_results[\"f1\"]), 4)\n",
    "        }\n",
    "    except Exception as e:\n",
    "        print(f\"Erro no cálculo de métricas: {str(e)}\")\n",
    "        return {\"accuracy\": 0.0, \"auc\": 0.0, \"f1_invasao\": 0.0, \"f1_violencia\": 0.0,\n",
    "                \"precision_invasao\": 0.0, \"precision_violencia\": 0.0,\n",
    "                \"recall_invasao\": 0.0, \"recall_violencia\": 0.0,\n",
    "                \"precision_macro\": 0.0, \"recall_macro\": 0.0, \"f1_macro\": 0.0}"
   ]
  },
  {
   "cell_type": "markdown",
   "metadata": {
    "id": "7fmwNJA-Z5DK"
   },
   "source": [
    "# **5. Treinamento: A mágica do Fine-Tuning**"
   ]
  },
  {
   "cell_type": "markdown",
   "metadata": {
    "id": "005QPEjPntGt"
   },
   "source": [
    "Nesta seção, iniciamos o treinamento do modelo usando a biblioteca ***Hugging Face Trainer***. O treinamento será executado por 30 épocas. O ***EarlyStoppingCallback*** é ativado para interromper o treinamento caso o desempenho do modelo no conjunto de validação pare de melhorar por três épocas consecutivas, evitando o overfitting. Você pode acompanhar a evolução da perda (loss) e da acurácia durante o processo no gráfico abaixo."
   ]
  },
  {
   "cell_type": "code",
   "execution_count": null,
   "metadata": {
    "colab": {
     "base_uri": "https://localhost:8080/",
     "height": 1000
    },
    "id": "Lu5KpVfWaGA3",
    "outputId": "688c46c6-0023-4096-f4c9-931a97b070f1"
   },
   "outputs": [
    {
     "name": "stderr",
     "output_type": "stream",
     "text": [
      "/tmp/ipython-input-1519318179.py:35: UserWarning: To copy construct from a tensor, it is recommended to use sourceTensor.detach().clone() or sourceTensor.detach().clone().requires_grad_(True), rather than torch.tensor(sourceTensor).\n",
      "  self.encodings = {key: torch.tensor(val) for key, val in encodings.items()}\n",
      "/tmp/ipython-input-1519318179.py:35: UserWarning: To copy construct from a tensor, it is recommended to use sourceTensor.detach().clone() or sourceTensor.detach().clone().requires_grad_(True), rather than torch.tensor(sourceTensor).\n",
      "  self.encodings = {key: torch.tensor(val) for key, val in encodings.items()}\n",
      "/tmp/ipython-input-1519318179.py:35: UserWarning: To copy construct from a tensor, it is recommended to use sourceTensor.detach().clone() or sourceTensor.detach().clone().requires_grad_(True), rather than torch.tensor(sourceTensor).\n",
      "  self.encodings = {key: torch.tensor(val) for key, val in encodings.items()}\n"
     ]
    },
    {
     "name": "stdout",
     "output_type": "stream",
     "text": [
      "\n",
      "🚀 Iniciando treinamento...\n"
     ]
    },
    {
     "data": {
      "text/html": [
       "\n",
       "    <div>\n",
       "      \n",
       "      <progress value='390' max='450' style='width:300px; height:20px; vertical-align: middle;'></progress>\n",
       "      [390/450 02:52 < 00:26, 2.25 it/s, Epoch 26/30]\n",
       "    </div>\n",
       "    <table border=\"1\" class=\"dataframe\">\n",
       "  <thead>\n",
       " <tr style=\"text-align: left;\">\n",
       "      <th>Epoch</th>\n",
       "      <th>Training Loss</th>\n",
       "      <th>Validation Loss</th>\n",
       "      <th>Accuracy</th>\n",
       "      <th>Auc</th>\n",
       "      <th>F1 Invasao</th>\n",
       "      <th>F1 Violencia</th>\n",
       "      <th>Precision Invasao</th>\n",
       "      <th>Precision Violencia</th>\n",
       "      <th>Recall Invasao</th>\n",
       "      <th>Recall Violencia</th>\n",
       "      <th>Precision Macro</th>\n",
       "      <th>Recall Macro</th>\n",
       "      <th>F1 Macro</th>\n",
       "    </tr>\n",
       "  </thead>\n",
       "  <tbody>\n",
       "    <tr>\n",
       "      <td>1</td>\n",
       "      <td>0.695600</td>\n",
       "      <td>0.693711</td>\n",
       "      <td>0.440000</td>\n",
       "      <td>0.628200</td>\n",
       "      <td>0.611100</td>\n",
       "      <td>0.000000</td>\n",
       "      <td>0.458300</td>\n",
       "      <td>0.000000</td>\n",
       "      <td>0.916700</td>\n",
       "      <td>0.000000</td>\n",
       "      <td>0.229200</td>\n",
       "      <td>0.458300</td>\n",
       "      <td>0.305600</td>\n",
       "    </tr>\n",
       "    <tr>\n",
       "      <td>2</td>\n",
       "      <td>0.687700</td>\n",
       "      <td>0.685859</td>\n",
       "      <td>0.480000</td>\n",
       "      <td>0.628200</td>\n",
       "      <td>0.628600</td>\n",
       "      <td>0.133300</td>\n",
       "      <td>0.478300</td>\n",
       "      <td>0.500000</td>\n",
       "      <td>0.916700</td>\n",
       "      <td>0.076900</td>\n",
       "      <td>0.489100</td>\n",
       "      <td>0.496800</td>\n",
       "      <td>0.381000</td>\n",
       "    </tr>\n",
       "    <tr>\n",
       "      <td>3</td>\n",
       "      <td>0.688400</td>\n",
       "      <td>0.680596</td>\n",
       "      <td>0.480000</td>\n",
       "      <td>0.685900</td>\n",
       "      <td>0.606100</td>\n",
       "      <td>0.235300</td>\n",
       "      <td>0.476200</td>\n",
       "      <td>0.500000</td>\n",
       "      <td>0.833300</td>\n",
       "      <td>0.153800</td>\n",
       "      <td>0.488100</td>\n",
       "      <td>0.493600</td>\n",
       "      <td>0.420700</td>\n",
       "    </tr>\n",
       "    <tr>\n",
       "      <td>4</td>\n",
       "      <td>0.679100</td>\n",
       "      <td>0.676143</td>\n",
       "      <td>0.600000</td>\n",
       "      <td>0.685900</td>\n",
       "      <td>0.642900</td>\n",
       "      <td>0.545500</td>\n",
       "      <td>0.562500</td>\n",
       "      <td>0.666700</td>\n",
       "      <td>0.750000</td>\n",
       "      <td>0.461500</td>\n",
       "      <td>0.614600</td>\n",
       "      <td>0.605800</td>\n",
       "      <td>0.594200</td>\n",
       "    </tr>\n",
       "    <tr>\n",
       "      <td>5</td>\n",
       "      <td>0.654500</td>\n",
       "      <td>0.671445</td>\n",
       "      <td>0.680000</td>\n",
       "      <td>0.698700</td>\n",
       "      <td>0.692300</td>\n",
       "      <td>0.666700</td>\n",
       "      <td>0.642900</td>\n",
       "      <td>0.727300</td>\n",
       "      <td>0.750000</td>\n",
       "      <td>0.615400</td>\n",
       "      <td>0.685100</td>\n",
       "      <td>0.682700</td>\n",
       "      <td>0.679500</td>\n",
       "    </tr>\n",
       "    <tr>\n",
       "      <td>6</td>\n",
       "      <td>0.652200</td>\n",
       "      <td>0.667451</td>\n",
       "      <td>0.680000</td>\n",
       "      <td>0.705100</td>\n",
       "      <td>0.600000</td>\n",
       "      <td>0.733300</td>\n",
       "      <td>0.750000</td>\n",
       "      <td>0.647100</td>\n",
       "      <td>0.500000</td>\n",
       "      <td>0.846200</td>\n",
       "      <td>0.698500</td>\n",
       "      <td>0.673100</td>\n",
       "      <td>0.666700</td>\n",
       "    </tr>\n",
       "    <tr>\n",
       "      <td>7</td>\n",
       "      <td>0.645600</td>\n",
       "      <td>0.665479</td>\n",
       "      <td>0.680000</td>\n",
       "      <td>0.717900</td>\n",
       "      <td>0.636400</td>\n",
       "      <td>0.714300</td>\n",
       "      <td>0.700000</td>\n",
       "      <td>0.666700</td>\n",
       "      <td>0.583300</td>\n",
       "      <td>0.769200</td>\n",
       "      <td>0.683300</td>\n",
       "      <td>0.676300</td>\n",
       "      <td>0.675300</td>\n",
       "    </tr>\n",
       "    <tr>\n",
       "      <td>8</td>\n",
       "      <td>0.644100</td>\n",
       "      <td>0.663867</td>\n",
       "      <td>0.760000</td>\n",
       "      <td>0.717900</td>\n",
       "      <td>0.769200</td>\n",
       "      <td>0.750000</td>\n",
       "      <td>0.714300</td>\n",
       "      <td>0.818200</td>\n",
       "      <td>0.833300</td>\n",
       "      <td>0.692300</td>\n",
       "      <td>0.766200</td>\n",
       "      <td>0.762800</td>\n",
       "      <td>0.759600</td>\n",
       "    </tr>\n",
       "    <tr>\n",
       "      <td>9</td>\n",
       "      <td>0.635900</td>\n",
       "      <td>0.662021</td>\n",
       "      <td>0.760000</td>\n",
       "      <td>0.730800</td>\n",
       "      <td>0.769200</td>\n",
       "      <td>0.750000</td>\n",
       "      <td>0.714300</td>\n",
       "      <td>0.818200</td>\n",
       "      <td>0.833300</td>\n",
       "      <td>0.692300</td>\n",
       "      <td>0.766200</td>\n",
       "      <td>0.762800</td>\n",
       "      <td>0.759600</td>\n",
       "    </tr>\n",
       "    <tr>\n",
       "      <td>10</td>\n",
       "      <td>0.642500</td>\n",
       "      <td>0.660703</td>\n",
       "      <td>0.760000</td>\n",
       "      <td>0.730800</td>\n",
       "      <td>0.769200</td>\n",
       "      <td>0.750000</td>\n",
       "      <td>0.714300</td>\n",
       "      <td>0.818200</td>\n",
       "      <td>0.833300</td>\n",
       "      <td>0.692300</td>\n",
       "      <td>0.766200</td>\n",
       "      <td>0.762800</td>\n",
       "      <td>0.759600</td>\n",
       "    </tr>\n",
       "    <tr>\n",
       "      <td>11</td>\n",
       "      <td>0.635200</td>\n",
       "      <td>0.658115</td>\n",
       "      <td>0.760000</td>\n",
       "      <td>0.730800</td>\n",
       "      <td>0.769200</td>\n",
       "      <td>0.750000</td>\n",
       "      <td>0.714300</td>\n",
       "      <td>0.818200</td>\n",
       "      <td>0.833300</td>\n",
       "      <td>0.692300</td>\n",
       "      <td>0.766200</td>\n",
       "      <td>0.762800</td>\n",
       "      <td>0.759600</td>\n",
       "    </tr>\n",
       "    <tr>\n",
       "      <td>12</td>\n",
       "      <td>0.629500</td>\n",
       "      <td>0.655596</td>\n",
       "      <td>0.760000</td>\n",
       "      <td>0.737200</td>\n",
       "      <td>0.769200</td>\n",
       "      <td>0.750000</td>\n",
       "      <td>0.714300</td>\n",
       "      <td>0.818200</td>\n",
       "      <td>0.833300</td>\n",
       "      <td>0.692300</td>\n",
       "      <td>0.766200</td>\n",
       "      <td>0.762800</td>\n",
       "      <td>0.759600</td>\n",
       "    </tr>\n",
       "    <tr>\n",
       "      <td>13</td>\n",
       "      <td>0.619000</td>\n",
       "      <td>0.653770</td>\n",
       "      <td>0.760000</td>\n",
       "      <td>0.737200</td>\n",
       "      <td>0.769200</td>\n",
       "      <td>0.750000</td>\n",
       "      <td>0.714300</td>\n",
       "      <td>0.818200</td>\n",
       "      <td>0.833300</td>\n",
       "      <td>0.692300</td>\n",
       "      <td>0.766200</td>\n",
       "      <td>0.762800</td>\n",
       "      <td>0.759600</td>\n",
       "    </tr>\n",
       "    <tr>\n",
       "      <td>14</td>\n",
       "      <td>0.612900</td>\n",
       "      <td>0.652109</td>\n",
       "      <td>0.760000</td>\n",
       "      <td>0.743600</td>\n",
       "      <td>0.769200</td>\n",
       "      <td>0.750000</td>\n",
       "      <td>0.714300</td>\n",
       "      <td>0.818200</td>\n",
       "      <td>0.833300</td>\n",
       "      <td>0.692300</td>\n",
       "      <td>0.766200</td>\n",
       "      <td>0.762800</td>\n",
       "      <td>0.759600</td>\n",
       "    </tr>\n",
       "    <tr>\n",
       "      <td>15</td>\n",
       "      <td>0.617300</td>\n",
       "      <td>0.650088</td>\n",
       "      <td>0.720000</td>\n",
       "      <td>0.750000</td>\n",
       "      <td>0.720000</td>\n",
       "      <td>0.720000</td>\n",
       "      <td>0.692300</td>\n",
       "      <td>0.750000</td>\n",
       "      <td>0.750000</td>\n",
       "      <td>0.692300</td>\n",
       "      <td>0.721200</td>\n",
       "      <td>0.721200</td>\n",
       "      <td>0.720000</td>\n",
       "    </tr>\n",
       "    <tr>\n",
       "      <td>16</td>\n",
       "      <td>0.604700</td>\n",
       "      <td>0.649004</td>\n",
       "      <td>0.760000</td>\n",
       "      <td>0.750000</td>\n",
       "      <td>0.769200</td>\n",
       "      <td>0.750000</td>\n",
       "      <td>0.714300</td>\n",
       "      <td>0.818200</td>\n",
       "      <td>0.833300</td>\n",
       "      <td>0.692300</td>\n",
       "      <td>0.766200</td>\n",
       "      <td>0.762800</td>\n",
       "      <td>0.759600</td>\n",
       "    </tr>\n",
       "    <tr>\n",
       "      <td>17</td>\n",
       "      <td>0.601100</td>\n",
       "      <td>0.646719</td>\n",
       "      <td>0.760000</td>\n",
       "      <td>0.750000</td>\n",
       "      <td>0.750000</td>\n",
       "      <td>0.769200</td>\n",
       "      <td>0.750000</td>\n",
       "      <td>0.769200</td>\n",
       "      <td>0.750000</td>\n",
       "      <td>0.769200</td>\n",
       "      <td>0.759600</td>\n",
       "      <td>0.759600</td>\n",
       "      <td>0.759600</td>\n",
       "    </tr>\n",
       "    <tr>\n",
       "      <td>18</td>\n",
       "      <td>0.591900</td>\n",
       "      <td>0.645938</td>\n",
       "      <td>0.720000</td>\n",
       "      <td>0.750000</td>\n",
       "      <td>0.720000</td>\n",
       "      <td>0.720000</td>\n",
       "      <td>0.692300</td>\n",
       "      <td>0.750000</td>\n",
       "      <td>0.750000</td>\n",
       "      <td>0.692300</td>\n",
       "      <td>0.721200</td>\n",
       "      <td>0.721200</td>\n",
       "      <td>0.720000</td>\n",
       "    </tr>\n",
       "    <tr>\n",
       "      <td>19</td>\n",
       "      <td>0.594300</td>\n",
       "      <td>0.644731</td>\n",
       "      <td>0.720000</td>\n",
       "      <td>0.750000</td>\n",
       "      <td>0.720000</td>\n",
       "      <td>0.720000</td>\n",
       "      <td>0.692300</td>\n",
       "      <td>0.750000</td>\n",
       "      <td>0.750000</td>\n",
       "      <td>0.692300</td>\n",
       "      <td>0.721200</td>\n",
       "      <td>0.721200</td>\n",
       "      <td>0.720000</td>\n",
       "    </tr>\n",
       "    <tr>\n",
       "      <td>20</td>\n",
       "      <td>0.598500</td>\n",
       "      <td>0.643823</td>\n",
       "      <td>0.720000</td>\n",
       "      <td>0.756400</td>\n",
       "      <td>0.720000</td>\n",
       "      <td>0.720000</td>\n",
       "      <td>0.692300</td>\n",
       "      <td>0.750000</td>\n",
       "      <td>0.750000</td>\n",
       "      <td>0.692300</td>\n",
       "      <td>0.721200</td>\n",
       "      <td>0.721200</td>\n",
       "      <td>0.720000</td>\n",
       "    </tr>\n",
       "    <tr>\n",
       "      <td>21</td>\n",
       "      <td>0.596800</td>\n",
       "      <td>0.642593</td>\n",
       "      <td>0.720000</td>\n",
       "      <td>0.756400</td>\n",
       "      <td>0.720000</td>\n",
       "      <td>0.720000</td>\n",
       "      <td>0.692300</td>\n",
       "      <td>0.750000</td>\n",
       "      <td>0.750000</td>\n",
       "      <td>0.692300</td>\n",
       "      <td>0.721200</td>\n",
       "      <td>0.721200</td>\n",
       "      <td>0.720000</td>\n",
       "    </tr>\n",
       "    <tr>\n",
       "      <td>22</td>\n",
       "      <td>0.588600</td>\n",
       "      <td>0.641719</td>\n",
       "      <td>0.760000</td>\n",
       "      <td>0.756400</td>\n",
       "      <td>0.750000</td>\n",
       "      <td>0.769200</td>\n",
       "      <td>0.750000</td>\n",
       "      <td>0.769200</td>\n",
       "      <td>0.750000</td>\n",
       "      <td>0.769200</td>\n",
       "      <td>0.759600</td>\n",
       "      <td>0.759600</td>\n",
       "      <td>0.759600</td>\n",
       "    </tr>\n",
       "    <tr>\n",
       "      <td>23</td>\n",
       "      <td>0.599200</td>\n",
       "      <td>0.640635</td>\n",
       "      <td>0.760000</td>\n",
       "      <td>0.756400</td>\n",
       "      <td>0.750000</td>\n",
       "      <td>0.769200</td>\n",
       "      <td>0.750000</td>\n",
       "      <td>0.769200</td>\n",
       "      <td>0.750000</td>\n",
       "      <td>0.769200</td>\n",
       "      <td>0.759600</td>\n",
       "      <td>0.759600</td>\n",
       "      <td>0.759600</td>\n",
       "    </tr>\n",
       "    <tr>\n",
       "      <td>24</td>\n",
       "      <td>0.585100</td>\n",
       "      <td>0.640068</td>\n",
       "      <td>0.760000</td>\n",
       "      <td>0.756400</td>\n",
       "      <td>0.750000</td>\n",
       "      <td>0.769200</td>\n",
       "      <td>0.750000</td>\n",
       "      <td>0.769200</td>\n",
       "      <td>0.750000</td>\n",
       "      <td>0.769200</td>\n",
       "      <td>0.759600</td>\n",
       "      <td>0.759600</td>\n",
       "      <td>0.759600</td>\n",
       "    </tr>\n",
       "    <tr>\n",
       "      <td>25</td>\n",
       "      <td>0.586000</td>\n",
       "      <td>0.639790</td>\n",
       "      <td>0.760000</td>\n",
       "      <td>0.756400</td>\n",
       "      <td>0.750000</td>\n",
       "      <td>0.769200</td>\n",
       "      <td>0.750000</td>\n",
       "      <td>0.769200</td>\n",
       "      <td>0.750000</td>\n",
       "      <td>0.769200</td>\n",
       "      <td>0.759600</td>\n",
       "      <td>0.759600</td>\n",
       "      <td>0.759600</td>\n",
       "    </tr>\n",
       "    <tr>\n",
       "      <td>26</td>\n",
       "      <td>0.582800</td>\n",
       "      <td>0.639370</td>\n",
       "      <td>0.760000</td>\n",
       "      <td>0.756400</td>\n",
       "      <td>0.750000</td>\n",
       "      <td>0.769200</td>\n",
       "      <td>0.750000</td>\n",
       "      <td>0.769200</td>\n",
       "      <td>0.750000</td>\n",
       "      <td>0.769200</td>\n",
       "      <td>0.759600</td>\n",
       "      <td>0.759600</td>\n",
       "      <td>0.759600</td>\n",
       "    </tr>\n",
       "  </tbody>\n",
       "</table><p>"
      ],
      "text/plain": [
       "<IPython.core.display.HTML object>"
      ]
     },
     "metadata": {},
     "output_type": "display_data"
    },
    {
     "name": "stdout",
     "output_type": "stream",
     "text": [
      "\n",
      "🧪 Avaliação final do melhor modelo no conjunto de teste...\n"
     ]
    },
    {
     "data": {
      "text/html": [
       "\n",
       "    <div>\n",
       "      \n",
       "      <progress value='4' max='4' style='width:300px; height:20px; vertical-align: middle;'></progress>\n",
       "      [4/4 00:00]\n",
       "    </div>\n",
       "    "
      ],
      "text/plain": [
       "<IPython.core.display.HTML object>"
      ]
     },
     "metadata": {},
     "output_type": "display_data"
    },
    {
     "data": {
      "image/png": "[encoded data removed]",
      "text/plain": [
       "<Figure size 1000x500 with 1 Axes>"
      ]
     },
     "metadata": {},
     "output_type": "display_data"
    }
   ],
   "source": [
    "train_losses_plot, val_losses_plot, test_losses_plot = [], [], []\n",
    "train_accuracies_plot, val_accuracies_plot, test_accuracies_plot = [], [], []\n",
    "\n",
    "# Configuração dos argumentos de treinamento\n",
    "training_args = TrainingArguments(\n",
    "    output_dir=\"./bertimbau-denuncias\",\n",
    "    per_device_train_batch_size=8,\n",
    "    per_device_eval_batch_size=8,\n",
    "    learning_rate=1e-5,\n",
    "    num_train_epochs=30,\n",
    "    eval_strategy=\"epoch\",        # Avaliar no conjunto de validação ao final de cada época\n",
    "    save_strategy=\"epoch\",        # Salvar checkpoint ao final de cada época\n",
    "    logging_strategy=\"epoch\", # Registrar métricas ao final de cada época\n",
    "    load_best_model_at_end=True,  # Carregar o melhor modelo (baseado na métrica de validação) ao final do treino\n",
    "    metric_for_best_model=\"eval_loss\",\n",
    "    greater_is_better=False,\n",
    "    logging_dir=\"./logs\",\n",
    "    logging_steps=10,\n",
    "    disable_tqdm=False,\n",
    "    report_to=\"none\",             # Desativar report para plataformas como Weights & Biases\n",
    "    fp16=True,                    # Habilitar mixed precision training\n",
    "    seed=42,\n",
    "    gradient_accumulation_steps=1,\n",
    "    remove_unused_columns=True,\n",
    "    label_names=[\"labels\"]\n",
    ")\n",
    "\n",
    "# Data Collator para padding dinâmico\n",
    "data_collator = DataCollatorWithPadding(tokenizer=tokenizer)\n",
    "\n",
    "# Custom Dataset (para trabalhar com DataFrames)\n",
    "class CustomDataset(TorchDataset):\n",
    "    def __init__(self, encodings, labels):\n",
    "        # Converte para tensor e garante que encodings.items() tem os valores corretos\n",
    "        self.encodings = {key: torch.tensor(val) for key, val in encodings.items()}\n",
    "        # Converte labels para tensor, lidando com pd.Series ou listas/arrays\n",
    "        self.labels = torch.tensor(labels.values if isinstance(labels, pd.Series) else labels)\n",
    "\n",
    "    def __getitem__(self, idx):\n",
    "        item = {key: val[idx] for key, val in self.encodings.items()}\n",
    "        item['labels'] = self.labels[idx]\n",
    "        return item\n",
    "\n",
    "    def __len__(self):\n",
    "        return len(self.labels)\n",
    "\n",
    "# Criar datasets\n",
    "# Assegure que train_df, val_df, test_df e label2id estejam definidos.\n",
    "# .tolist() é importante para garantir que labels sejam um tipo Python nativo antes de converter para tensor no CustomDataset.\n",
    "train_dataset = CustomDataset(train_encodings, train_df['classe'].map(label2id).tolist())\n",
    "val_dataset = CustomDataset(val_encodings, val_df['classe'].map(label2id).tolist())\n",
    "test_dataset = CustomDataset(test_encodings, test_df['classe'].map(label2id).tolist())\n",
    "\n",
    "# Instanciar o Trainer\n",
    "trainer = Trainer(\n",
    "    model=model,\n",
    "    args=training_args,\n",
    "    train_dataset=train_dataset,\n",
    "    eval_dataset=val_dataset, # O trainer usará este para avaliação automática por época\n",
    "    callbacks=[EarlyStoppingCallback(early_stopping_patience=3, early_stopping_threshold = 1e-3)],\n",
    "    compute_metrics=compute_metrics\n",
    ")\n",
    "\n",
    "try:\n",
    "    print(\"\\n🚀 Iniciando treinamento...\")\n",
    "\n",
    "    # O trainer.train() irá executar o treinamento e as avaliações de validação\n",
    "    # por época, além de carregar o melhor modelo no final.\n",
    "    train_results = trainer.train()\n",
    "\n",
    "    # --- Extrair métricas dos logs para os gráficos ---\n",
    "    # Os logs contêm as métricas de treino e validação por época\n",
    "    logs = trainer.state.log_history\n",
    "\n",
    "    # Iterar sobre os logs para preencher as listas de plotagem\n",
    "    for log_entry in logs:\n",
    "        # Perdas de Treino: o 'loss' é logado para o treinamento\n",
    "        if 'loss' in log_entry and 'eval_loss' not in log_entry:\n",
    "            train_losses_plot.append(log_entry['loss'])\n",
    "\n",
    "        # Métricas de Validação: logadas com prefixo 'eval_'\n",
    "        if 'eval_loss' in log_entry and 'eval_accuracy' in log_entry:\n",
    "            val_losses_plot.append(log_entry['eval_loss'])\n",
    "            val_accuracies_plot.append(log_entry['eval_accuracy'])\n",
    "\n",
    "    # --- Avaliação final do melhor modelo no conjunto de teste ---\n",
    "    # Este é o ponto mais importante para as métricas finais do seu modelo.\n",
    "    print(\"\\n🧪 Avaliação final do melhor modelo no conjunto de teste...\")\n",
    "    final_test_metrics = trainer.evaluate(test_dataset)\n",
    "\n",
    "    # --- 📊 Gráficos de comparação por época ---\n",
    "\n",
    "    # O número de épocas para plotagem será o número de avaliações de validação registradas\n",
    "    epochs_completed = len(val_accuracies_plot)\n",
    "    epochs_to_plot = list(range(1, epochs_completed + 1))\n",
    "\n",
    "    train_losses_for_plot = train_losses_plot[-epochs_completed:] if len(train_losses_plot) >= epochs_completed else train_losses_plot\n",
    "\n",
    "    if not epochs_to_plot:\n",
    "        print(\"\\nNão há dados suficientes para gerar os gráficos. Verifique o processo de treinamento e coleta de métricas.\")\n",
    "    else:\n",
    "        # Loss por época (Treino, Validação)\n",
    "        plt.figure(figsize=(10, 5))\n",
    "        plt.plot(epochs_to_plot, train_losses_for_plot, label=\"Treino\", marker='o')\n",
    "        plt.plot(epochs_to_plot, val_losses_plot, label=\"Validação\", marker='o')\n",
    "        # Plotar o resultado final do teste como um ponto ou linha horizontal.\n",
    "        plt.xlabel(\"Época\")\n",
    "        plt.ylabel(\"Loss\")\n",
    "        plt.title(\"Loss por Época (Treino, Validação)\")\n",
    "        plt.legend()\n",
    "        plt.grid(True)\n",
    "        plt.show()\n",
    "\n",
    "except Exception as e:\n",
    "    print(f\"An error occurred during training or evaluation: {e}\")"
   ]
  },
  {
   "cell_type": "markdown",
   "metadata": {
    "id": "fFSsNAWvaQQs"
   },
   "source": [
    "# **6. AVALIAÇÃO FINAL NO TESTE**"
   ]
  },
  {
   "cell_type": "code",
   "execution_count": null,
   "metadata": {
    "colab": {
     "base_uri": "https://localhost:8080/",
     "height": 345
    },
    "id": "0a5gLzc6aQuU",
    "outputId": "bcdcb4ff-ec78-444a-82d5-e42548d4f3a7"
   },
   "outputs": [
    {
     "name": "stdout",
     "output_type": "stream",
     "text": [
      "\n",
      "\n",
      "==================== RESULTADOS FINAIS DO MODELO ====================\n",
      "\n",
      "Avaliação no conjunto de teste:\n"
     ]
    },
    {
     "data": {
      "text/html": [],
      "text/plain": [
       "<IPython.core.display.HTML object>"
      ]
     },
     "metadata": {},
     "output_type": "display_data"
    },
    {
     "name": "stdout",
     "output_type": "stream",
     "text": [
      "test_loss: 0.588942289352417\n",
      "test_accuracy: 0.6923\n",
      "test_auc: 0.7988\n",
      "test_f1_invasao: 0.6667\n",
      "test_f1_violencia: 0.7143\n",
      "test_precision_invasao: 0.7273\n",
      "test_precision_violencia: 0.6667\n",
      "test_recall_invasao: 0.6154\n",
      "test_recall_violencia: 0.7692\n",
      "test_precision_macro: 0.697\n",
      "test_recall_macro: 0.6923\n",
      "test_f1_macro: 0.6905\n",
      "test_runtime: 0.1292\n",
      "test_samples_per_second: 201.256\n",
      "test_steps_per_second: 30.962\n"
     ]
    }
   ],
   "source": [
    "print(\"\\n\\n==================== RESULTADOS FINAIS DO MODELO ====================\")\n",
    "print(\"\\nAvaliação no conjunto de teste:\")\n",
    "\n",
    "test_results = trainer.predict(test_dataset)\n",
    "final_metrics = test_results.metrics\n",
    "\n",
    "for metric, value in final_metrics.items():\n",
    "    print(f\"{metric}: {value}\")"
   ]
  },
  {
   "cell_type": "markdown",
   "metadata": {
    "id": "1SLL_XiZaSle"
   },
   "source": [
    "# **7. SALVAR MODELO E DADOS DE RESULTADOS**"
   ]
  },
  {
   "cell_type": "code",
   "execution_count": null,
   "metadata": {
    "colab": {
     "base_uri": "https://localhost:8080/"
    },
    "id": "PbEnj8O5aUmx",
    "outputId": "66a52d9a-d7d8-4d35-ea35-9d742b4b561c"
   },
   "outputs": [
    {
     "name": "stdout",
     "output_type": "stream",
     "text": [
      "Modelo salvo no Google Drive!\n",
      "Resultados de teste (texto, rótulo verdadeiro, rótulo predito) salvos em: /content/drive/MyDrive/2025/tcc-final/resultados/resultados_fine_tuning.xlsx\n",
      "Métricas finais salvas em: /content/drive/MyDrive/2025/tcc-final/resultados/metricas_finais.txt\n",
      "\n",
      "Tempo total de execução do script: 208.57 segundos\n"
     ]
    }
   ],
   "source": [
    "model.save_pretrained(\"/content/drive/MyDrive/2025/tcc-final/resultados/modelo_bertimbau_final\")\n",
    "tokenizer.save_pretrained(\"/content/drive/MyDrive/2025/tcc-final/resultados/modelo_bertimbau_final\")\n",
    "print(\"Modelo salvo no Google Drive!\")\n",
    "\n",
    "# Salvar resultados do treinamento e rótulos/previsões finais\n",
    "output_results_path = \"/content/drive/MyDrive/2025/tcc-final/resultados/resultados_fine_tuning.xlsx\"\n",
    "\n",
    "# Get the predictions from the test_results object\n",
    "predictions = np.argmax(test_results.predictions, axis=1)\n",
    "\n",
    "\n",
    "# Criar um DataFrame para os resultados de teste\n",
    "results_df = pd.DataFrame({\n",
    "    'texto': test_df['texto'],\n",
    "    'rotulo_verdadeiro': test_df['classe'],\n",
    "    'rotulo_predito_id': predictions,\n",
    "    'rotulo_predito': [id2label[p] for p in predictions]\n",
    "})\n",
    "\n",
    "# Salvar o DataFrame de resultados em um arquivo Excel\n",
    "results_df.to_excel(output_results_path, index=False)\n",
    "print(f\"Resultados de teste (texto, rótulo verdadeiro, rótulo predito) salvos em: {output_results_path}\")\n",
    "\n",
    "# Salvar as métricas finais em um arquivo de texto ou CSV\n",
    "metrics_output_path = \"/content/drive/MyDrive/2025/tcc-final/resultados/metricas_finais.txt\"\n",
    "with open(metrics_output_path, 'w') as f:\n",
    "    f.write(\"Métricas Finais da Avaliação no Conjunto de Teste:\\n\")\n",
    "    for metric_name, value in final_metrics.items():\n",
    "        f.write(f\"{metric_name}: {value:.4f}\\n\")\n",
    "print(f\"Métricas finais salvas em: {metrics_output_path}\")\n",
    "\n",
    "# --- FIM DO CONTADOR DE TEMPO ---\n",
    "end_total_time = time.time()\n",
    "total_execution_time = end_total_time - start_total_time\n",
    "print(f\"\\nTempo total de execução do script: {total_execution_time:.2f} segundos\")"
   ]
  }
 ],
 "metadata": {
  "accelerator": "GPU",
  "colab": {
   "gpuType": "T4",
   "provenance": []
  },
  "kernelspec": {
   "display_name": "Python 3",
   "name": "python3"
  },
  "language_info": {
   "name": "python"
  }
 },
 "nbformat": 4,
 "nbformat_minor": 0
}
