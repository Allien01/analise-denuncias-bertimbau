{
 "cells": [
  {
   "cell_type": "markdown",
   "metadata": {
    "id": "1Kkt3yw00IoE"
   },
   "source": [
    "@inproceedings{souza2020bertimbau,\n",
    "  author    = {F{\\'a}bio Souza and\n",
    "               Rodrigo Nogueira and\n",
    "               Roberto Lotufo},\n",
    "  title     = {{BERT}imbau: pretrained {BERT} models for {B}razilian {P}ortuguese},\n",
    "  booktitle = {9th Brazilian Conference on Intelligent Systems, {BRACIS}, Rio Grande do Sul, Brazil, October 20-23 (to appear)},\n",
    "  year      = {2020}\n",
    "}\n"
   ]
  },
  {
   "cell_type": "markdown",
   "metadata": {
    "id": "zIfaYOAKr0R6"
   },
   "source": [
    "# **Conectando ao Google Drive**\n",
    "\n",
    "\n",
    "Para acessar e carregar os dados necessários para o projeto, montamos o Google Drive. Isso permite que o notebook leia arquivos diretamente de uma pasta em sua conta, facilitando o gerenciamento e a persistência dos dados entre diferentes sessões. O comando a seguir solicita permissão para conectar o"
   ]
  },
  {
   "cell_type": "code",
   "execution_count": null,
   "metadata": {
    "colab": {
     "base_uri": "https://localhost:8080/"
    },
    "id": "Ey0-HM5ocnvu",
    "outputId": "47578be4-0ff9-4afe-a2e2-f45cbf464633"
   },
   "outputs": [
    {
     "name": "stdout",
     "output_type": "stream",
     "text": [
      "Drive already mounted at /content/drive; to attempt to forcibly remount, call drive.mount(\"/content/drive\", force_remount=True).\n"
     ]
    }
   ],
   "source": [
    "from google.colab import drive\n",
    "drive.mount('/content/drive')"
   ]
  },
  {
   "cell_type": "code",
   "execution_count": null,
   "metadata": {
    "colab": {
     "base_uri": "https://localhost:8080/"
    },
    "id": "XcTbLWwTr74s",
    "outputId": "9e5f61eb-7ed0-4081-f6ca-82e7c97e6889"
   },
   "outputs": [
    {
     "name": "stdout",
     "output_type": "stream",
     "text": [
      "Requirement already satisfied: transformers in /usr/local/lib/python3.12/dist-packages (4.56.1)\n",
      "Requirement already satisfied: evaluate in /usr/local/lib/python3.12/dist-packages (0.4.6)\n",
      "Requirement already satisfied: accelerate in /usr/local/lib/python3.12/dist-packages (1.10.1)\n",
      "Requirement already satisfied: filelock in /usr/local/lib/python3.12/dist-packages (from transformers) (3.19.1)\n",
      "Requirement already satisfied: huggingface-hub<1.0,>=0.34.0 in /usr/local/lib/python3.12/dist-packages (from transformers) (0.35.0)\n",
      "Requirement already satisfied: numpy>=1.17 in /usr/local/lib/python3.12/dist-packages (from transformers) (2.0.2)\n",
      "Requirement already satisfied: packaging>=20.0 in /usr/local/lib/python3.12/dist-packages (from transformers) (25.0)\n",
      "Requirement already satisfied: pyyaml>=5.1 in /usr/local/lib/python3.12/dist-packages (from transformers) (6.0.2)\n",
      "Requirement already satisfied: regex!=2019.12.17 in /usr/local/lib/python3.12/dist-packages (from transformers) (2024.11.6)\n",
      "Requirement already satisfied: requests in /usr/local/lib/python3.12/dist-packages (from transformers) (2.32.4)\n",
      "Requirement already satisfied: tokenizers<=0.23.0,>=0.22.0 in /usr/local/lib/python3.12/dist-packages (from transformers) (0.22.0)\n",
      "Requirement already satisfied: safetensors>=0.4.3 in /usr/local/lib/python3.12/dist-packages (from transformers) (0.6.2)\n",
      "Requirement already satisfied: tqdm>=4.27 in /usr/local/lib/python3.12/dist-packages (from transformers) (4.67.1)\n",
      "Requirement already satisfied: datasets>=2.0.0 in /usr/local/lib/python3.12/dist-packages (from evaluate) (4.0.0)\n",
      "Requirement already satisfied: dill in /usr/local/lib/python3.12/dist-packages (from evaluate) (0.3.8)\n",
      "Requirement already satisfied: pandas in /usr/local/lib/python3.12/dist-packages (from evaluate) (2.2.2)\n",
      "Requirement already satisfied: xxhash in /usr/local/lib/python3.12/dist-packages (from evaluate) (3.5.0)\n",
      "Requirement already satisfied: multiprocess in /usr/local/lib/python3.12/dist-packages (from evaluate) (0.70.16)\n",
      "Requirement already satisfied: fsspec>=2021.05.0 in /usr/local/lib/python3.12/dist-packages (from fsspec[http]>=2021.05.0->evaluate) (2025.3.0)\n",
      "Requirement already satisfied: psutil in /usr/local/lib/python3.12/dist-packages (from accelerate) (5.9.5)\n",
      "Requirement already satisfied: torch>=2.0.0 in /usr/local/lib/python3.12/dist-packages (from accelerate) (2.8.0+cu126)\n",
      "Requirement already satisfied: pyarrow>=15.0.0 in /usr/local/lib/python3.12/dist-packages (from datasets>=2.0.0->evaluate) (18.1.0)\n",
      "Requirement already satisfied: aiohttp!=4.0.0a0,!=4.0.0a1 in /usr/local/lib/python3.12/dist-packages (from fsspec[http]>=2021.05.0->evaluate) (3.12.15)\n",
      "Requirement already satisfied: typing-extensions>=3.7.4.3 in /usr/local/lib/python3.12/dist-packages (from huggingface-hub<1.0,>=0.34.0->transformers) (4.15.0)\n",
      "Requirement already satisfied: hf-xet<2.0.0,>=1.1.3 in /usr/local/lib/python3.12/dist-packages (from huggingface-hub<1.0,>=0.34.0->transformers) (1.1.10)\n",
      "Requirement already satisfied: charset_normalizer<4,>=2 in /usr/local/lib/python3.12/dist-packages (from requests->transformers) (3.4.3)\n",
      "Requirement already satisfied: idna<4,>=2.5 in /usr/local/lib/python3.12/dist-packages (from requests->transformers) (3.10)\n",
      "Requirement already satisfied: urllib3<3,>=1.21.1 in /usr/local/lib/python3.12/dist-packages (from requests->transformers) (2.5.0)\n",
      "Requirement already satisfied: certifi>=2017.4.17 in /usr/local/lib/python3.12/dist-packages (from requests->transformers) (2025.8.3)\n",
      "Requirement already satisfied: setuptools in /usr/local/lib/python3.12/dist-packages (from torch>=2.0.0->accelerate) (75.2.0)\n",
      "Requirement already satisfied: sympy>=1.13.3 in /usr/local/lib/python3.12/dist-packages (from torch>=2.0.0->accelerate) (1.13.3)\n",
      "Requirement already satisfied: networkx in /usr/local/lib/python3.12/dist-packages (from torch>=2.0.0->accelerate) (3.5)\n",
      "Requirement already satisfied: jinja2 in /usr/local/lib/python3.12/dist-packages (from torch>=2.0.0->accelerate) (3.1.6)\n",
      "Requirement already satisfied: nvidia-cuda-nvrtc-cu12==12.6.77 in /usr/local/lib/python3.12/dist-packages (from torch>=2.0.0->accelerate) (12.6.77)\n",
      "Requirement already satisfied: nvidia-cuda-runtime-cu12==12.6.77 in /usr/local/lib/python3.12/dist-packages (from torch>=2.0.0->accelerate) (12.6.77)\n",
      "Requirement already satisfied: nvidia-cuda-cupti-cu12==12.6.80 in /usr/local/lib/python3.12/dist-packages (from torch>=2.0.0->accelerate) (12.6.80)\n",
      "Requirement already satisfied: nvidia-cudnn-cu12==9.10.2.21 in /usr/local/lib/python3.12/dist-packages (from torch>=2.0.0->accelerate) (9.10.2.21)\n",
      "Requirement already satisfied: nvidia-cublas-cu12==12.6.4.1 in /usr/local/lib/python3.12/dist-packages (from torch>=2.0.0->accelerate) (12.6.4.1)\n",
      "Requirement already satisfied: nvidia-cufft-cu12==11.3.0.4 in /usr/local/lib/python3.12/dist-packages (from torch>=2.0.0->accelerate) (11.3.0.4)\n",
      "Requirement already satisfied: nvidia-curand-cu12==10.3.7.77 in /usr/local/lib/python3.12/dist-packages (from torch>=2.0.0->accelerate) (10.3.7.77)\n",
      "Requirement already satisfied: nvidia-cusolver-cu12==11.7.1.2 in /usr/local/lib/python3.12/dist-packages (from torch>=2.0.0->accelerate) (11.7.1.2)\n",
      "Requirement already satisfied: nvidia-cusparse-cu12==12.5.4.2 in /usr/local/lib/python3.12/dist-packages (from torch>=2.0.0->accelerate) (12.5.4.2)\n",
      "Requirement already satisfied: nvidia-cusparselt-cu12==0.7.1 in /usr/local/lib/python3.12/dist-packages (from torch>=2.0.0->accelerate) (0.7.1)\n",
      "Requirement already satisfied: nvidia-nccl-cu12==2.27.3 in /usr/local/lib/python3.12/dist-packages (from torch>=2.0.0->accelerate) (2.27.3)\n",
      "Requirement already satisfied: nvidia-nvtx-cu12==12.6.77 in /usr/local/lib/python3.12/dist-packages (from torch>=2.0.0->accelerate) (12.6.77)\n",
      "Requirement already satisfied: nvidia-nvjitlink-cu12==12.6.85 in /usr/local/lib/python3.12/dist-packages (from torch>=2.0.0->accelerate) (12.6.85)\n",
      "Requirement already satisfied: nvidia-cufile-cu12==1.11.1.6 in /usr/local/lib/python3.12/dist-packages (from torch>=2.0.0->accelerate) (1.11.1.6)\n",
      "Requirement already satisfied: triton==3.4.0 in /usr/local/lib/python3.12/dist-packages (from torch>=2.0.0->accelerate) (3.4.0)\n",
      "Requirement already satisfied: python-dateutil>=2.8.2 in /usr/local/lib/python3.12/dist-packages (from pandas->evaluate) (2.9.0.post0)\n",
      "Requirement already satisfied: pytz>=2020.1 in /usr/local/lib/python3.12/dist-packages (from pandas->evaluate) (2025.2)\n",
      "Requirement already satisfied: tzdata>=2022.7 in /usr/local/lib/python3.12/dist-packages (from pandas->evaluate) (2025.2)\n",
      "Requirement already satisfied: aiohappyeyeballs>=2.5.0 in /usr/local/lib/python3.12/dist-packages (from aiohttp!=4.0.0a0,!=4.0.0a1->fsspec[http]>=2021.05.0->evaluate) (2.6.1)\n",
      "Requirement already satisfied: aiosignal>=1.4.0 in /usr/local/lib/python3.12/dist-packages (from aiohttp!=4.0.0a0,!=4.0.0a1->fsspec[http]>=2021.05.0->evaluate) (1.4.0)\n",
      "Requirement already satisfied: attrs>=17.3.0 in /usr/local/lib/python3.12/dist-packages (from aiohttp!=4.0.0a0,!=4.0.0a1->fsspec[http]>=2021.05.0->evaluate) (25.3.0)\n",
      "Requirement already satisfied: frozenlist>=1.1.1 in /usr/local/lib/python3.12/dist-packages (from aiohttp!=4.0.0a0,!=4.0.0a1->fsspec[http]>=2021.05.0->evaluate) (1.7.0)\n",
      "Requirement already satisfied: multidict<7.0,>=4.5 in /usr/local/lib/python3.12/dist-packages (from aiohttp!=4.0.0a0,!=4.0.0a1->fsspec[http]>=2021.05.0->evaluate) (6.6.4)\n",
      "Requirement already satisfied: propcache>=0.2.0 in /usr/local/lib/python3.12/dist-packages (from aiohttp!=4.0.0a0,!=4.0.0a1->fsspec[http]>=2021.05.0->evaluate) (0.3.2)\n",
      "Requirement already satisfied: yarl<2.0,>=1.17.0 in /usr/local/lib/python3.12/dist-packages (from aiohttp!=4.0.0a0,!=4.0.0a1->fsspec[http]>=2021.05.0->evaluate) (1.20.1)\n",
      "Requirement already satisfied: six>=1.5 in /usr/local/lib/python3.12/dist-packages (from python-dateutil>=2.8.2->pandas->evaluate) (1.17.0)\n",
      "Requirement already satisfied: mpmath<1.4,>=1.1.0 in /usr/local/lib/python3.12/dist-packages (from sympy>=1.13.3->torch>=2.0.0->accelerate) (1.3.0)\n",
      "Requirement already satisfied: MarkupSafe>=2.0 in /usr/local/lib/python3.12/dist-packages (from jinja2->torch>=2.0.0->accelerate) (3.0.2)\n"
     ]
    }
   ],
   "source": [
    "!pip install transformers evaluate accelerate"
   ]
  },
  {
   "cell_type": "code",
   "execution_count": null,
   "metadata": {
    "id": "feHRGfqdONsa"
   },
   "outputs": [],
   "source": [
    "import pandas as pd\n",
    "import numpy as np\n",
    "import evaluate\n",
    "from sklearn.model_selection import train_test_split\n",
    "from transformers import (\n",
    "    AutoTokenizer,\n",
    "    AutoModelForSequenceClassification,\n",
    "    TrainingArguments,\n",
    "    Trainer,\n",
    "    DataCollatorWithPadding,\n",
    "    EarlyStoppingCallback\n",
    ")\n",
    "import torch\n",
    "from torch.utils.data import Dataset as TorchDataset\n",
    "import matplotlib.pyplot as plt\n",
    "import sys\n",
    "import subprocess\n",
    "import time\n",
    "start_total_time = time.time()"
   ]
  },
  {
   "cell_type": "markdown",
   "metadata": {
    "id": "qkRUcLU1PHke"
   },
   "source": [
    "# **1. Carregar Dataset Processado**"
   ]
  },
  {
   "cell_type": "markdown",
   "metadata": {
    "id": "5Ti1knC9saC_"
   },
   "source": [
    "Nesta etapa, o conjunto de dados é preparado para o treinamento do modelo. O ***arquivo denuncias_balanceadas.xlsx*** é dividido em três partes: treino (70%), validação (15%) e teste (15%), garantindo que cada conjunto tenha uma distribuição similar das classes ***invasao_domicilio*** e ***violencia_fisica***.\n",
    "\n"
   ]
  },
  {
   "cell_type": "code",
   "execution_count": null,
   "metadata": {
    "colab": {
     "base_uri": "https://localhost:8080/"
    },
    "id": "3O3x60E3PHtT",
    "outputId": "c5025a42-118a-4fbe-8405-a30f5ff21c99"
   },
   "outputs": [
    {
     "name": "stdout",
     "output_type": "stream",
     "text": [
      "Treino: 118, Validação: 25, Teste: 26\n"
     ]
    }
   ],
   "source": [
    "# Carregar dataset já processado\n",
    "file_path = '/content/drive/MyDrive/2025/tcc-final/denuncias_balanceadas.xlsx'\n",
    "df = pd.read_excel(file_path)\n",
    "\n",
    "# Dividir em treino (70%), validação (15%) e teste (15%)\n",
    "train_df, temp_df = train_test_split(df, test_size=0.3, stratify=df['classe'], random_state=42)\n",
    "val_df, test_df = train_test_split(temp_df, test_size=0.5, stratify=temp_df['classe'], random_state=42)\n",
    "\n",
    "print(f\"Treino: {len(train_df)}, Validação: {len(val_df)}, Teste: {len(test_df)}\")"
   ]
  },
  {
   "cell_type": "markdown",
   "metadata": {
    "id": "DE3WAEgOPYHa"
   },
   "source": [
    "# **2. Tokenização com BERTimbau**"
   ]
  },
  {
   "cell_type": "markdown",
   "metadata": {
    "id": "mcpyLSPJstl_"
   },
   "source": [
    "Para que o modelo BERTimbau entenda nossos textos, é preciso convertê-los em um formato numérico. Este processo, chamado de tokenização, utiliza o ***AutoTokenizer*** do modelo BERTimbau, que é um modelo de linguagem pré-treinado especificamente para o português do Brasil. O ***tokenizer*** quebra os textos em ***tokens*** (palavras ou partes de palavras) e os mapeia para números que o modelo pode processar."
   ]
  },
  {
   "cell_type": "code",
   "execution_count": null,
   "metadata": {
    "colab": {
     "base_uri": "https://localhost:8080/",
     "height": 324,
     "referenced_widgets": [
      "41e9fa5cff484d6a95a4422bc47e6d7c",
      "a8480cfb8dd34cde88aa54341bf64db7",
      "db9412f494f24a27834cb7eff6d4ed7b",
      "8ca3be30e61a491aa0317ebd0f917e3f",
      "b727c6e5b41b44e494fe1753402d7177",
      "525cd56786e9406b9930284d8571b74f",
      "d4b02fb30db3436dbe74e7e1b4114b2f",
      "6d4b0d2de49146e092b1e7c1388603c4",
      "4e28e0320e134f018a4c6945a908f013",
      "acc82f8d452c4f63944117619a149a0f",
      "6c14fb4a30b64b509969d0d92f1a42ca",
      "84e3c3a6f80c406a9ce9748be9662de4",
      "be2e89a8f45f4480acfc3c3b961838dd",
      "0a8469c737da4106b224ffae366a6613",
      "0a167a46974f4fd08c6f39a331f37fa3",
      "83e623ce8b4d49938b62fb879fec5ca3",
      "a0739f39b9044a2eb15096eef25442ed",
      "93485ff1405f467989e3e568c8f4b888",
      "22d0f881489a4d07870c38da22203ebf",
      "f334ebb830d1451dbc4dc841a1ef3e04",
      "e524435bf9214afdaacd1ebff7f91d37",
      "f3e1a89a2c424ac1956e37c934196ed3",
      "0084a21316a34a78b59f7375bacd478c",
      "5eaf9c5df1d54d75b14e43e0867f66e3",
      "0823c25c4bc849238b1049d84c83efe8",
      "d6a9802774f44b9d96609b5d356380bd",
      "87531eaeaff64a4591f030d0eca431f4",
      "b4062d8a2cfc4296a7140f0fc83cbb2e",
      "f0255c0cce4f4c5982274eb69c979e47",
      "af11a1a3724e4adda9007a8cd6a0d5a8",
      "a8d44766ba74409989cf543f1d4f44d5",
      "59f3d135fa504e299d80372e4ae38158",
      "dc141b9533824c0c953213cac3f3afb0",
      "a7acc64657a9406c96088480e1c5c67a",
      "f1c4a59a6ebd4ba09a88acdd2659775a",
      "d177aa82837a4607b041c8f18c5ccc93",
      "263006428bce4128bff3fb114add1ba4",
      "7dd139261f644a67a1264b67fe702b63",
      "120e517c2469493ba0374d037b15958b",
      "2b3bf2a3fcf14cdeb00cb6ce9eedb9d8",
      "b00c50073b5d47f8aea9a090bb130c41",
      "a6cc55e7032e45a2b210fbe5ef8c999f",
      "e37ad82bcf5c4bc19e46ec415a895455",
      "35f9fac1f8904509acee2f65a89a3c04",
      "03b84b448e8f4607a5b8a0d07b3afd2d",
      "86688fbae4e1468b8e8854b71080fc05",
      "6dd3789a88574bb692668027d4ec0d7c",
      "8213c02ce1154a6fbda7fadfddb944d5",
      "67207712984946e2a2143948000e6a00",
      "a926702482594a9bba36fabb00d469cc",
      "bca2a47251d24c87944f7c748d3d164d",
      "d12f1992324c4744a8a4e610ba8d0d20",
      "9b911f3813c14a3193d0c674a549999e",
      "1087c87062aa4da3a0ca3a4cec9d521c",
      "07587ce4671c46d2960f5fae055cf9dc"
     ]
    },
    "id": "sql7RSXMPd1g",
    "outputId": "60eebe64-bcf5-4fc0-c54b-550eb0155723"
   },
   "outputs": [
    {
     "name": "stderr",
     "output_type": "stream",
     "text": [
      "/usr/local/lib/python3.12/dist-packages/huggingface_hub/utils/_auth.py:94: UserWarning: \n",
      "The secret `HF_TOKEN` does not exist in your Colab secrets.\n",
      "To authenticate with the Hugging Face Hub, create a token in your settings tab (https://huggingface.co/settings/tokens), set it as secret in your Google Colab and restart your session.\n",
      "You will be able to reuse this secret in all of your notebooks.\n",
      "Please note that authentication is recommended but still optional to access public models or datasets.\n",
      "  warnings.warn(\n"
     ]
    },
    {
     "data": {
      "application/vnd.jupyter.widget-view+json": {
       "model_id": "41e9fa5cff484d6a95a4422bc47e6d7c",
       "version_major": 2,
       "version_minor": 0
      },
      "text/plain": [
       "tokenizer_config.json:   0%|          | 0.00/43.0 [00:00<?, ?B/s]"
      ]
     },
     "metadata": {},
     "output_type": "display_data"
    },
    {
     "data": {
      "application/vnd.jupyter.widget-view+json": {
       "model_id": "84e3c3a6f80c406a9ce9748be9662de4",
       "version_major": 2,
       "version_minor": 0
      },
      "text/plain": [
       "config.json:   0%|          | 0.00/647 [00:00<?, ?B/s]"
      ]
     },
     "metadata": {},
     "output_type": "display_data"
    },
    {
     "data": {
      "application/vnd.jupyter.widget-view+json": {
       "model_id": "0084a21316a34a78b59f7375bacd478c",
       "version_major": 2,
       "version_minor": 0
      },
      "text/plain": [
       "vocab.txt: 0.00B [00:00, ?B/s]"
      ]
     },
     "metadata": {},
     "output_type": "display_data"
    },
    {
     "data": {
      "application/vnd.jupyter.widget-view+json": {
       "model_id": "a7acc64657a9406c96088480e1c5c67a",
       "version_major": 2,
       "version_minor": 0
      },
      "text/plain": [
       "added_tokens.json:   0%|          | 0.00/2.00 [00:00<?, ?B/s]"
      ]
     },
     "metadata": {},
     "output_type": "display_data"
    },
    {
     "data": {
      "application/vnd.jupyter.widget-view+json": {
       "model_id": "03b84b448e8f4607a5b8a0d07b3afd2d",
       "version_major": 2,
       "version_minor": 0
      },
      "text/plain": [
       "special_tokens_map.json:   0%|          | 0.00/112 [00:00<?, ?B/s]"
      ]
     },
     "metadata": {},
     "output_type": "display_data"
    },
    {
     "name": "stdout",
     "output_type": "stream",
     "text": [
      "Encoding(num_tokens=512, attributes=[ids, type_ids, tokens, offsets, attention_mask, special_tokens_mask, overflowing])\n",
      "Encoding(num_tokens=238, attributes=[ids, type_ids, tokens, offsets, attention_mask, special_tokens_mask, overflowing])\n",
      "Encoding(num_tokens=189, attributes=[ids, type_ids, tokens, offsets, attention_mask, special_tokens_mask, overflowing])\n"
     ]
    }
   ],
   "source": [
    "model_path = \"neuralmind/bert-base-portuguese-cased\"\n",
    "tokenizer = AutoTokenizer.from_pretrained(model_path)\n",
    "\n",
    "# Função de tokenização\n",
    "def tokenize_function(batch):\n",
    "    return tokenizer(batch[\"texto\"], truncation=True,max_length=512, padding='longest',return_tensors='pt')\n",
    "\n",
    "# Tokenizar os DataFrames diretamente (sem usar datasets.Dataset)\n",
    "train_encodings = tokenize_function(train_df.to_dict('list'))\n",
    "val_encodings = tokenize_function(val_df.to_dict('list'))\n",
    "test_encodings = tokenize_function(test_df.to_dict('list'))\n",
    "print(train_encodings[0])\n",
    "print(val_encodings[0])\n",
    "print(test_encodings[0])"
   ]
  },
  {
   "cell_type": "markdown",
   "metadata": {
    "id": "U0mzN3JPP-s4"
   },
   "source": [
    "# **3. Configuração do Modelo: Adaptando o BERTimbau para a nossa tarefa**"
   ]
  },
  {
   "cell_type": "markdown",
   "metadata": {
    "id": "AKh_g5Rfs27y"
   },
   "source": [
    "Aqui, carregamos o modelo BERTimbau pré-treinado e o adaptamos para a nossa tarefa de classificação de texto. A parte mais importante desta etapa é a configuração da camada final (chamada de ***classifier***), que será treinada para prever uma de nossas duas classes. Além disso, congelamos as camadas de base do BERT, o que significa que apenas a nova camada do classificador será ajustada, otimizando o treinamento para um conjunto de dados menor."
   ]
  },
  {
   "cell_type": "code",
   "execution_count": null,
   "metadata": {
    "colab": {
     "base_uri": "https://localhost:8080/",
     "height": 82,
     "referenced_widgets": [
      "ffa2fb3475f047f7b42946054fe1b356",
      "de16f50a551b43e5b4a70f3b46090213",
      "6867f4cfc249447c8c2fca29291e02c0",
      "e35d34b50f5d48ad970882a0fcf29860",
      "fd2d48057c9b4b49bacf8c821d0674fc",
      "e3d84c09c6eb43819689fc84edb6112d",
      "526463a453ba4e2a9bd2c0cff0f6b1ce",
      "5f32cf388717450284dfdb39a9549e5b",
      "7d6aaa076ccd437685492d7d3a42cd4d",
      "c01412d5c0594c44a2ef1c59e46f6aff",
      "c6cc55ae5773451c869fb1634eac6c19"
     ]
    },
    "id": "tkQIL_4sYTMq",
    "outputId": "d21e246e-49ac-4b43-bde9-1467f009ac1b"
   },
   "outputs": [
    {
     "data": {
      "application/vnd.jupyter.widget-view+json": {
       "model_id": "ffa2fb3475f047f7b42946054fe1b356",
       "version_major": 2,
       "version_minor": 0
      },
      "text/plain": [
       "pytorch_model.bin:   0%|          | 0.00/438M [00:00<?, ?B/s]"
      ]
     },
     "metadata": {},
     "output_type": "display_data"
    },
    {
     "name": "stderr",
     "output_type": "stream",
     "text": [
      "Some weights of BertForSequenceClassification were not initialized from the model checkpoint at neuralmind/bert-base-portuguese-cased and are newly initialized: ['classifier.bias', 'classifier.weight']\n",
      "You should probably TRAIN this model on a down-stream task to be able to use it for predictions and inference.\n"
     ]
    }
   ],
   "source": [
    "id2label = {0: \"invasao_domicilio\", 1: \"violencia_fisica\"}\n",
    "label2id = {v: k for k, v in id2label.items()}\n",
    "\n",
    "model = AutoModelForSequenceClassification.from_pretrained(\n",
    "    model_path,\n",
    "    num_labels=2,\n",
    "    id2label=id2label,\n",
    "    label2id=label2id\n",
    ")\n",
    "\n",
    "# Congelar camadas do BERT (exceto pooler e classificador)\n",
    "for name, param in model.named_parameters():\n",
    "    if 'classifier' not in name and 'pooler' not in name:\n",
    "        param.requires_grad = False"
   ]
  },
  {
   "cell_type": "markdown",
   "metadata": {
    "id": "2S-nz2HQZ0CA"
   },
   "source": [
    "# **4. Avaliação do Modelo: Definindo as métricas de sucesso**"
   ]
  },
  {
   "cell_type": "markdown",
   "metadata": {
    "id": "38r3L7Pbs9xI"
   },
   "source": [
    "Para saber se o nosso modelo está aprendendo bem, precisamos de métricas de avaliação. Além da ***acurácia*** (a porcentagem de acertos), calculamos outras métricas importantes, como a ***AUC-ROC***, que mede a capacidade do modelo de distinguir entre as classes, e a ***Precisão, Recall e F1-Score***, que nos dão uma visão mais detalhada sobre o desempenho do modelo em cada classe (invasão de domicílio e violência física)."
   ]
  },
  {
   "cell_type": "code",
   "execution_count": null,
   "metadata": {
    "colab": {
     "base_uri": "https://localhost:8080/",
     "height": 208,
     "referenced_widgets": [
      "bb01d0df0ada483caf90f79d94964d23",
      "e5a2b3588faa4275a29e615c8802a5fa",
      "e56dc79c07ed43688ccb6754ce32ea3b",
      "3415c3fbaa4d4957baf2703029cb20eb",
      "47299af1f2f840fe8a1a0717aa4bb7bb",
      "8a55aaca8d8d49239c5e4c9046983de2",
      "b6ece22dae5a404d8ce55eca5c1d76a4",
      "4597919f831040bda76656e3ea82c840",
      "e306b8afdd9c45049878ac9f1d23d2e8",
      "27bdc9fd748e4b5c80f9182087612c19",
      "7e136ee488b14dba9fb785fa0448affc",
      "fa3b76312309446b8ee73c885a803939",
      "90d939451e5646f7a33709373b651f4a",
      "760f6e6c38cf469b854151b03efbb0df",
      "6b7971c63c624a2b97a16915584a0d62",
      "a9fd4712acc142da8863291b1cd4d991",
      "b1af0a151c754e51a2ffd1318371d212",
      "46cbc247de3743bea6b09c246f353f8d",
      "ccf914ab647e4a76bac4b7d77b416fd8",
      "3386a89601ea444fa49883a7125543d6",
      "32c6673c666e43229b88cff3012c53f4",
      "fd99e14f510c46b4b57e520a65bba85e",
      "2452ddf06a924e6fab8c8c1f8025358d",
      "a37e0c13fa2243e78763acaabead81ab",
      "4a7806106a30461fad411770bbc01bd7",
      "693616037c5c4242a717380a47752bee",
      "f430a3940fb94261be3b688daaa474f8",
      "29a4184418e04477a3f9126ad7a877dc",
      "bfd240512b884e5e8cc77c15e38483a4",
      "cf06607da88a42109a2b6a622ed7ed34",
      "dfc2eb927529438b84e472f332bc114d",
      "20cbe0065596433481d90e7d641cff74",
      "ef723226d7ab4ccca0ff76f1ac514cb3",
      "7d5595cec8124eac84944899f120b58e",
      "823867c2735c4388ae3aae8e202debaa",
      "56d2496a48d64f0f8bd585df21566744",
      "4fd9a6f0f23b4a84b6442efc18f7e0f0",
      "5b9aa883cb4b4558adcd987e8a4502f4",
      "6825f58f418a48d19135eb4bb07f55ba",
      "1402e79a924143cb8bd3098c6a8dbfe0",
      "b9f55a646ba64cb4af47676088effe76",
      "68092a8867824973950e7562f50cfa71",
      "d11c3756b4364045b243973a964f54e0",
      "dc8ef2f2206244febcf94a49b39bbce3",
      "24ebe3cfecd84f3aad52fbee8ad03c4f",
      "6bf506f274364946966489b921f4fca1",
      "57f0f9c1d6544e09b40ad024f5f831de",
      "022b826599a344fba827c0fd1f927de7",
      "b80ec318107c45ab81209cfbd92d9521",
      "8aa0bd94f98b4073846b6344b445e034",
      "b85ff4845f9a464cbf2fad643536a98c",
      "f5c43cfef61c497b9aee79b5d04ec1f0",
      "d4be397352cc492a8c2beeb58328f7fb",
      "7c25e201183744e18637a916322895f5",
      "d28df938c0364890a7611812f507a8de",
      "c0b1e4847300473d89feb6e416112f89",
      "24add46be0d04161873c0b65e7de5160",
      "e72331d36dd145b7b30fc4da598bb8c2",
      "a72bfd4881d24e0f9bbf805be9e66cc1",
      "840f99a2b14b444f977a8da6c502c76f",
      "434329ed88ab4ad6b85f763c8bc07feb",
      "6e308dd6cd52424f8c2b551b0cbeed02",
      "76e3c7c3a7e341fc9d5e49c967034ced",
      "43c97f0a355d45f9ab89d7f1ffb0c7ba",
      "1b149a6116424ab6ae089b422a88cf38",
      "e60830c892da4872aefb684584c67b89"
     ]
    },
    "id": "F-gctrIbZ1Pv",
    "outputId": "f4acb5e2-8657-47c5-8940-91978479cc09"
   },
   "outputs": [
    {
     "data": {
      "application/vnd.jupyter.widget-view+json": {
       "model_id": "bb01d0df0ada483caf90f79d94964d23",
       "version_major": 2,
       "version_minor": 0
      },
      "text/plain": [
       "model.safetensors:   0%|          | 0.00/438M [00:00<?, ?B/s]"
      ]
     },
     "metadata": {},
     "output_type": "display_data"
    },
    {
     "data": {
      "application/vnd.jupyter.widget-view+json": {
       "model_id": "fa3b76312309446b8ee73c885a803939",
       "version_major": 2,
       "version_minor": 0
      },
      "text/plain": [
       "Downloading builder script: 0.00B [00:00, ?B/s]"
      ]
     },
     "metadata": {},
     "output_type": "display_data"
    },
    {
     "data": {
      "application/vnd.jupyter.widget-view+json": {
       "model_id": "2452ddf06a924e6fab8c8c1f8025358d",
       "version_major": 2,
       "version_minor": 0
      },
      "text/plain": [
       "Downloading builder script: 0.00B [00:00, ?B/s]"
      ]
     },
     "metadata": {},
     "output_type": "display_data"
    },
    {
     "data": {
      "application/vnd.jupyter.widget-view+json": {
       "model_id": "7d5595cec8124eac84944899f120b58e",
       "version_major": 2,
       "version_minor": 0
      },
      "text/plain": [
       "Downloading builder script: 0.00B [00:00, ?B/s]"
      ]
     },
     "metadata": {},
     "output_type": "display_data"
    },
    {
     "data": {
      "application/vnd.jupyter.widget-view+json": {
       "model_id": "24ebe3cfecd84f3aad52fbee8ad03c4f",
       "version_major": 2,
       "version_minor": 0
      },
      "text/plain": [
       "Downloading builder script: 0.00B [00:00, ?B/s]"
      ]
     },
     "metadata": {},
     "output_type": "display_data"
    },
    {
     "data": {
      "application/vnd.jupyter.widget-view+json": {
       "model_id": "c0b1e4847300473d89feb6e416112f89",
       "version_major": 2,
       "version_minor": 0
      },
      "text/plain": [
       "Downloading builder script: 0.00B [00:00, ?B/s]"
      ]
     },
     "metadata": {},
     "output_type": "display_data"
    }
   ],
   "source": [
    "accuracy = evaluate.load(\"accuracy\")\n",
    "auc_score = evaluate.load(\"roc_auc\")\n",
    "f1_metric = evaluate.load(\"f1\")\n",
    "precision = evaluate.load(\"precision\")\n",
    "recall = evaluate.load(\"recall\")\n",
    "\n",
    "def compute_metrics(eval_pred):\n",
    "    try:\n",
    "        predictions, labels = eval_pred\n",
    "        probabilities = np.exp(predictions - np.max(predictions, axis=-1, keepdims=True)) / np.sum(np.exp(predictions - np.max(predictions, axis=-1, keepdims=True)), axis=-1, keepdims=True)\n",
    "        positive_class_probs = probabilities[:, 1]\n",
    "\n",
    "        preds = np.argmax(predictions, axis=1)\n",
    "        acc = accuracy.compute(predictions=preds, references=labels)[\"accuracy\"]\n",
    "        auc = auc_score.compute(prediction_scores=positive_class_probs, references=labels)[\"roc_auc\"]\n",
    "\n",
    "        f1_results = f1_metric.compute(\n",
    "            predictions=preds,\n",
    "            references=labels,\n",
    "            average=None,\n",
    "            labels=[label2id[\"invasao_domicilio\"], label2id[\"violencia_fisica\"]]\n",
    "        )\n",
    "        precision_results = precision.compute(\n",
    "            predictions=preds,\n",
    "            references=labels,\n",
    "            average=None,\n",
    "            labels=[label2id[\"invasao_domicilio\"], label2id[\"violencia_fisica\"]]\n",
    "        )\n",
    "        recall_results = recall.compute(\n",
    "            predictions=preds,\n",
    "            references=labels,\n",
    "            average=None,\n",
    "            labels=[label2id[\"invasao_domicilio\"], label2id[\"violencia_fisica\"]]\n",
    "        )\n",
    "\n",
    "        return {\n",
    "            \"accuracy\": round(acc, 4),\n",
    "            \"auc\": round(auc, 4),\n",
    "            \"f1_invasao\": round(f1_results[\"f1\"][0], 4),\n",
    "            \"f1_violencia\": round(f1_results[\"f1\"][1], 4),\n",
    "            \"precision_invasao\": round(precision_results[\"precision\"][0], 4),\n",
    "            \"precision_violencia\": round(precision_results[\"precision\"][1], 4),\n",
    "            \"recall_invasao\": round(recall_results[\"recall\"][0], 4),\n",
    "            \"recall_violencia\": round(recall_results[\"recall\"][1], 4),\n",
    "            \"precision_macro\": round(np.mean(precision_results[\"precision\"]), 4),\n",
    "            \"recall_macro\": round(np.mean(recall_results[\"recall\"]), 4),\n",
    "            \"f1_macro\": round(np.mean(f1_results[\"f1\"]), 4)\n",
    "        }\n",
    "    except Exception as e:\n",
    "        print(f\"Erro no cálculo de métricas: {str(e)}\")\n",
    "        return {\"accuracy\": 0.0, \"auc\": 0.0, \"f1_invasao\": 0.0, \"f1_violencia\": 0.0,\n",
    "                \"precision_invasao\": 0.0, \"precision_violencia\": 0.0,\n",
    "                \"recall_invasao\": 0.0, \"recall_violencia\": 0.0,\n",
    "                \"precision_macro\": 0.0, \"recall_macro\": 0.0, \"f1_macro\": 0.0}"
   ]
  },
  {
   "cell_type": "markdown",
   "metadata": {
    "id": "kwkxUjbiuniC"
   },
   "source": [
    "# **5. Treinamento: A mágica do Fine-Tuning**"
   ]
  },
  {
   "cell_type": "markdown",
   "metadata": {
    "id": "j6u5QzNauoN1"
   },
   "source": [
    "Nesta seção, iniciamos o treinamento do modelo usando a biblioteca ***Hugging Face Trainer***. O treinamento será executado por 30 épocas. O ***EarlyStoppingCallback*** é ativado para interromper o treinamento caso o desempenho do modelo no conjunto de validação pare de melhorar por três épocas consecutivas, evitando o overfitting. Você pode acompanhar a evolução da perda (loss) e da acurácia durante o processo no gráfico abaixo."
   ]
  },
  {
   "cell_type": "code",
   "execution_count": null,
   "metadata": {
    "colab": {
     "base_uri": "https://localhost:8080/",
     "height": 1000
    },
    "id": "Lu5KpVfWaGA3",
    "outputId": "d84bbd96-e7f6-442d-8275-030b76609fd2"
   },
   "outputs": [
    {
     "name": "stderr",
     "output_type": "stream",
     "text": [
      "/tmp/ipython-input-115602442.py:35: UserWarning: To copy construct from a tensor, it is recommended to use sourceTensor.detach().clone() or sourceTensor.detach().clone().requires_grad_(True), rather than torch.tensor(sourceTensor).\n",
      "  self.encodings = {key: torch.tensor(val) for key, val in encodings.items()}\n",
      "/tmp/ipython-input-115602442.py:35: UserWarning: To copy construct from a tensor, it is recommended to use sourceTensor.detach().clone() or sourceTensor.detach().clone().requires_grad_(True), rather than torch.tensor(sourceTensor).\n",
      "  self.encodings = {key: torch.tensor(val) for key, val in encodings.items()}\n",
      "/tmp/ipython-input-115602442.py:35: UserWarning: To copy construct from a tensor, it is recommended to use sourceTensor.detach().clone() or sourceTensor.detach().clone().requires_grad_(True), rather than torch.tensor(sourceTensor).\n",
      "  self.encodings = {key: torch.tensor(val) for key, val in encodings.items()}\n"
     ]
    },
    {
     "name": "stdout",
     "output_type": "stream",
     "text": [
      "\n",
      "🚀 Iniciando treinamento...\n"
     ]
    },
    {
     "data": {
      "text/html": [
       "\n",
       "    <div>\n",
       "      \n",
       "      <progress value='435' max='450' style='width:300px; height:20px; vertical-align: middle;'></progress>\n",
       "      [435/450 04:44 < 00:09, 1.52 it/s, Epoch 29/30]\n",
       "    </div>\n",
       "    <table border=\"1\" class=\"dataframe\">\n",
       "  <thead>\n",
       " <tr style=\"text-align: left;\">\n",
       "      <th>Epoch</th>\n",
       "      <th>Training Loss</th>\n",
       "      <th>Validation Loss</th>\n",
       "      <th>Accuracy</th>\n",
       "      <th>Auc</th>\n",
       "      <th>F1 Invasao</th>\n",
       "      <th>F1 Violencia</th>\n",
       "      <th>Precision Invasao</th>\n",
       "      <th>Precision Violencia</th>\n",
       "      <th>Recall Invasao</th>\n",
       "      <th>Recall Violencia</th>\n",
       "      <th>Precision Macro</th>\n",
       "      <th>Recall Macro</th>\n",
       "      <th>F1 Macro</th>\n",
       "    </tr>\n",
       "  </thead>\n",
       "  <tbody>\n",
       "    <tr>\n",
       "      <td>1</td>\n",
       "      <td>0.688300</td>\n",
       "      <td>0.678369</td>\n",
       "      <td>0.640000</td>\n",
       "      <td>0.717900</td>\n",
       "      <td>0.666700</td>\n",
       "      <td>0.608700</td>\n",
       "      <td>0.600000</td>\n",
       "      <td>0.700000</td>\n",
       "      <td>0.750000</td>\n",
       "      <td>0.538500</td>\n",
       "      <td>0.650000</td>\n",
       "      <td>0.644200</td>\n",
       "      <td>0.637700</td>\n",
       "    </tr>\n",
       "    <tr>\n",
       "      <td>2</td>\n",
       "      <td>0.655200</td>\n",
       "      <td>0.665410</td>\n",
       "      <td>0.640000</td>\n",
       "      <td>0.705100</td>\n",
       "      <td>0.571400</td>\n",
       "      <td>0.689700</td>\n",
       "      <td>0.666700</td>\n",
       "      <td>0.625000</td>\n",
       "      <td>0.500000</td>\n",
       "      <td>0.769200</td>\n",
       "      <td>0.645800</td>\n",
       "      <td>0.634600</td>\n",
       "      <td>0.630500</td>\n",
       "    </tr>\n",
       "    <tr>\n",
       "      <td>3</td>\n",
       "      <td>0.619800</td>\n",
       "      <td>0.657998</td>\n",
       "      <td>0.720000</td>\n",
       "      <td>0.737200</td>\n",
       "      <td>0.720000</td>\n",
       "      <td>0.720000</td>\n",
       "      <td>0.692300</td>\n",
       "      <td>0.750000</td>\n",
       "      <td>0.750000</td>\n",
       "      <td>0.692300</td>\n",
       "      <td>0.721200</td>\n",
       "      <td>0.721200</td>\n",
       "      <td>0.720000</td>\n",
       "    </tr>\n",
       "    <tr>\n",
       "      <td>4</td>\n",
       "      <td>0.613100</td>\n",
       "      <td>0.652139</td>\n",
       "      <td>0.680000</td>\n",
       "      <td>0.743600</td>\n",
       "      <td>0.666700</td>\n",
       "      <td>0.692300</td>\n",
       "      <td>0.666700</td>\n",
       "      <td>0.692300</td>\n",
       "      <td>0.666700</td>\n",
       "      <td>0.692300</td>\n",
       "      <td>0.679500</td>\n",
       "      <td>0.679500</td>\n",
       "      <td>0.679500</td>\n",
       "    </tr>\n",
       "    <tr>\n",
       "      <td>5</td>\n",
       "      <td>0.583500</td>\n",
       "      <td>0.644619</td>\n",
       "      <td>0.760000</td>\n",
       "      <td>0.750000</td>\n",
       "      <td>0.769200</td>\n",
       "      <td>0.750000</td>\n",
       "      <td>0.714300</td>\n",
       "      <td>0.818200</td>\n",
       "      <td>0.833300</td>\n",
       "      <td>0.692300</td>\n",
       "      <td>0.766200</td>\n",
       "      <td>0.762800</td>\n",
       "      <td>0.759600</td>\n",
       "    </tr>\n",
       "    <tr>\n",
       "      <td>6</td>\n",
       "      <td>0.597700</td>\n",
       "      <td>0.635752</td>\n",
       "      <td>0.640000</td>\n",
       "      <td>0.743600</td>\n",
       "      <td>0.571400</td>\n",
       "      <td>0.689700</td>\n",
       "      <td>0.666700</td>\n",
       "      <td>0.625000</td>\n",
       "      <td>0.500000</td>\n",
       "      <td>0.769200</td>\n",
       "      <td>0.645800</td>\n",
       "      <td>0.634600</td>\n",
       "      <td>0.630500</td>\n",
       "    </tr>\n",
       "    <tr>\n",
       "      <td>7</td>\n",
       "      <td>0.549200</td>\n",
       "      <td>0.633525</td>\n",
       "      <td>0.680000</td>\n",
       "      <td>0.750000</td>\n",
       "      <td>0.666700</td>\n",
       "      <td>0.692300</td>\n",
       "      <td>0.666700</td>\n",
       "      <td>0.692300</td>\n",
       "      <td>0.666700</td>\n",
       "      <td>0.692300</td>\n",
       "      <td>0.679500</td>\n",
       "      <td>0.679500</td>\n",
       "      <td>0.679500</td>\n",
       "    </tr>\n",
       "    <tr>\n",
       "      <td>8</td>\n",
       "      <td>0.547900</td>\n",
       "      <td>0.633750</td>\n",
       "      <td>0.720000</td>\n",
       "      <td>0.762800</td>\n",
       "      <td>0.740700</td>\n",
       "      <td>0.695700</td>\n",
       "      <td>0.666700</td>\n",
       "      <td>0.800000</td>\n",
       "      <td>0.833300</td>\n",
       "      <td>0.615400</td>\n",
       "      <td>0.733300</td>\n",
       "      <td>0.724400</td>\n",
       "      <td>0.718200</td>\n",
       "    </tr>\n",
       "    <tr>\n",
       "      <td>9</td>\n",
       "      <td>0.543400</td>\n",
       "      <td>0.630498</td>\n",
       "      <td>0.720000</td>\n",
       "      <td>0.769200</td>\n",
       "      <td>0.740700</td>\n",
       "      <td>0.695700</td>\n",
       "      <td>0.666700</td>\n",
       "      <td>0.800000</td>\n",
       "      <td>0.833300</td>\n",
       "      <td>0.615400</td>\n",
       "      <td>0.733300</td>\n",
       "      <td>0.724400</td>\n",
       "      <td>0.718200</td>\n",
       "    </tr>\n",
       "    <tr>\n",
       "      <td>10</td>\n",
       "      <td>0.535900</td>\n",
       "      <td>0.626377</td>\n",
       "      <td>0.720000</td>\n",
       "      <td>0.769200</td>\n",
       "      <td>0.740700</td>\n",
       "      <td>0.695700</td>\n",
       "      <td>0.666700</td>\n",
       "      <td>0.800000</td>\n",
       "      <td>0.833300</td>\n",
       "      <td>0.615400</td>\n",
       "      <td>0.733300</td>\n",
       "      <td>0.724400</td>\n",
       "      <td>0.718200</td>\n",
       "    </tr>\n",
       "    <tr>\n",
       "      <td>11</td>\n",
       "      <td>0.517100</td>\n",
       "      <td>0.617751</td>\n",
       "      <td>0.720000</td>\n",
       "      <td>0.775600</td>\n",
       "      <td>0.740700</td>\n",
       "      <td>0.695700</td>\n",
       "      <td>0.666700</td>\n",
       "      <td>0.800000</td>\n",
       "      <td>0.833300</td>\n",
       "      <td>0.615400</td>\n",
       "      <td>0.733300</td>\n",
       "      <td>0.724400</td>\n",
       "      <td>0.718200</td>\n",
       "    </tr>\n",
       "    <tr>\n",
       "      <td>12</td>\n",
       "      <td>0.521100</td>\n",
       "      <td>0.609609</td>\n",
       "      <td>0.720000</td>\n",
       "      <td>0.782100</td>\n",
       "      <td>0.740700</td>\n",
       "      <td>0.695700</td>\n",
       "      <td>0.666700</td>\n",
       "      <td>0.800000</td>\n",
       "      <td>0.833300</td>\n",
       "      <td>0.615400</td>\n",
       "      <td>0.733300</td>\n",
       "      <td>0.724400</td>\n",
       "      <td>0.718200</td>\n",
       "    </tr>\n",
       "    <tr>\n",
       "      <td>13</td>\n",
       "      <td>0.512100</td>\n",
       "      <td>0.606738</td>\n",
       "      <td>0.720000</td>\n",
       "      <td>0.782100</td>\n",
       "      <td>0.740700</td>\n",
       "      <td>0.695700</td>\n",
       "      <td>0.666700</td>\n",
       "      <td>0.800000</td>\n",
       "      <td>0.833300</td>\n",
       "      <td>0.615400</td>\n",
       "      <td>0.733300</td>\n",
       "      <td>0.724400</td>\n",
       "      <td>0.718200</td>\n",
       "    </tr>\n",
       "    <tr>\n",
       "      <td>14</td>\n",
       "      <td>0.489900</td>\n",
       "      <td>0.604419</td>\n",
       "      <td>0.720000</td>\n",
       "      <td>0.794900</td>\n",
       "      <td>0.740700</td>\n",
       "      <td>0.695700</td>\n",
       "      <td>0.666700</td>\n",
       "      <td>0.800000</td>\n",
       "      <td>0.833300</td>\n",
       "      <td>0.615400</td>\n",
       "      <td>0.733300</td>\n",
       "      <td>0.724400</td>\n",
       "      <td>0.718200</td>\n",
       "    </tr>\n",
       "    <tr>\n",
       "      <td>15</td>\n",
       "      <td>0.493200</td>\n",
       "      <td>0.596742</td>\n",
       "      <td>0.720000</td>\n",
       "      <td>0.794900</td>\n",
       "      <td>0.740700</td>\n",
       "      <td>0.695700</td>\n",
       "      <td>0.666700</td>\n",
       "      <td>0.800000</td>\n",
       "      <td>0.833300</td>\n",
       "      <td>0.615400</td>\n",
       "      <td>0.733300</td>\n",
       "      <td>0.724400</td>\n",
       "      <td>0.718200</td>\n",
       "    </tr>\n",
       "    <tr>\n",
       "      <td>16</td>\n",
       "      <td>0.477700</td>\n",
       "      <td>0.594864</td>\n",
       "      <td>0.720000</td>\n",
       "      <td>0.801300</td>\n",
       "      <td>0.740700</td>\n",
       "      <td>0.695700</td>\n",
       "      <td>0.666700</td>\n",
       "      <td>0.800000</td>\n",
       "      <td>0.833300</td>\n",
       "      <td>0.615400</td>\n",
       "      <td>0.733300</td>\n",
       "      <td>0.724400</td>\n",
       "      <td>0.718200</td>\n",
       "    </tr>\n",
       "    <tr>\n",
       "      <td>17</td>\n",
       "      <td>0.481300</td>\n",
       "      <td>0.586338</td>\n",
       "      <td>0.720000</td>\n",
       "      <td>0.794900</td>\n",
       "      <td>0.740700</td>\n",
       "      <td>0.695700</td>\n",
       "      <td>0.666700</td>\n",
       "      <td>0.800000</td>\n",
       "      <td>0.833300</td>\n",
       "      <td>0.615400</td>\n",
       "      <td>0.733300</td>\n",
       "      <td>0.724400</td>\n",
       "      <td>0.718200</td>\n",
       "    </tr>\n",
       "    <tr>\n",
       "      <td>18</td>\n",
       "      <td>0.447000</td>\n",
       "      <td>0.587285</td>\n",
       "      <td>0.720000</td>\n",
       "      <td>0.801300</td>\n",
       "      <td>0.740700</td>\n",
       "      <td>0.695700</td>\n",
       "      <td>0.666700</td>\n",
       "      <td>0.800000</td>\n",
       "      <td>0.833300</td>\n",
       "      <td>0.615400</td>\n",
       "      <td>0.733300</td>\n",
       "      <td>0.724400</td>\n",
       "      <td>0.718200</td>\n",
       "    </tr>\n",
       "    <tr>\n",
       "      <td>19</td>\n",
       "      <td>0.457900</td>\n",
       "      <td>0.584963</td>\n",
       "      <td>0.720000</td>\n",
       "      <td>0.807700</td>\n",
       "      <td>0.740700</td>\n",
       "      <td>0.695700</td>\n",
       "      <td>0.666700</td>\n",
       "      <td>0.800000</td>\n",
       "      <td>0.833300</td>\n",
       "      <td>0.615400</td>\n",
       "      <td>0.733300</td>\n",
       "      <td>0.724400</td>\n",
       "      <td>0.718200</td>\n",
       "    </tr>\n",
       "    <tr>\n",
       "      <td>20</td>\n",
       "      <td>0.457700</td>\n",
       "      <td>0.581896</td>\n",
       "      <td>0.720000</td>\n",
       "      <td>0.814100</td>\n",
       "      <td>0.740700</td>\n",
       "      <td>0.695700</td>\n",
       "      <td>0.666700</td>\n",
       "      <td>0.800000</td>\n",
       "      <td>0.833300</td>\n",
       "      <td>0.615400</td>\n",
       "      <td>0.733300</td>\n",
       "      <td>0.724400</td>\n",
       "      <td>0.718200</td>\n",
       "    </tr>\n",
       "    <tr>\n",
       "      <td>21</td>\n",
       "      <td>0.453100</td>\n",
       "      <td>0.576960</td>\n",
       "      <td>0.720000</td>\n",
       "      <td>0.820500</td>\n",
       "      <td>0.740700</td>\n",
       "      <td>0.695700</td>\n",
       "      <td>0.666700</td>\n",
       "      <td>0.800000</td>\n",
       "      <td>0.833300</td>\n",
       "      <td>0.615400</td>\n",
       "      <td>0.733300</td>\n",
       "      <td>0.724400</td>\n",
       "      <td>0.718200</td>\n",
       "    </tr>\n",
       "    <tr>\n",
       "      <td>22</td>\n",
       "      <td>0.431600</td>\n",
       "      <td>0.576047</td>\n",
       "      <td>0.720000</td>\n",
       "      <td>0.820500</td>\n",
       "      <td>0.740700</td>\n",
       "      <td>0.695700</td>\n",
       "      <td>0.666700</td>\n",
       "      <td>0.800000</td>\n",
       "      <td>0.833300</td>\n",
       "      <td>0.615400</td>\n",
       "      <td>0.733300</td>\n",
       "      <td>0.724400</td>\n",
       "      <td>0.718200</td>\n",
       "    </tr>\n",
       "    <tr>\n",
       "      <td>23</td>\n",
       "      <td>0.443200</td>\n",
       "      <td>0.571676</td>\n",
       "      <td>0.720000</td>\n",
       "      <td>0.820500</td>\n",
       "      <td>0.740700</td>\n",
       "      <td>0.695700</td>\n",
       "      <td>0.666700</td>\n",
       "      <td>0.800000</td>\n",
       "      <td>0.833300</td>\n",
       "      <td>0.615400</td>\n",
       "      <td>0.733300</td>\n",
       "      <td>0.724400</td>\n",
       "      <td>0.718200</td>\n",
       "    </tr>\n",
       "    <tr>\n",
       "      <td>24</td>\n",
       "      <td>0.439700</td>\n",
       "      <td>0.570032</td>\n",
       "      <td>0.720000</td>\n",
       "      <td>0.814100</td>\n",
       "      <td>0.740700</td>\n",
       "      <td>0.695700</td>\n",
       "      <td>0.666700</td>\n",
       "      <td>0.800000</td>\n",
       "      <td>0.833300</td>\n",
       "      <td>0.615400</td>\n",
       "      <td>0.733300</td>\n",
       "      <td>0.724400</td>\n",
       "      <td>0.718200</td>\n",
       "    </tr>\n",
       "    <tr>\n",
       "      <td>25</td>\n",
       "      <td>0.437400</td>\n",
       "      <td>0.569611</td>\n",
       "      <td>0.720000</td>\n",
       "      <td>0.820500</td>\n",
       "      <td>0.740700</td>\n",
       "      <td>0.695700</td>\n",
       "      <td>0.666700</td>\n",
       "      <td>0.800000</td>\n",
       "      <td>0.833300</td>\n",
       "      <td>0.615400</td>\n",
       "      <td>0.733300</td>\n",
       "      <td>0.724400</td>\n",
       "      <td>0.718200</td>\n",
       "    </tr>\n",
       "    <tr>\n",
       "      <td>26</td>\n",
       "      <td>0.419400</td>\n",
       "      <td>0.568342</td>\n",
       "      <td>0.720000</td>\n",
       "      <td>0.820500</td>\n",
       "      <td>0.740700</td>\n",
       "      <td>0.695700</td>\n",
       "      <td>0.666700</td>\n",
       "      <td>0.800000</td>\n",
       "      <td>0.833300</td>\n",
       "      <td>0.615400</td>\n",
       "      <td>0.733300</td>\n",
       "      <td>0.724400</td>\n",
       "      <td>0.718200</td>\n",
       "    </tr>\n",
       "    <tr>\n",
       "      <td>27</td>\n",
       "      <td>0.441100</td>\n",
       "      <td>0.568370</td>\n",
       "      <td>0.720000</td>\n",
       "      <td>0.826900</td>\n",
       "      <td>0.740700</td>\n",
       "      <td>0.695700</td>\n",
       "      <td>0.666700</td>\n",
       "      <td>0.800000</td>\n",
       "      <td>0.833300</td>\n",
       "      <td>0.615400</td>\n",
       "      <td>0.733300</td>\n",
       "      <td>0.724400</td>\n",
       "      <td>0.718200</td>\n",
       "    </tr>\n",
       "    <tr>\n",
       "      <td>28</td>\n",
       "      <td>0.410100</td>\n",
       "      <td>0.568356</td>\n",
       "      <td>0.720000</td>\n",
       "      <td>0.826900</td>\n",
       "      <td>0.740700</td>\n",
       "      <td>0.695700</td>\n",
       "      <td>0.666700</td>\n",
       "      <td>0.800000</td>\n",
       "      <td>0.833300</td>\n",
       "      <td>0.615400</td>\n",
       "      <td>0.733300</td>\n",
       "      <td>0.724400</td>\n",
       "      <td>0.718200</td>\n",
       "    </tr>\n",
       "    <tr>\n",
       "      <td>29</td>\n",
       "      <td>0.433300</td>\n",
       "      <td>0.567932</td>\n",
       "      <td>0.720000</td>\n",
       "      <td>0.826900</td>\n",
       "      <td>0.740700</td>\n",
       "      <td>0.695700</td>\n",
       "      <td>0.666700</td>\n",
       "      <td>0.800000</td>\n",
       "      <td>0.833300</td>\n",
       "      <td>0.615400</td>\n",
       "      <td>0.733300</td>\n",
       "      <td>0.724400</td>\n",
       "      <td>0.718200</td>\n",
       "    </tr>\n",
       "  </tbody>\n",
       "</table><p>"
      ],
      "text/plain": [
       "<IPython.core.display.HTML object>"
      ]
     },
     "metadata": {},
     "output_type": "display_data"
    },
    {
     "name": "stdout",
     "output_type": "stream",
     "text": [
      "\n",
      "🧪 Avaliação final do melhor modelo no conjunto de teste...\n"
     ]
    },
    {
     "data": {
      "text/html": [
       "\n",
       "    <div>\n",
       "      \n",
       "      <progress value='4' max='4' style='width:300px; height:20px; vertical-align: middle;'></progress>\n",
       "      [4/4 00:00]\n",
       "    </div>\n",
       "    "
      ],
      "text/plain": [
       "<IPython.core.display.HTML object>"
      ]
     },
     "metadata": {},
     "output_type": "display_data"
    },
    {
     "data": {
      "image/png": "[encoded data removed]",
      "text/plain": [
       "<Figure size 1000x500 with 1 Axes>"
      ]
     },
     "metadata": {},
     "output_type": "display_data"
    }
   ],
   "source": [
    "train_losses_plot, val_losses_plot, test_losses_plot = [], [], []\n",
    "train_accuracies_plot, val_accuracies_plot, test_accuracies_plot = [], [], []\n",
    "\n",
    "# Configuração dos argumentos de treinamento\n",
    "training_args = TrainingArguments(\n",
    "    output_dir=\"./bertimbau-denuncias\",\n",
    "    per_device_train_batch_size=8,\n",
    "    per_device_eval_batch_size=8,\n",
    "    learning_rate=3e-5,\n",
    "    num_train_epochs=30,\n",
    "    eval_strategy=\"epoch\",        # Avaliar no conjunto de validação ao final de cada época\n",
    "    save_strategy=\"epoch\",        # Salvar checkpoint ao final de cada época\n",
    "    logging_strategy=\"epoch\", # Registrar métricas ao final de cada época\n",
    "    load_best_model_at_end=True,  # Carregar o melhor modelo (baseado na métrica de validação) ao final do treino\n",
    "    metric_for_best_model=\"eval_loss\",\n",
    "    greater_is_better=False,\n",
    "    logging_dir=\"./logs\",\n",
    "    logging_steps=10,\n",
    "    disable_tqdm=False,\n",
    "    report_to=\"none\",             # Desativar report para plataformas como Weights & Biases\n",
    "    fp16=True,                    # Habilitar mixed precision training\n",
    "    seed=42,\n",
    "    gradient_accumulation_steps=1,\n",
    "    remove_unused_columns=True,\n",
    "    label_names=[\"labels\"]\n",
    ")\n",
    "\n",
    "# Data Collator para padding dinâmico\n",
    "data_collator = DataCollatorWithPadding(tokenizer=tokenizer)\n",
    "\n",
    "# Custom Dataset (para trabalhar com DataFrames)\n",
    "class CustomDataset(TorchDataset):\n",
    "    def __init__(self, encodings, labels):\n",
    "        # Converte para tensor e garante que encodings.items() tem os valores corretos\n",
    "        self.encodings = {key: torch.tensor(val) for key, val in encodings.items()}\n",
    "        # Converte labels para tensor, lidando com pd.Series ou listas/arrays\n",
    "        self.labels = torch.tensor(labels.values if isinstance(labels, pd.Series) else labels)\n",
    "\n",
    "    def __getitem__(self, idx):\n",
    "        item = {key: val[idx] for key, val in self.encodings.items()}\n",
    "        item['labels'] = self.labels[idx]\n",
    "        return item\n",
    "\n",
    "    def __len__(self):\n",
    "        return len(self.labels)\n",
    "\n",
    "# Criar datasets\n",
    "# Assegure que train_df, val_df, test_df e label2id estejam definidos.\n",
    "# .tolist() é importante para garantir que labels sejam um tipo Python nativo antes de converter para tensor no CustomDataset.\n",
    "train_dataset = CustomDataset(train_encodings, train_df['classe'].map(label2id).tolist())\n",
    "val_dataset = CustomDataset(val_encodings, val_df['classe'].map(label2id).tolist())\n",
    "test_dataset = CustomDataset(test_encodings, test_df['classe'].map(label2id).tolist())\n",
    "\n",
    "# Instanciar o Trainer\n",
    "trainer = Trainer(\n",
    "    model=model,\n",
    "    args=training_args,\n",
    "    train_dataset=train_dataset,\n",
    "    eval_dataset=val_dataset, # O trainer usará este para avaliação automática por época\n",
    "    callbacks=[EarlyStoppingCallback(early_stopping_patience=3, early_stopping_threshold = 1e-3)],\n",
    "    compute_metrics=compute_metrics\n",
    ")\n",
    "\n",
    "try:\n",
    "    print(\"\\n🚀 Iniciando treinamento...\")\n",
    "\n",
    "    # O trainer.train() irá executar o treinamento e as avaliações de validação\n",
    "    # por época, além de carregar o melhor modelo no final.\n",
    "    train_results = trainer.train()\n",
    "\n",
    "    # --- Extrair métricas dos logs para os gráficos ---\n",
    "    # Os logs contêm as métricas de treino e validação por época\n",
    "    logs = trainer.state.log_history\n",
    "\n",
    "    # Iterar sobre os logs para preencher as listas de plotagem\n",
    "    for log_entry in logs:\n",
    "        # Perdas de Treino: o 'loss' é logado para o treinamento\n",
    "        if 'loss' in log_entry and 'eval_loss' not in log_entry:\n",
    "            train_losses_plot.append(log_entry['loss'])\n",
    "\n",
    "        # Métricas de Validação: logadas com prefixo 'eval_'\n",
    "        if 'eval_loss' in log_entry and 'eval_accuracy' in log_entry:\n",
    "            val_losses_plot.append(log_entry['eval_loss'])\n",
    "            val_accuracies_plot.append(log_entry['eval_accuracy'])\n",
    "\n",
    "    # --- Avaliação final do melhor modelo no conjunto de teste ---\n",
    "    # Este é o ponto mais importante para as métricas finais do seu modelo.\n",
    "    print(\"\\n🧪 Avaliação final do melhor modelo no conjunto de teste...\")\n",
    "    final_test_metrics = trainer.evaluate(test_dataset)\n",
    "\n",
    "    # --- 📊 Gráficos de comparação por época ---\n",
    "\n",
    "    # O número de épocas para plotagem será o número de avaliações de validação registradas\n",
    "    epochs_completed = len(val_accuracies_plot)\n",
    "    epochs_to_plot = list(range(1, epochs_completed + 1))\n",
    "\n",
    "    train_losses_for_plot = train_losses_plot[-epochs_completed:] if len(train_losses_plot) >= epochs_completed else train_losses_plot\n",
    "\n",
    "    if not epochs_to_plot:\n",
    "        print(\"\\nNão há dados suficientes para gerar os gráficos. Verifique o processo de treinamento e coleta de métricas.\")\n",
    "    else:\n",
    "        # Loss por época (Treino, Validação)\n",
    "        plt.figure(figsize=(10, 5))\n",
    "        plt.plot(epochs_to_plot, train_losses_for_plot, label=\"Treino\", marker='o')\n",
    "        plt.plot(epochs_to_plot, val_losses_plot, label=\"Validação\", marker='o')\n",
    "        # Plotar o resultado final do teste como um ponto ou linha horizontal.\n",
    "        plt.xlabel(\"Época\")\n",
    "        plt.ylabel(\"Loss\")\n",
    "        plt.title(\"Loss por Época (Treino, Validação)\")\n",
    "        plt.legend()\n",
    "        plt.grid(True)\n",
    "        plt.show()\n",
    "\n",
    "except Exception as e:\n",
    "    print(f\"An error occurred during training or evaluation: {e}\")"
   ]
  },
  {
   "cell_type": "markdown",
   "metadata": {
    "id": "fFSsNAWvaQQs"
   },
   "source": [
    "# **6. AVALIAÇÃO FINAL NO TESTE**"
   ]
  },
  {
   "cell_type": "code",
   "execution_count": null,
   "metadata": {
    "colab": {
     "base_uri": "https://localhost:8080/",
     "height": 345
    },
    "id": "0a5gLzc6aQuU",
    "outputId": "d0dbbac2-dc53-44f3-c1a0-d326fa9ef3b3"
   },
   "outputs": [
    {
     "name": "stdout",
     "output_type": "stream",
     "text": [
      "\n",
      "\n",
      "==================== RESULTADOS FINAIS DO MODELO ====================\n",
      "\n",
      "Avaliação no conjunto de teste:\n"
     ]
    },
    {
     "data": {
      "text/html": [],
      "text/plain": [
       "<IPython.core.display.HTML object>"
      ]
     },
     "metadata": {},
     "output_type": "display_data"
    },
    {
     "name": "stdout",
     "output_type": "stream",
     "text": [
      "test_loss: 0.5263413786888123\n",
      "test_accuracy: 0.6923\n",
      "test_auc: 0.8225\n",
      "test_f1_invasao: 0.6923\n",
      "test_f1_violencia: 0.6923\n",
      "test_precision_invasao: 0.6923\n",
      "test_precision_violencia: 0.6923\n",
      "test_recall_invasao: 0.6923\n",
      "test_recall_violencia: 0.6923\n",
      "test_precision_macro: 0.6923\n",
      "test_recall_macro: 0.6923\n",
      "test_f1_macro: 0.6923\n",
      "test_runtime: 0.169\n",
      "test_samples_per_second: 153.839\n",
      "test_steps_per_second: 23.668\n"
     ]
    }
   ],
   "source": [
    "print(\"\\n\\n==================== RESULTADOS FINAIS DO MODELO ====================\")\n",
    "print(\"\\nAvaliação no conjunto de teste:\")\n",
    "\n",
    "test_results = trainer.predict(test_dataset)\n",
    "final_metrics = test_results.metrics\n",
    "\n",
    "for metric, value in final_metrics.items():\n",
    "    print(f\"{metric}: {value}\")"
   ]
  },
  {
   "cell_type": "markdown",
   "metadata": {
    "id": "1SLL_XiZaSle"
   },
   "source": [
    "# **7. SALVAR MODELO E DADOS DE RESULTADOS**"
   ]
  },
  {
   "cell_type": "code",
   "execution_count": null,
   "metadata": {
    "colab": {
     "base_uri": "https://localhost:8080/"
    },
    "id": "PbEnj8O5aUmx",
    "outputId": "68db1dc5-ee25-45ff-ba9f-e72136cf8528"
   },
   "outputs": [
    {
     "name": "stdout",
     "output_type": "stream",
     "text": [
      "Modelo salvo no Google Drive!\n",
      "Resultados de teste (texto, rótulo verdadeiro, rótulo predito) salvos em: /content/drive/MyDrive/2025/tcc-final/resultados/resultados_fine_tuning.xlsx\n",
      "Métricas finais salvas em: /content/drive/MyDrive/2025/tcc-final/resultados/metricas_finais.txt\n",
      "\n",
      "Tempo total de execução do script: 332.48 segundos\n"
     ]
    }
   ],
   "source": [
    "model.save_pretrained(\"/content/drive/MyDrive/2025/tcc-final/resultados/modelo_bertimbau_final\")\n",
    "tokenizer.save_pretrained(\"/content/drive/MyDrive/2025/tcc-final/resultados/modelo_bertimbau_final\")\n",
    "print(\"Modelo salvo no Google Drive!\")\n",
    "\n",
    "# Salvar resultados do treinamento e rótulos/previsões finais\n",
    "output_results_path = \"/content/drive/MyDrive/2025/tcc-final/resultados/resultados_fine_tuning.xlsx\"\n",
    "\n",
    "# Get the predictions from the test_results object\n",
    "predictions = np.argmax(test_results.predictions, axis=1)\n",
    "\n",
    "\n",
    "# Criar um DataFrame para os resultados de teste\n",
    "results_df = pd.DataFrame({\n",
    "    'texto': test_df['texto'],\n",
    "    'rotulo_verdadeiro': test_df['classe'],\n",
    "    'rotulo_predito_id': predictions,\n",
    "    'rotulo_predito': [id2label[p] for p in predictions]\n",
    "})\n",
    "\n",
    "# Salvar o DataFrame de resultados em um arquivo Excel\n",
    "results_df.to_excel(output_results_path, index=False)\n",
    "print(f\"Resultados de teste (texto, rótulo verdadeiro, rótulo predito) salvos em: {output_results_path}\")\n",
    "\n",
    "# Salvar as métricas finais em um arquivo de texto ou CSV\n",
    "metrics_output_path = \"/content/drive/MyDrive/2025/tcc-final/resultados/metricas_finais.txt\"\n",
    "with open(metrics_output_path, 'w') as f:\n",
    "    f.write(\"Métricas Finais da Avaliação no Conjunto de Teste:\\n\")\n",
    "    for metric_name, value in final_metrics.items():\n",
    "        f.write(f\"{metric_name}: {value:.4f}\\n\")\n",
    "print(f\"Métricas finais salvas em: {metrics_output_path}\")\n",
    "\n",
    "# --- FIM DO CONTADOR DE TEMPO ---\n",
    "end_total_time = time.time()\n",
    "total_execution_time = end_total_time - start_total_time\n",
    "print(f\"\\nTempo total de execução do script: {total_execution_time:.2f} segundos\")"
   ]
  }
 ],
 "metadata": {
  "accelerator": "GPU",
  "colab": {
   "gpuType": "T4",
   "provenance": []
  },
  "kernelspec": {
   "display_name": "Python 3",
   "name": "python3"
  },
  "language_info": {
   "name": "python"
  }
 },
 "nbformat": 4,
 "nbformat_minor": 0
}
